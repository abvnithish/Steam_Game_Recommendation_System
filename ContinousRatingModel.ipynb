{
 "cells": [
  {
   "cell_type": "code",
   "execution_count": 111,
   "metadata": {},
   "outputs": [
    {
     "name": "stderr",
     "output_type": "stream",
     "text": [
      "/home/raghavjajodia/anaconda3/lib/python3.7/site-packages/ipykernel_launcher.py:9: DeprecationWarning: numpy.core.umath_tests is an internal NumPy module and should not be imported. It will be removed in a future NumPy release.\n",
      "  if __name__ == '__main__':\n"
     ]
    }
   ],
   "source": [
    "import pandas as pd\n",
    "import numpy as np\n",
    "import matplotlib.pyplot as plt\n",
    "import random\n",
    "import implicit\n",
    "import scipy.sparse as sparse\n",
    "from scipy.sparse.linalg import spsolve\n",
    "from sklearn.preprocessing import MinMaxScaler\n",
    "from numpy.core.umath_tests import inner1d"
   ]
  },
  {
   "cell_type": "code",
   "execution_count": 42,
   "metadata": {},
   "outputs": [
    {
     "name": "stderr",
     "output_type": "stream",
     "text": [
      "/home/raghavjajodia/anaconda3/lib/python3.7/site-packages/numpy/lib/arraysetops.py:522: FutureWarning: elementwise comparison failed; returning scalar instead, but in the future will perform elementwise comparison\n",
      "  mask |= (ar1 == a)\n"
     ]
    }
   ],
   "source": [
    "full_data = pd.read_csv('data/final_data.csv', index_col = 0)"
   ]
  },
  {
   "cell_type": "code",
   "execution_count": 139,
   "metadata": {},
   "outputs": [],
   "source": [
    "class cdfTransformer(object):\n",
    "    \n",
    "    transformerSeries = {}\n",
    "    \n",
    "    def __init__(self, useridcolname, itemidcolname, ratingcolname):\n",
    "        self.userid_colname = useridcolname\n",
    "        self.itemid_colname = itemidcolname\n",
    "        self.rating_colname = ratingcolname\n",
    "    \n",
    "    def getLowerOrEqualIndex(self,playtimeList, playtime):\n",
    "        if playtime < playtimeList[0]:\n",
    "            return 0\n",
    "        ans = 0\n",
    "        low = 0\n",
    "        high = len(playtimeList) - 1\n",
    "        while(low<=high):\n",
    "            mid = low + (high-low)//2\n",
    "            if playtime > playtimeList[mid]:\n",
    "                ans = mid\n",
    "                low = mid + 1\n",
    "            elif playtime == playtimeList[mid]:\n",
    "                return mid\n",
    "            else:\n",
    "                high = mid - 1\n",
    "        return ans      \n",
    "    \n",
    "    def getNearestCdf(self,appid, playtime):\n",
    "        playtimeList = self.transformerSeries[appid].index\n",
    "        bestpos = self.getLowerOrEqualIndex(playtimeList, playtime)\n",
    "        return self.transformerSeries[appid].iloc[bestpos]\n",
    "    \n",
    "    def fitTransform(self,tupledata):\n",
    "        grouped1 = tupledata.groupby([self.itemid_colname,self.rating_colname]).count()\n",
    "        grouped2 = grouped1.groupby(level=[0]).cumsum()\n",
    "        grouped3 = grouped2.groupby(level = [0]).max()\n",
    "        withcdf = grouped2/grouped3\n",
    "        self.transformerSeries = pd.Series(withcdf[self.userid_colname],index=withcdf.index)\n",
    "        withcdf_df = withcdf.reset_index(level=[0,1])\n",
    "        withcdf_df.rename(columns={self.userid_colname:self.rating_colname}, inplace=True)\n",
    "        finaltuple = pd.merge(withcdf_df,tupledata, on=[self.itemid_colname,self.rating_colname],how='inner',suffixes=('_newdf',''))\n",
    "        return finaltuple\n",
    "\n",
    "    def Transform(self,tupledata):\n",
    "        ansdata = tupledata.groupby([self.itemid_colname,self.rating_colname]).count().reset_index()\n",
    "        ansdata.drop(self.userid_colname, inplace = True, axis = 1)\n",
    "        ansdata[self.rating_colname] =  ansdata.apply(lambda x: self.getNearestCdf(x[self.itemid_colname],x[self.rating_colname]), axis = 1)\n",
    "        return ansdata"
   ]
  },
  {
   "cell_type": "code",
   "execution_count": 60,
   "metadata": {},
   "outputs": [],
   "source": [
    "def train_test_split(dff, split_ratio = 0.8):\n",
    "    \n",
    "    tr_sample = dff.groupby('sid').apply(lambda x:x.sample(frac = 0.8))\n",
    "    tr_sample_index = list(zip(*tr_sample.index))[1]\n",
    "    te_sample = dff[(dff.index.isin(tr_sample_index) == False)]\n",
    "    \n",
    "    tr_sample.index.rename(['id', 'appid_level'], inplace=True)\n",
    "    tr_sample.reset_index(drop = True, inplace = True)\n",
    "    te_sample.reset_index(drop = True, inplace = True)\n",
    "    \n",
    "    return tr_sample, te_sample"
   ]
  },
  {
   "cell_type": "code",
   "execution_count": 34,
   "metadata": {},
   "outputs": [
    {
     "data": {
      "text/plain": [
       "(12982, 13845, 10)"
      ]
     },
     "execution_count": 34,
     "metadata": {},
     "output_type": "execute_result"
    }
   ],
   "source": [
    "N = full_data['appid'].nunique()\n",
    "M = full_data['steamid'].nunique()\n",
    "\n",
    "#Number of hyperparameter, hyperparameter\n",
    "K = 10\n",
    "N,M,K\n",
    "#-------------------------\n",
    "# LOAD AND PREP THE DATA\n",
    "#-------------------------\n",
    " \n",
    "#  \n",
    " # Convert artists names into numerical IDs\n",
    " #data['user_id'] = data['user'].astype(\"category\").cat.codes\n",
    " #data['artist_id'] = data['artist'].astype(\"category\").cat.codes\n",
    " \n",
    " # Create a lookup frame so we can get the artist names back in \n",
    " # readable form later.\n",
    " #item_lookup = data[['artist_id', 'artist']].drop_duplicates()\n",
    " #item_lookup['artist_id'] = item_lookup.artist_id.astype(str)\n",
    " \n",
    " #data = data.drop(['user', 'artist'], axis=1)"
   ]
  },
  {
   "cell_type": "code",
   "execution_count": 204,
   "metadata": {},
   "outputs": [],
   "source": [
    "class matrixFactorizer(object):\n",
    "    \n",
    "    def __init__(self, latentFactors = 3, max_iterations = 20, reg = 0.01):        \n",
    "        self.numLatent = latentFactors\n",
    "        self.max_iterations = max_iterations\n",
    "        self.reg = reg\n",
    "    \n",
    "    def fit(self,train_ratingsbyuser, train_ratingsbyitem, total_users, total_items):\n",
    "        self.U = np.random.randn(total_users, self.numLatent) / self.numLatent\n",
    "        self.V = np.random.randn(self.numLatent, total_items) / self.numLatent\n",
    "        \n",
    "        for t in range(self.max_iterations):\n",
    "          # update U\n",
    "          for i in range(total_users):\n",
    "            if i in train_ratingsbyuser:\n",
    "              matrix = np.zeros((K, K)) + self.reg*np.eye(K)\n",
    "              vector = np.zeros(K)\n",
    "              for j, r in train_ratingsbyuser[i]:\n",
    "                matrix += np.outer(self.V[:,j], self.V[:,j])\n",
    "                vector += (r)*V[:,j]\n",
    "              self.U[i,:] = np.linalg.solve(matrix, vector)\n",
    "\n",
    "          # update V\n",
    "          for j in range(total_items):\n",
    "            if j in train_ratingsbyitem:\n",
    "              matrix = np.zeros((K, K)) + self.reg*np.eye(K)\n",
    "              vector = np.zeros(K)\n",
    "              for i, r in train_ratingsbyitem[j]:\n",
    "                matrix += np.outer(self.U[i,:], self.U[i,:])\n",
    "                vector += (r)*U[i,:]\n",
    "              self.V[:,j] = np.linalg.solve(matrix, vector)\n",
    "    \n",
    "    def predict(self, user_u, item_i):\n",
    "        return inner1d(self.U[user_u,:],np.transpose(self.V)[item_i,:])"
   ]
  },
  {
   "cell_type": "code",
   "execution_count": 45,
   "metadata": {},
   "outputs": [],
   "source": [
    "def constructCodes(df) :\n",
    "    \"\"\"\n",
    "    Maps 'steamid' to categorical code 'sid'\n",
    "    Maps 'appid' to categorical code 'aid'\n",
    "    Returns :\n",
    "        1. Dataframe with columns 'sid', 'aid', 'playtime_forever'\n",
    "        2. Dictionary mapping 'steamid' to 'sid'\n",
    "        3. Dictionary mapping 'sid' to 'steamid'\n",
    "        4. Dictionary mapping 'appid' to 'aid'\n",
    "        5. Dictionary mapping 'aid' to 'appid'\n",
    "    \"\"\"\n",
    "    coded_df = df.copy(deep = True)\n",
    "    coded_df[\"steamid\"] = coded_df[\"steamid\"].astype(\"category\")\n",
    "    coded_df[\"appid\"] = coded_df[\"appid\"].astype(\"category\")\n",
    "    coded_df[\"sid\"] = coded_df[\"steamid\"].cat.codes\n",
    "    coded_df[\"aid\"] = coded_df[\"appid\"].cat.codes\n",
    "    \n",
    "    sid_to_steamid = dict(enumerate(coded_df[\"steamid\"].cat.categories))\n",
    "    aid_to_appid = dict(enumerate(coded_df[\"appid\"].cat.categories))\n",
    "    steamid_to_sid = {v : k for k, v in sid_to_steamid.items()}\n",
    "    appid_to_aid = {v : k for k, v in aid_to_appid.items()}\n",
    "    \n",
    "    coded_df.drop([\"steamid\", \"appid\"], axis = 1, inplace = True)\n",
    "    \n",
    "    return(coded_df, steamid_to_sid, sid_to_steamid, appid_to_aid, aid_to_appid)"
   ]
  },
  {
   "cell_type": "code",
   "execution_count": 46,
   "metadata": {},
   "outputs": [],
   "source": [
    "def constructSparseMatrices(df) :\n",
    "    \"\"\"\n",
    "    Constructs sparse matrices that will be used in ALS optimization\n",
    "    Input : Dataframe with columns - 'sid', 'aid', 'playtime_forever'\n",
    "    \n",
    "    Returns :\n",
    "        1. User x Item Sparse Matrix\n",
    "        2. Item x User Sparse Matrix\n",
    "    \"\"\"\n",
    "    data_useritem = sparse.csr_matrix((df[\"playtime_forever\"], (df[\"sid\"], df[\"aid\"])))\n",
    "    data_itemuser = sparse.csr_matrix((df[\"playtime_forever\"], (df[\"aid\"], df[\"sid\"])))\n",
    "    \n",
    "    sid_unique = df[\"sid\"].nunique()\n",
    "    aid_unique = df[\"aid\"].nunique()\n",
    "    \n",
    "    assert data_useritem.shape == (sid_unique, aid_unique)\n",
    "    assert data_itemuser.shape == (aid_unique, sid_unique)\n",
    "    \n",
    "    return(data_useritem, data_itemuser)"
   ]
  },
  {
   "cell_type": "code",
   "execution_count": 133,
   "metadata": {},
   "outputs": [],
   "source": [
    "def trainModel(data, factors, epochs, conf_func, alpha, lmbda) :\n",
    "    \"\"\"\n",
    "    Builds and trains Implicit Matrix Factorization model.\n",
    "    Input :\n",
    "        1. data - Item x User Sparse Matrix\n",
    "        2. factors - Number of latent factors\n",
    "        3. epochs - Number of iterations of ALS over the training data\n",
    "        4. conf_func - Confidence function\n",
    "        5. alpha - Confidence parameter\n",
    "        6. lmbda - Regularization parameter\n",
    "        \n",
    "    Output : model\n",
    "    \"\"\"\n",
    "    model = implicit.als.AlternatingLeastSquares(factors = factors, regularization = lmbda, iterations = epochs)\n",
    "    if conf_func == \"linear\" :\n",
    "        model.fit(alpha * data)\n",
    "    else :\n",
    "        print(\"{} is not a valid choice for conf_func. Choose one of the following : 'linear'\".format(conf_func))\n",
    "        return(None)\n",
    "    return(model)"
   ]
  },
  {
   "cell_type": "code",
   "execution_count": 132,
   "metadata": {},
   "outputs": [],
   "source": [
    "def evaluateValidationLoss(item_factors, user_factors, testtuples, itemidcolname, useridcolname, ratingcolname):\n",
    "    \"\"\"\n",
    "    Input :\n",
    "        1. item_factors - items * latentsize\n",
    "        2. user_factors - users * latentsize\n",
    "    Output : validationloss\n",
    "    \"\"\"\n",
    "    predictions = inner1d(item_factors[testtuples[itemidcolname],:],user_factors[testtuples[useridcolname],:])\n",
    "    return np.sqrt((((testtuples[ratingcolname] - predictions)**2).dot(np.ones(testtuples.shape[0])))/testtuples.shape[0])"
   ]
  },
  {
   "cell_type": "code",
   "execution_count": 56,
   "metadata": {},
   "outputs": [],
   "source": [
    "coded_data, steamidtosid, sidtosteamid, appidtoaid, aidtoappid = constructCodes(full_data)"
   ]
  },
  {
   "cell_type": "code",
   "execution_count": 67,
   "metadata": {},
   "outputs": [],
   "source": [
    "train,test = train_test_split(coded_data)\n",
    "cdftransformerobj = cdfTransformer()\n",
    "traintuples = cdftransformerobj.fitTransform(train)\n",
    "testtuples = cdftransformerobj.Transform(test)"
   ]
  },
  {
   "cell_type": "code",
   "execution_count": 74,
   "metadata": {},
   "outputs": [
    {
     "data": {
      "text/html": [
       "<div>\n",
       "<style scoped>\n",
       "    .dataframe tbody tr th:only-of-type {\n",
       "        vertical-align: middle;\n",
       "    }\n",
       "\n",
       "    .dataframe tbody tr th {\n",
       "        vertical-align: top;\n",
       "    }\n",
       "\n",
       "    .dataframe thead th {\n",
       "        text-align: right;\n",
       "    }\n",
       "</style>\n",
       "<table border=\"1\" class=\"dataframe\">\n",
       "  <thead>\n",
       "    <tr style=\"text-align: right;\">\n",
       "      <th></th>\n",
       "      <th>aid</th>\n",
       "      <th>playtime_forever</th>\n",
       "      <th>playtime_cdf</th>\n",
       "    </tr>\n",
       "  </thead>\n",
       "  <tbody>\n",
       "    <tr>\n",
       "      <th>0</th>\n",
       "      <td>0</td>\n",
       "      <td>1</td>\n",
       "      <td>0.096587</td>\n",
       "    </tr>\n",
       "    <tr>\n",
       "      <th>1</th>\n",
       "      <td>0</td>\n",
       "      <td>2</td>\n",
       "      <td>0.113652</td>\n",
       "    </tr>\n",
       "    <tr>\n",
       "      <th>2</th>\n",
       "      <td>0</td>\n",
       "      <td>3</td>\n",
       "      <td>0.130717</td>\n",
       "    </tr>\n",
       "    <tr>\n",
       "      <th>3</th>\n",
       "      <td>0</td>\n",
       "      <td>4</td>\n",
       "      <td>0.144027</td>\n",
       "    </tr>\n",
       "    <tr>\n",
       "      <th>4</th>\n",
       "      <td>0</td>\n",
       "      <td>5</td>\n",
       "      <td>0.152218</td>\n",
       "    </tr>\n",
       "  </tbody>\n",
       "</table>\n",
       "</div>"
      ],
      "text/plain": [
       "   aid  playtime_forever  playtime_cdf\n",
       "0    0                 1      0.096587\n",
       "1    0                 2      0.113652\n",
       "2    0                 3      0.130717\n",
       "3    0                 4      0.144027\n",
       "4    0                 5      0.152218"
      ]
     },
     "execution_count": 74,
     "metadata": {},
     "output_type": "execute_result"
    }
   ],
   "source": [
    "testtuples.head()"
   ]
  },
  {
   "cell_type": "code",
   "execution_count": 76,
   "metadata": {},
   "outputs": [
    {
     "data": {
      "text/html": [
       "<div>\n",
       "<style scoped>\n",
       "    .dataframe tbody tr th:only-of-type {\n",
       "        vertical-align: middle;\n",
       "    }\n",
       "\n",
       "    .dataframe tbody tr th {\n",
       "        vertical-align: top;\n",
       "    }\n",
       "\n",
       "    .dataframe thead th {\n",
       "        text-align: right;\n",
       "    }\n",
       "</style>\n",
       "<table border=\"1\" class=\"dataframe\">\n",
       "  <thead>\n",
       "    <tr style=\"text-align: right;\">\n",
       "      <th></th>\n",
       "      <th>aid</th>\n",
       "      <th>playtime_cdf</th>\n",
       "      <th>sid</th>\n",
       "    </tr>\n",
       "  </thead>\n",
       "  <tbody>\n",
       "    <tr>\n",
       "      <th>0</th>\n",
       "      <td>0</td>\n",
       "      <td>0.096587</td>\n",
       "      <td>73</td>\n",
       "    </tr>\n",
       "    <tr>\n",
       "      <th>1</th>\n",
       "      <td>0</td>\n",
       "      <td>0.096587</td>\n",
       "      <td>74</td>\n",
       "    </tr>\n",
       "    <tr>\n",
       "      <th>2</th>\n",
       "      <td>0</td>\n",
       "      <td>0.096587</td>\n",
       "      <td>75</td>\n",
       "    </tr>\n",
       "    <tr>\n",
       "      <th>3</th>\n",
       "      <td>0</td>\n",
       "      <td>0.096587</td>\n",
       "      <td>76</td>\n",
       "    </tr>\n",
       "    <tr>\n",
       "      <th>4</th>\n",
       "      <td>0</td>\n",
       "      <td>0.096587</td>\n",
       "      <td>77</td>\n",
       "    </tr>\n",
       "  </tbody>\n",
       "</table>\n",
       "</div>"
      ],
      "text/plain": [
       "   aid  playtime_cdf  sid\n",
       "0    0      0.096587   73\n",
       "1    0      0.096587   74\n",
       "2    0      0.096587   75\n",
       "3    0      0.096587   76\n",
       "4    0      0.096587   77"
      ]
     },
     "execution_count": 76,
     "metadata": {},
     "output_type": "execute_result"
    }
   ],
   "source": [
    "traintuples.drop('playtime_forever', axis = 1, inplace=True)\n",
    "traintuples.head()"
   ]
  },
  {
   "cell_type": "code",
   "execution_count": 77,
   "metadata": {},
   "outputs": [],
   "source": [
    "traintuples.rename(columns={\"playtime_cdf\":\"playtime_forever\"}, inplace=True)"
   ]
  },
  {
   "cell_type": "code",
   "execution_count": 81,
   "metadata": {
    "scrolled": false
   },
   "outputs": [
    {
     "data": {
      "text/html": [
       "<div>\n",
       "<style scoped>\n",
       "    .dataframe tbody tr th:only-of-type {\n",
       "        vertical-align: middle;\n",
       "    }\n",
       "\n",
       "    .dataframe tbody tr th {\n",
       "        vertical-align: top;\n",
       "    }\n",
       "\n",
       "    .dataframe thead th {\n",
       "        text-align: right;\n",
       "    }\n",
       "</style>\n",
       "<table border=\"1\" class=\"dataframe\">\n",
       "  <thead>\n",
       "    <tr style=\"text-align: right;\">\n",
       "      <th></th>\n",
       "      <th>aid</th>\n",
       "      <th>playtime_forever</th>\n",
       "      <th>sid</th>\n",
       "    </tr>\n",
       "  </thead>\n",
       "  <tbody>\n",
       "    <tr>\n",
       "      <th>0</th>\n",
       "      <td>0</td>\n",
       "      <td>0.096587</td>\n",
       "      <td>1</td>\n",
       "    </tr>\n",
       "    <tr>\n",
       "      <th>1</th>\n",
       "      <td>0</td>\n",
       "      <td>0.096587</td>\n",
       "      <td>30</td>\n",
       "    </tr>\n",
       "    <tr>\n",
       "      <th>2</th>\n",
       "      <td>0</td>\n",
       "      <td>0.096587</td>\n",
       "      <td>58</td>\n",
       "    </tr>\n",
       "    <tr>\n",
       "      <th>3</th>\n",
       "      <td>0</td>\n",
       "      <td>0.096587</td>\n",
       "      <td>94</td>\n",
       "    </tr>\n",
       "    <tr>\n",
       "      <th>4</th>\n",
       "      <td>0</td>\n",
       "      <td>0.096587</td>\n",
       "      <td>99</td>\n",
       "    </tr>\n",
       "  </tbody>\n",
       "</table>\n",
       "</div>"
      ],
      "text/plain": [
       "   aid  playtime_forever  sid\n",
       "0    0          0.096587    1\n",
       "1    0          0.096587   30\n",
       "2    0          0.096587   58\n",
       "3    0          0.096587   94\n",
       "4    0          0.096587   99"
      ]
     },
     "execution_count": 81,
     "metadata": {},
     "output_type": "execute_result"
    }
   ],
   "source": [
    "testtuples = pd.merge(testtuples,test, on=['aid','playtime_forever'],how='inner',suffixes=('_newdf',''))\n",
    "testtuples.drop('playtime_forever', axis = 1, inplace = True)\n",
    "testtuples.rename(columns = {\"playtime_cdf\":\"playtime_forever\"}, inplace = True)\n",
    "testtuples.head()"
   ]
  },
  {
   "cell_type": "code",
   "execution_count": 116,
   "metadata": {},
   "outputs": [],
   "source": [
    "predictions = inner1d(model.item_factors[testtuples['aid'],:],model.user_factors[testtuples['sid'],:])"
   ]
  },
  {
   "cell_type": "code",
   "execution_count": 130,
   "metadata": {},
   "outputs": [
    {
     "data": {
      "text/plain": [
       "0.4449343065072283"
      ]
     },
     "execution_count": 130,
     "metadata": {},
     "output_type": "execute_result"
    }
   ],
   "source": []
  },
  {
   "cell_type": "code",
   "execution_count": 99,
   "metadata": {},
   "outputs": [
    {
     "data": {
      "text/plain": [
       "(660690, 3)"
      ]
     },
     "execution_count": 99,
     "metadata": {},
     "output_type": "execute_result"
    }
   ],
   "source": [
    "testtuples.shape"
   ]
  },
  {
   "cell_type": "code",
   "execution_count": 83,
   "metadata": {},
   "outputs": [
    {
     "data": {
      "text/plain": [
       "(12982, 13845, 12866, 13845)"
      ]
     },
     "execution_count": 83,
     "metadata": {},
     "output_type": "execute_result"
    }
   ],
   "source": [
    "traintuples['aid'].nunique(), traintuples['sid'].nunique(), testtuples['aid'].nunique(), testtuples['sid'].nunique()"
   ]
  },
  {
   "cell_type": "code",
   "execution_count": 84,
   "metadata": {},
   "outputs": [
    {
     "data": {
      "text/plain": [
       "12982"
      ]
     },
     "execution_count": 84,
     "metadata": {},
     "output_type": "execute_result"
    }
   ],
   "source": [
    "full_data['appid'].nunique()"
   ]
  },
  {
   "cell_type": "code",
   "execution_count": 86,
   "metadata": {},
   "outputs": [],
   "source": [
    "user_item_mat, item_user_mat = constructSparseMatrices(traintuples)"
   ]
  },
  {
   "cell_type": "code",
   "execution_count": 88,
   "metadata": {},
   "outputs": [
    {
     "data": {
      "text/plain": [
       "(13845, 12982)"
      ]
     },
     "execution_count": 88,
     "metadata": {},
     "output_type": "execute_result"
    }
   ],
   "source": [
    "user_item_mat.shape"
   ]
  },
  {
   "cell_type": "code",
   "execution_count": 140,
   "metadata": {},
   "outputs": [
    {
     "name": "stderr",
     "output_type": "stream",
     "text": [
      "100%|██████████| 10.0/10 [00:02<00:00,  3.73it/s]\n",
      "100%|██████████| 10.0/10 [00:02<00:00,  3.73it/s]\n",
      "100%|██████████| 10.0/10 [00:02<00:00,  3.78it/s]\n",
      "100%|██████████| 10.0/10 [00:02<00:00,  3.80it/s]\n",
      "100%|██████████| 50.0/50 [00:16<00:00,  2.90it/s]\n",
      "100%|██████████| 50.0/50 [00:17<00:00,  2.84it/s]\n",
      "100%|██████████| 50.0/50 [00:17<00:00,  2.89it/s]\n",
      "100%|██████████| 50.0/50 [00:17<00:00,  2.89it/s]\n",
      "100%|██████████| 100.0/100 [00:36<00:00,  2.91it/s]\n",
      "100%|██████████| 100.0/100 [00:34<00:00,  2.87it/s]\n",
      "100%|██████████| 100.0/100 [00:34<00:00,  2.78it/s]\n",
      "100%|██████████| 100.0/100 [00:35<00:00,  2.86it/s]\n",
      "100%|██████████| 10.0/10 [00:03<00:00,  2.71it/s]\n",
      "100%|██████████| 10.0/10 [00:03<00:00,  2.78it/s]\n",
      "100%|██████████| 10.0/10 [00:03<00:00,  2.76it/s]\n",
      "100%|██████████| 10.0/10 [00:03<00:00,  2.66it/s]\n",
      "100%|██████████| 50.0/50 [00:17<00:00,  2.74it/s]\n",
      "100%|██████████| 50.0/50 [00:17<00:00,  2.80it/s]\n",
      "100%|██████████| 50.0/50 [00:19<00:00,  2.79it/s]\n",
      "100%|██████████| 50.0/50 [00:18<00:00,  2.81it/s]\n",
      "100%|██████████| 100.0/100 [00:42<00:00,  1.67it/s]\n",
      "100%|██████████| 100.0/100 [00:39<00:00,  2.73it/s]\n",
      "100%|██████████| 100.0/100 [00:37<00:00,  2.65it/s]\n",
      "100%|██████████| 100.0/100 [00:41<00:00,  2.68it/s]\n",
      "100%|██████████| 10.0/10 [00:04<00:00,  2.30it/s]\n",
      "100%|██████████| 10.0/10 [00:04<00:00,  2.30it/s]\n",
      "100%|██████████| 10.0/10 [00:04<00:00,  2.25it/s]\n",
      "100%|██████████| 10.0/10 [00:04<00:00,  2.31it/s]\n",
      "100%|██████████| 50.0/50 [00:28<00:00,  1.69it/s]\n",
      "100%|██████████| 50.0/50 [00:30<00:00,  1.72it/s]\n",
      "100%|██████████| 50.0/50 [00:22<00:00,  2.07it/s]\n",
      "100%|██████████| 50.0/50 [00:23<00:00,  2.13it/s]\n",
      "100%|██████████| 100.0/100 [00:44<00:00,  2.25it/s]\n",
      "100%|██████████| 100.0/100 [00:48<00:00,  1.34it/s]\n",
      "100%|██████████| 100.0/100 [00:51<00:00,  1.56it/s]\n",
      "100%|██████████| 100.0/100 [00:48<00:00,  2.32it/s]\n",
      "100%|██████████| 10.0/10 [00:05<00:00,  1.91it/s]\n",
      "100%|██████████| 10.0/10 [00:05<00:00,  1.95it/s]\n",
      "100%|██████████| 10.0/10 [00:05<00:00,  1.93it/s]\n",
      "100%|██████████| 10.0/10 [00:05<00:00,  1.92it/s]\n",
      "100%|██████████| 50.0/50 [00:26<00:00,  1.89it/s]\n",
      "100%|██████████| 50.0/50 [00:33<00:00,  1.68it/s]\n",
      "100%|██████████| 50.0/50 [00:29<00:00,  2.01it/s]\n",
      "100%|██████████| 50.0/50 [00:29<00:00,  1.82it/s]\n",
      "100%|██████████| 100.0/100 [00:58<00:00,  1.87it/s]\n",
      "100%|██████████| 100.0/100 [00:55<00:00,  1.87it/s]\n",
      "100%|██████████| 100.0/100 [00:53<00:00,  1.84it/s]\n",
      "100%|██████████| 100.0/100 [00:54<00:00,  1.88it/s]\n"
     ]
    }
   ],
   "source": [
    "factors = [5,10,50,100]\n",
    "epochs = [10,50,100]\n",
    "lambdas = [0.001,0.01,0.1,1]\n",
    "\n",
    "allModels = {}\n",
    "bestLoss = 10000000\n",
    "\n",
    "for factor in factors:\n",
    "    for epoch in e pochs:\n",
    "        for lamb in lambdas:\n",
    "            tempmodel = trainModel(item_user_mat,factor, epoch,'linear',1,lamb)\n",
    "            valLoss = evaluateValidationLoss(tempmodel.item_factors, tempmodel.user_factors, testtuples, 'aid', 'sid', 'playtime_forever')\n",
    "            key = str(factor) + \"_\" + str(epoch) + \"_\" + str(lamb)\n",
    "            allModels[key] = tempmodel\n",
    "            \n",
    "            if(valLoss < bestLoss):\n",
    "                bestLoss = valLoss\n",
    "                bestConfiguration = (factor, epoch, lamb)"
   ]
  },
  {
   "cell_type": "code",
   "execution_count": 91,
   "metadata": {
    "scrolled": true
   },
   "outputs": [
    {
     "name": "stderr",
     "output_type": "stream",
     "text": [
      "WARNING:root:Intel MKL BLAS detected. Its highly recommend to set the environment variable 'export MKL_NUM_THREADS=1' to disable its internal multithreading\n",
      "100%|██████████| 10.0/10 [00:02<00:00,  4.17it/s]\n"
     ]
    }
   ],
   "source": [
    "model = trainModel(item_user_mat, 10, 10, 'linear', 1, 0.1)"
   ]
  },
  {
   "cell_type": "code",
   "execution_count": 143,
   "metadata": {},
   "outputs": [
    {
     "data": {
      "text/plain": [
       "(50, 10, 0.1)"
      ]
     },
     "execution_count": 143,
     "metadata": {},
     "output_type": "execute_result"
    }
   ],
   "source": [
    "bestConfiguration"
   ]
  },
  {
   "cell_type": "code",
   "execution_count": 134,
   "metadata": {},
   "outputs": [
    {
     "data": {
      "text/plain": [
       "0.4449343065072283"
      ]
     },
     "execution_count": 134,
     "metadata": {},
     "output_type": "execute_result"
    }
   ],
   "source": [
    "evaluateValidationLoss(model.item_factors, model.user_factors, testtuples, 'aid', 'sid','playtime_forever')"
   ]
  },
  {
   "cell_type": "code",
   "execution_count": 163,
   "metadata": {},
   "outputs": [],
   "source": [
    "temptraintuples = traintuples\n",
    "temptraintuples['tup'] = list(zip(traintuples['sid'], traintuples['playtime_forever']))\n",
    "ratingsbyitem = temptraintuples.groupby('aid')['tup'].apply(list).to_dict()\n",
    "\n",
    "temptraintuples2 = traintuples\n",
    "temptraintuples2['tup'] = list(zip(temptraintuples2['aid'], temptraintuples2['playtime_forever']))\n",
    "ratingsbyuser = temptraintuples2.groupby('sid')['tup'].apply(list).to_dict()"
   ]
  },
  {
   "cell_type": "code",
   "execution_count": 205,
   "metadata": {},
   "outputs": [],
   "source": [
    "matFact1 = matrixFactorizer(latentFactors=10)\n",
    "matFact1.fit(ratingsbyuser, ratingsbyitem, traintuples['sid'].nunique(), traintuples['aid'].nunique())"
   ]
  },
  {
   "cell_type": "code",
   "execution_count": 206,
   "metadata": {},
   "outputs": [
    {
     "data": {
      "text/plain": [
       "701.752169243928"
      ]
     },
     "execution_count": 206,
     "metadata": {},
     "output_type": "execute_result"
    }
   ],
   "source": [
    "evaluateValidationLoss(np.transpose(matFact1.V), matFact1.U, testtuples, 'aid', 'sid', 'playtime_forever')"
   ]
  },
  {
   "cell_type": "code",
   "execution_count": 209,
   "metadata": {},
   "outputs": [
    {
     "data": {
      "text/plain": [
       "3001.6589134723595"
      ]
     },
     "execution_count": 209,
     "metadata": {},
     "output_type": "execute_result"
    }
   ],
   "source": [
    "matFact1.predict(1000,1100)"
   ]
  },
  {
   "cell_type": "code",
   "execution_count": null,
   "metadata": {},
   "outputs": [],
   "source": [
    "latentfactors = [5,10,20,50]\n",
    "maxiterations = [10,20,50]\n",
    "regularizations = [0.1,0.01,0.001]\n",
    "\n"
   ]
  }
 ],
 "metadata": {
  "kernelspec": {
   "display_name": "Python 3",
   "language": "python",
   "name": "python3"
  },
  "language_info": {
   "codemirror_mode": {
    "name": "ipython",
    "version": 3
   },
   "file_extension": ".py",
   "mimetype": "text/x-python",
   "name": "python",
   "nbconvert_exporter": "python",
   "pygments_lexer": "ipython3",
   "version": "3.7.0"
  }
 },
 "nbformat": 4,
 "nbformat_minor": 2
}
