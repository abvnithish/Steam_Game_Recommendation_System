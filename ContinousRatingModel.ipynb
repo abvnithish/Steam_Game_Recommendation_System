{
 "cells": [
  {
   "cell_type": "code",
   "execution_count": 32,
   "metadata": {},
   "outputs": [],
   "source": [
    "import pandas as pd\n",
    "import numpy as np\n",
    "import matplotlib.pyplot as plt\n",
    "import random\n",
    "\n",
    "import scipy.sparse as sparse\n",
    "from scipy.sparse.linalg import spsolve\n",
    "from sklearn.preprocessing import MinMaxScaler"
   ]
  },
  {
   "cell_type": "code",
   "execution_count": 11,
   "metadata": {},
   "outputs": [
    {
     "name": "stderr",
     "output_type": "stream",
     "text": [
      "/home/raghavjajodia/anaconda3/lib/python3.7/site-packages/numpy/lib/arraysetops.py:522: FutureWarning: elementwise comparison failed; returning scalar instead, but in the future will perform elementwise comparison\n",
      "  mask |= (ar1 == a)\n"
     ]
    }
   ],
   "source": [
    "full_data = pd.read_csv('data/final_data.csv', index_col = 0)"
   ]
  },
  {
   "cell_type": "code",
   "execution_count": 12,
   "metadata": {},
   "outputs": [],
   "source": [
    "class cdfTransformer(object):\n",
    "    \n",
    "    transformerSeries = {}\n",
    "    \n",
    "    def getLowerOrEqualIndex(self,playtimeList, playtime):\n",
    "        if playtime < playtimeList[0]:\n",
    "            return 0\n",
    "        ans = 0\n",
    "        low = 0\n",
    "        high = len(playtimeList) - 1\n",
    "        while(low<=high):\n",
    "            mid = low + (high-low)//2\n",
    "            if playtime > playtimeList[mid]:\n",
    "                ans = mid\n",
    "                low = mid + 1\n",
    "            elif playtime == playtimeList[mid]:\n",
    "                return mid\n",
    "            else:\n",
    "                high = mid - 1\n",
    "        return ans      \n",
    "    \n",
    "    def getNearestCdf(self,appid, playtime):\n",
    "        playtimeList = self.transformerSeries[appid].index\n",
    "        bestpos = self.getLowerOrEqualIndex(playtimeList, playtime)\n",
    "        return self.transformerSeries[appid].iloc[bestpos]\n",
    "    \n",
    "    def fitTransform(self,tupledata):\n",
    "        grouped1 = tupledata.groupby([\"appid\",\"playtime_forever\"]).count()\n",
    "        grouped2 = grouped1.groupby(level=[0]).cumsum()\n",
    "        grouped3 = grouped2.groupby(level = [0]).max()\n",
    "        withcdf = grouped2/grouped3\n",
    "        self.transformerSeries = pd.Series(withcdf['steamid'],index=withcdf.index)\n",
    "        withcdf_df = withcdf.reset_index(level=[0,1])\n",
    "        withcdf_df.rename(columns={\"steamid\":\"playtime_cdf\"}, inplace=True)\n",
    "        finaltuple = pd.merge(withcdf_df,data, on=['appid','playtime_forever'],how='inner',suffixes=('_newdf',''))\n",
    "        return finaltuple\n",
    "\n",
    "    def Transform(self,tupledata):\n",
    "        ansdata = tupledata.groupby([\"appid\",\"playtime_forever\"]).count().reset_index()\n",
    "        ansdata.drop('steamid', inplace = True, axis = 1)\n",
    "        ansdata['playtime_cdf'] =  ansdata.apply(lambda x: self.getNearestCdf(x['appid'],x['playtime_forever']), axis = 1)\n",
    "        return ansdata"
   ]
  },
  {
   "cell_type": "code",
   "execution_count": 13,
   "metadata": {},
   "outputs": [],
   "source": [
    "def train_test_split(dff, split_ratio = 0.8):\n",
    "    \n",
    "    tr_sample = dff.groupby('steamid').apply(lambda x:x.sample(frac = 0.8))\n",
    "    tr_sample_index = list(zip(*tr_sample.index))[1]\n",
    "    te_sample = dff[(dff.index.isin(tr_sample_index) == False)]\n",
    "    \n",
    "    tr_sample.index.rename(['id', 'appid_level'], inplace=True)\n",
    "    tr_sample.reset_index(drop = True, inplace = True)\n",
    "    te_sample.reset_index(drop = True, inplace = True)\n",
    "    \n",
    "    return tr_sample, te_sample"
   ]
  },
  {
   "cell_type": "code",
   "execution_count": 24,
   "metadata": {},
   "outputs": [],
   "source": [
    "train_data, test_data = train_test_split(full_data,0.8)"
   ]
  },
  {
   "cell_type": "code",
   "execution_count": 34,
   "metadata": {},
   "outputs": [
    {
     "data": {
      "text/plain": [
       "(12982, 13845, 10)"
      ]
     },
     "execution_count": 34,
     "metadata": {},
     "output_type": "execute_result"
    }
   ],
   "source": [
    "N = full_data['appid'].nunique()\n",
    "M = full_data['steamid'].nunique()\n",
    "\n",
    "#Number of hyperparameter, hyperparameter\n",
    "K = 10\n",
    "N,M,K\n",
    "#-------------------------\n",
    "# LOAD AND PREP THE DATA\n",
    "#-------------------------\n",
    " \n",
    "#  \n",
    " # Convert artists names into numerical IDs\n",
    " #data['user_id'] = data['user'].astype(\"category\").cat.codes\n",
    " #data['artist_id'] = data['artist'].astype(\"category\").cat.codes\n",
    " \n",
    " # Create a lookup frame so we can get the artist names back in \n",
    " # readable form later.\n",
    " #item_lookup = data[['artist_id', 'artist']].drop_duplicates()\n",
    " #item_lookup['artist_id'] = item_lookup.artist_id.astype(str)\n",
    " \n",
    " #data = data.drop(['user', 'artist'], axis=1)"
   ]
  },
  {
   "cell_type": "code",
   "execution_count": null,
   "metadata": {},
   "outputs": [],
   "source": [
    "def implicit_als(iterations, total_users, total_items, ratingsbyuser, ratingsbyitem)\n",
    "    for t in xrange(iterations):\n",
    "\n",
    "      # update B\n",
    "      for i in xrange(total_items):\n",
    "      if i in ratings_by_i:\n",
    "        accum = 0\n",
    "        for j, r in ratings_by_i[i]:\n",
    "          accum += (r - U[i,:].dot(V[:,j]) - C[j] - mu)\n",
    "        B[i] = accum / (len(ratings_by_i[i]) + reg)\n",
    "\n",
    "      # update U\n",
    "      for i in xrange(M):\n",
    "        if i in ratings_by_i:\n",
    "          matrix = np.zeros((K, K)) + reg*np.eye(K)\n",
    "          vector = np.zeros(K)\n",
    "          for j, r in ratings_by_i[i]:\n",
    "            matrix += np.outer(V[:,j], V[:,j])\n",
    "            vector += (r - B[i] - C[j] - mu)*V[:,j]\n",
    "          U[i,:] = np.linalg.solve(matrix, vector)\n",
    "\n",
    "      # update C\n",
    "      for j in xrange(N):\n",
    "        if j in ratings_by_j:\n",
    "          accum = 0\n",
    "          for i, r in ratings_by_j[j]:\n",
    "            accum += (r - U[i,:].dot(V[:,j]) - B[i] - mu)\n",
    "          C[j] = accum / (len(ratings_by_j[j]) + reg)\n",
    "\n",
    "      # update V\n",
    "      for j in xrange(N):\n",
    "        if j in ratings_by_j:\n",
    "          matrix = np.zeros((K, K)) + reg*np.eye(K)\n",
    "          vector = np.zeros(K)\n",
    "          for i, r in ratings_by_j[j]:\n",
    "            matrix += np.outer(U[i,:], U[i,:])\n",
    "            vector += (r - B[i] - C[j] - mu)*U[i,:]\n",
    "          V[:,j] = np.linalg.solve(matrix, vector)"
   ]
  },
  {
   "cell_type": "code",
   "execution_count": null,
   "metadata": {},
   "outputs": [],
   "source": [
    "class matrixFactorizer(object):\n",
    "    \n",
    "    def __init__(self, latentFactors = 3, max_iterations = 20, reg = 0.01):        \n",
    "        self.numLatent = latentFactors\n",
    "        self.max_iterations = max_iterations\n",
    "        self.reg = reg\n",
    "    \n",
    "    def fit(self,train_ratingsbyuser, train_ratingsbyitem, total_users, total_items):\n",
    "        self.U = np.random.randn(total_users, self.numLatent) / self.numLatent\n",
    "        self.V = np.random.randn(self.numLatent, total_items) / self.numLatent\n",
    "        \n",
    "        for t in xrange(self.max_iterations):\n",
    "          # update U\n",
    "          for i in xrange(total_users):\n",
    "            if i in train_ratingsbyuser:\n",
    "              matrix = np.zeros((K, K)) + self.reg*np.eye(K)\n",
    "              vector = np.zeros(K)\n",
    "              for j, r in train_ratingsbyuser[i]:\n",
    "                matrix += np.outer(self.V[:,j], self.V[:,j])\n",
    "                vector += (r)*V[:,j]\n",
    "              self.U[i,:] = np.linalg.solve(matrix, vector)\n",
    "\n",
    "          # update V\n",
    "          for j in xrange(total_items):\n",
    "            if j in train_ratingsbyitem:\n",
    "              matrix = np.zeros((K, K)) + self.reg*np.eye(K)\n",
    "              vector = np.zeros(K)\n",
    "              for i, r in train_ratingsbyitem[j]:\n",
    "                matrix += np.outer(self.U[i,:], self.U[i,:])\n",
    "                vector += (r)*U[i,:]\n",
    "              self.V[:,j] = np.linalg.solve(matrix, vector)\n",
    "    def predict()"
   ]
  }
 ],
 "metadata": {
  "kernelspec": {
   "display_name": "Python 3",
   "language": "python",
   "name": "python3"
  },
  "language_info": {
   "codemirror_mode": {
    "name": "ipython",
    "version": 3
   },
   "file_extension": ".py",
   "mimetype": "text/x-python",
   "name": "python",
   "nbconvert_exporter": "python",
   "pygments_lexer": "ipython3",
   "version": "3.7.0"
  }
 },
 "nbformat": 4,
 "nbformat_minor": 2
}
