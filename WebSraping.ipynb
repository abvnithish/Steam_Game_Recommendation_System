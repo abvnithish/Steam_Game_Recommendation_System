{
 "cells": [
  {
   "cell_type": "code",
   "execution_count": 5,
   "metadata": {},
   "outputs": [],
   "source": [
    "import requests\n",
    "import xml.etree.ElementTree as ET\n",
    "import time"
   ]
  },
  {
   "cell_type": "code",
   "execution_count": 6,
   "metadata": {},
   "outputs": [
    {
     "name": "stdout",
     "output_type": "stream",
     "text": [
      "Error at i= 1\n",
      "Total ids done= 0\n",
      "Error at i= 2\n",
      "Total ids done= 0\n",
      "Error at i= 3\n",
      "Total ids done= 0\n",
      "Error at i= 4\n",
      "Total ids done= 0\n",
      "0\n"
     ]
    }
   ],
   "source": [
    "idCount = 0\n",
    "\n",
    "with open(\"../steamIdList/Output.txt\", \"w\") as text_file:\n",
    "    for i in range(1,5):\n",
    "        try:\n",
    "            req = requests.get(\"https://steamcommunity.com/groups/steamuniverse/memberslistxml/?xml=1&p=\" + str(i))\n",
    "            root = ET.fromstring(req.text)\n",
    "            fullString = \"\"\n",
    "            idlist = root.find(\"members\").findall(\"steamID64\")\n",
    "            idCount = idCount + len(idlist)\n",
    "            for a in idlist:\n",
    "                fullString = fullString + a.text + \"\\n\"\n",
    "            text_file.write(fullString)\n",
    "            print(\"Done with i= \" + str(i))\n",
    "            print(\"Total ids done = \" + str(idCount))\n",
    "        except:\n",
    "            print(\"Error at i= \" + str(i))\n",
    "            print(\"Total ids done= \" + str(idCount))\n",
    "        time.sleep(1.5)\n",
    "        \n",
    "            \n",
    "\n",
    "print(idCount) "
   ]
  },
  {
   "cell_type": "code",
   "execution_count": null,
   "metadata": {},
   "outputs": [],
   "source": []
  }
 ],
 "metadata": {
  "anaconda-cloud": {},
  "kernelspec": {
   "display_name": "Python [default]",
   "language": "python",
   "name": "python3"
  },
  "language_info": {
   "codemirror_mode": {
    "name": "ipython",
    "version": 3
   },
   "file_extension": ".py",
   "mimetype": "text/x-python",
   "name": "python",
   "nbconvert_exporter": "python",
   "pygments_lexer": "ipython3",
   "version": "3.5.5"
  }
 },
 "nbformat": 4,
 "nbformat_minor": 2
}
