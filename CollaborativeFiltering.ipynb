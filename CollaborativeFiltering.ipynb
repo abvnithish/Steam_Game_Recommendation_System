{
 "cells": [
  {
   "cell_type": "code",
   "execution_count": 1,
   "metadata": {
    "collapsed": false,
    "deletable": true,
    "editable": true
   },
   "outputs": [],
   "source": [
    "#Importing Libraries:\n",
    "import numpy as np\n",
    "import pandas as pd\n",
    "import matplotlib.pyplot as plt\n",
    "import os\n",
    "import time\n",
    "import math\n",
    "from sklearn.model_selection import ParameterGrid\n",
    "%matplotlib inline\n",
    "\n",
    "from userSimilarityModels_v1 import *"
   ]
  },
  {
   "cell_type": "code",
   "execution_count": 2,
   "metadata": {
    "collapsed": false,
    "deletable": true,
    "editable": true
   },
   "outputs": [],
   "source": [
    "#Initializing the objects for classes:\n",
    "prepData = prepareData()\n",
    "cm = correlationMethods()\n",
    "binaryRec = binaryRecommenders()\n",
    "binaryRecHighCorr = binaryRecommenders_high_correlation()\n",
    "playPred = playtimePredictionMethods()\n",
    "model = Model()\n",
    "evalPerf = evaluatePerformace()"
   ]
  },
  {
   "cell_type": "code",
   "execution_count": 3,
   "metadata": {
    "collapsed": false,
    "deletable": true,
    "editable": true
   },
   "outputs": [
    {
     "data": {
      "text/html": [
       "<div>\n",
       "<style scoped>\n",
       "    .dataframe tbody tr th:only-of-type {\n",
       "        vertical-align: middle;\n",
       "    }\n",
       "\n",
       "    .dataframe tbody tr th {\n",
       "        vertical-align: top;\n",
       "    }\n",
       "\n",
       "    .dataframe thead th {\n",
       "        text-align: right;\n",
       "    }\n",
       "</style>\n",
       "<table border=\"1\" class=\"dataframe\">\n",
       "  <thead>\n",
       "    <tr style=\"text-align: right;\">\n",
       "      <th></th>\n",
       "      <th>steamid</th>\n",
       "      <th>appid</th>\n",
       "      <th>playtime_cdf</th>\n",
       "    </tr>\n",
       "  </thead>\n",
       "  <tbody>\n",
       "    <tr>\n",
       "      <th>0</th>\n",
       "      <td>76561197960275345</td>\n",
       "      <td>10</td>\n",
       "      <td>0.100518</td>\n",
       "    </tr>\n",
       "    <tr>\n",
       "      <th>1</th>\n",
       "      <td>76561197960470481</td>\n",
       "      <td>10</td>\n",
       "      <td>0.100518</td>\n",
       "    </tr>\n",
       "    <tr>\n",
       "      <th>2</th>\n",
       "      <td>76561197961147005</td>\n",
       "      <td>10</td>\n",
       "      <td>0.100518</td>\n",
       "    </tr>\n",
       "    <tr>\n",
       "      <th>3</th>\n",
       "      <td>76561197961468715</td>\n",
       "      <td>10</td>\n",
       "      <td>0.100518</td>\n",
       "    </tr>\n",
       "    <tr>\n",
       "      <th>4</th>\n",
       "      <td>76561197961478640</td>\n",
       "      <td>10</td>\n",
       "      <td>0.100518</td>\n",
       "    </tr>\n",
       "  </tbody>\n",
       "</table>\n",
       "</div>"
      ],
      "text/plain": [
       "             steamid  appid  playtime_cdf\n",
       "0  76561197960275345     10      0.100518\n",
       "1  76561197960470481     10      0.100518\n",
       "2  76561197961147005     10      0.100518\n",
       "3  76561197961468715     10      0.100518\n",
       "4  76561197961478640     10      0.100518"
      ]
     },
     "execution_count": 3,
     "metadata": {},
     "output_type": "execute_result"
    }
   ],
   "source": [
    "# Loading and preparing data:\n",
    "# We convert the playtime of every user-game pair using their game-wise CDF value\n",
    "data = prepData.makeData('final_data.csv')\n",
    "data.drop(['playtime_forever', 'playtime_forever_scaled'], inplace = True, axis = 1)\n",
    "data.head()"
   ]
  },
  {
   "cell_type": "code",
   "execution_count": 5,
   "metadata": {
    "collapsed": false,
    "deletable": true,
    "editable": true
   },
   "outputs": [
    {
     "name": "stdout",
     "output_type": "stream",
     "text": [
      "Sparsity is 98.16%\n"
     ]
    }
   ],
   "source": [
    "print('Sparsity of the dataset is {}%'.format(prepData.sparsity(data)))"
   ]
  },
  {
   "cell_type": "code",
   "execution_count": 4,
   "metadata": {
    "collapsed": true,
    "deletable": true,
    "editable": true
   },
   "outputs": [],
   "source": [
    "# Splitting the data into train and test:\n",
    "train, test = prepData.train_test_split(data, 0.8)"
   ]
  },
  {
   "cell_type": "code",
   "execution_count": 5,
   "metadata": {
    "collapsed": false,
    "deletable": true,
    "editable": true
   },
   "outputs": [],
   "source": [
    "# Obtaining the Matrix form for the Binary and Continuous Models:\n",
    "trainBinaryMatrix = prepData.getBinaryMatrix(train)\n",
    "trainMatrix = prepData.getMatrix(train, col_name= 'playtime_cdf')"
   ]
  },
  {
   "cell_type": "code",
   "execution_count": 6,
   "metadata": {},
   "outputs": [
    {
     "data": {
      "text/html": [
       "<div>\n",
       "<style scoped>\n",
       "    .dataframe tbody tr th:only-of-type {\n",
       "        vertical-align: middle;\n",
       "    }\n",
       "\n",
       "    .dataframe tbody tr th {\n",
       "        vertical-align: top;\n",
       "    }\n",
       "\n",
       "    .dataframe thead th {\n",
       "        text-align: right;\n",
       "    }\n",
       "</style>\n",
       "<table border=\"1\" class=\"dataframe\">\n",
       "  <thead>\n",
       "    <tr style=\"text-align: right;\">\n",
       "      <th>appid</th>\n",
       "      <th>10</th>\n",
       "      <th>20</th>\n",
       "      <th>30</th>\n",
       "      <th>40</th>\n",
       "      <th>50</th>\n",
       "      <th>60</th>\n",
       "      <th>70</th>\n",
       "      <th>80</th>\n",
       "      <th>100</th>\n",
       "      <th>130</th>\n",
       "      <th>...</th>\n",
       "      <th>935270</th>\n",
       "      <th>939400</th>\n",
       "      <th>939760</th>\n",
       "      <th>943380</th>\n",
       "      <th>947600</th>\n",
       "      <th>952440</th>\n",
       "      <th>955560</th>\n",
       "      <th>957790</th>\n",
       "      <th>963690</th>\n",
       "      <th>973760</th>\n",
       "    </tr>\n",
       "    <tr>\n",
       "      <th>steamid</th>\n",
       "      <th></th>\n",
       "      <th></th>\n",
       "      <th></th>\n",
       "      <th></th>\n",
       "      <th></th>\n",
       "      <th></th>\n",
       "      <th></th>\n",
       "      <th></th>\n",
       "      <th></th>\n",
       "      <th></th>\n",
       "      <th></th>\n",
       "      <th></th>\n",
       "      <th></th>\n",
       "      <th></th>\n",
       "      <th></th>\n",
       "      <th></th>\n",
       "      <th></th>\n",
       "      <th></th>\n",
       "      <th></th>\n",
       "      <th></th>\n",
       "      <th></th>\n",
       "    </tr>\n",
       "  </thead>\n",
       "  <tbody>\n",
       "    <tr>\n",
       "      <th>76561197960270862</th>\n",
       "      <td>0</td>\n",
       "      <td>0</td>\n",
       "      <td>1</td>\n",
       "      <td>0</td>\n",
       "      <td>0</td>\n",
       "      <td>0</td>\n",
       "      <td>0</td>\n",
       "      <td>0</td>\n",
       "      <td>0</td>\n",
       "      <td>0</td>\n",
       "      <td>...</td>\n",
       "      <td>0</td>\n",
       "      <td>0</td>\n",
       "      <td>0</td>\n",
       "      <td>0</td>\n",
       "      <td>0</td>\n",
       "      <td>0</td>\n",
       "      <td>0</td>\n",
       "      <td>0</td>\n",
       "      <td>0</td>\n",
       "      <td>0</td>\n",
       "    </tr>\n",
       "    <tr>\n",
       "      <th>76561197960275345</th>\n",
       "      <td>1</td>\n",
       "      <td>0</td>\n",
       "      <td>0</td>\n",
       "      <td>0</td>\n",
       "      <td>0</td>\n",
       "      <td>0</td>\n",
       "      <td>0</td>\n",
       "      <td>0</td>\n",
       "      <td>0</td>\n",
       "      <td>0</td>\n",
       "      <td>...</td>\n",
       "      <td>0</td>\n",
       "      <td>0</td>\n",
       "      <td>0</td>\n",
       "      <td>0</td>\n",
       "      <td>0</td>\n",
       "      <td>0</td>\n",
       "      <td>0</td>\n",
       "      <td>0</td>\n",
       "      <td>0</td>\n",
       "      <td>0</td>\n",
       "    </tr>\n",
       "    <tr>\n",
       "      <th>76561197960290105</th>\n",
       "      <td>1</td>\n",
       "      <td>0</td>\n",
       "      <td>1</td>\n",
       "      <td>0</td>\n",
       "      <td>1</td>\n",
       "      <td>1</td>\n",
       "      <td>1</td>\n",
       "      <td>0</td>\n",
       "      <td>0</td>\n",
       "      <td>0</td>\n",
       "      <td>...</td>\n",
       "      <td>0</td>\n",
       "      <td>0</td>\n",
       "      <td>0</td>\n",
       "      <td>0</td>\n",
       "      <td>0</td>\n",
       "      <td>0</td>\n",
       "      <td>0</td>\n",
       "      <td>0</td>\n",
       "      <td>0</td>\n",
       "      <td>0</td>\n",
       "    </tr>\n",
       "    <tr>\n",
       "      <th>76561197960316968</th>\n",
       "      <td>0</td>\n",
       "      <td>0</td>\n",
       "      <td>0</td>\n",
       "      <td>0</td>\n",
       "      <td>0</td>\n",
       "      <td>0</td>\n",
       "      <td>1</td>\n",
       "      <td>0</td>\n",
       "      <td>0</td>\n",
       "      <td>0</td>\n",
       "      <td>...</td>\n",
       "      <td>0</td>\n",
       "      <td>0</td>\n",
       "      <td>0</td>\n",
       "      <td>0</td>\n",
       "      <td>0</td>\n",
       "      <td>0</td>\n",
       "      <td>0</td>\n",
       "      <td>0</td>\n",
       "      <td>0</td>\n",
       "      <td>0</td>\n",
       "    </tr>\n",
       "    <tr>\n",
       "      <th>76561197960321194</th>\n",
       "      <td>1</td>\n",
       "      <td>1</td>\n",
       "      <td>1</td>\n",
       "      <td>0</td>\n",
       "      <td>1</td>\n",
       "      <td>0</td>\n",
       "      <td>0</td>\n",
       "      <td>0</td>\n",
       "      <td>0</td>\n",
       "      <td>0</td>\n",
       "      <td>...</td>\n",
       "      <td>0</td>\n",
       "      <td>0</td>\n",
       "      <td>0</td>\n",
       "      <td>0</td>\n",
       "      <td>0</td>\n",
       "      <td>0</td>\n",
       "      <td>0</td>\n",
       "      <td>0</td>\n",
       "      <td>0</td>\n",
       "      <td>0</td>\n",
       "    </tr>\n",
       "  </tbody>\n",
       "</table>\n",
       "<p>5 rows × 12982 columns</p>\n",
       "</div>"
      ],
      "text/plain": [
       "appid             10     20     30     40     50     60     70     80      \\\n",
       "steamid                                                                     \n",
       "76561197960270862      0      0      1      0      0      0      0      0   \n",
       "76561197960275345      1      0      0      0      0      0      0      0   \n",
       "76561197960290105      1      0      1      0      1      1      1      0   \n",
       "76561197960316968      0      0      0      0      0      0      1      0   \n",
       "76561197960321194      1      1      1      0      1      0      0      0   \n",
       "\n",
       "appid             100    130     ...   935270 939400 939760 943380 947600  \\\n",
       "steamid                          ...                                        \n",
       "76561197960270862      0      0  ...        0      0      0      0      0   \n",
       "76561197960275345      0      0  ...        0      0      0      0      0   \n",
       "76561197960290105      0      0  ...        0      0      0      0      0   \n",
       "76561197960316968      0      0  ...        0      0      0      0      0   \n",
       "76561197960321194      0      0  ...        0      0      0      0      0   \n",
       "\n",
       "appid             952440 955560 957790 963690 973760  \n",
       "steamid                                               \n",
       "76561197960270862      0      0      0      0      0  \n",
       "76561197960275345      0      0      0      0      0  \n",
       "76561197960290105      0      0      0      0      0  \n",
       "76561197960316968      0      0      0      0      0  \n",
       "76561197960321194      0      0      0      0      0  \n",
       "\n",
       "[5 rows x 12982 columns]"
      ]
     },
     "execution_count": 6,
     "metadata": {},
     "output_type": "execute_result"
    }
   ],
   "source": [
    "trainBinaryMatrix.head()"
   ]
  },
  {
   "cell_type": "code",
   "execution_count": 7,
   "metadata": {},
   "outputs": [
    {
     "data": {
      "text/html": [
       "<div>\n",
       "<style scoped>\n",
       "    .dataframe tbody tr th:only-of-type {\n",
       "        vertical-align: middle;\n",
       "    }\n",
       "\n",
       "    .dataframe tbody tr th {\n",
       "        vertical-align: top;\n",
       "    }\n",
       "\n",
       "    .dataframe thead th {\n",
       "        text-align: right;\n",
       "    }\n",
       "</style>\n",
       "<table border=\"1\" class=\"dataframe\">\n",
       "  <thead>\n",
       "    <tr style=\"text-align: right;\">\n",
       "      <th>appid</th>\n",
       "      <th>10</th>\n",
       "      <th>20</th>\n",
       "      <th>30</th>\n",
       "      <th>40</th>\n",
       "      <th>50</th>\n",
       "      <th>60</th>\n",
       "      <th>70</th>\n",
       "      <th>80</th>\n",
       "      <th>100</th>\n",
       "      <th>130</th>\n",
       "      <th>...</th>\n",
       "      <th>935270</th>\n",
       "      <th>939400</th>\n",
       "      <th>939760</th>\n",
       "      <th>943380</th>\n",
       "      <th>947600</th>\n",
       "      <th>952440</th>\n",
       "      <th>955560</th>\n",
       "      <th>957790</th>\n",
       "      <th>963690</th>\n",
       "      <th>973760</th>\n",
       "    </tr>\n",
       "    <tr>\n",
       "      <th>steamid</th>\n",
       "      <th></th>\n",
       "      <th></th>\n",
       "      <th></th>\n",
       "      <th></th>\n",
       "      <th></th>\n",
       "      <th></th>\n",
       "      <th></th>\n",
       "      <th></th>\n",
       "      <th></th>\n",
       "      <th></th>\n",
       "      <th></th>\n",
       "      <th></th>\n",
       "      <th></th>\n",
       "      <th></th>\n",
       "      <th></th>\n",
       "      <th></th>\n",
       "      <th></th>\n",
       "      <th></th>\n",
       "      <th></th>\n",
       "      <th></th>\n",
       "      <th></th>\n",
       "    </tr>\n",
       "  </thead>\n",
       "  <tbody>\n",
       "    <tr>\n",
       "      <th>76561197960270862</th>\n",
       "      <td>NaN</td>\n",
       "      <td>NaN</td>\n",
       "      <td>0.387604</td>\n",
       "      <td>NaN</td>\n",
       "      <td>NaN</td>\n",
       "      <td>NaN</td>\n",
       "      <td>NaN</td>\n",
       "      <td>NaN</td>\n",
       "      <td>NaN</td>\n",
       "      <td>NaN</td>\n",
       "      <td>...</td>\n",
       "      <td>NaN</td>\n",
       "      <td>NaN</td>\n",
       "      <td>NaN</td>\n",
       "      <td>NaN</td>\n",
       "      <td>NaN</td>\n",
       "      <td>NaN</td>\n",
       "      <td>NaN</td>\n",
       "      <td>NaN</td>\n",
       "      <td>NaN</td>\n",
       "      <td>NaN</td>\n",
       "    </tr>\n",
       "    <tr>\n",
       "      <th>76561197960275345</th>\n",
       "      <td>0.100518</td>\n",
       "      <td>NaN</td>\n",
       "      <td>NaN</td>\n",
       "      <td>NaN</td>\n",
       "      <td>NaN</td>\n",
       "      <td>NaN</td>\n",
       "      <td>NaN</td>\n",
       "      <td>NaN</td>\n",
       "      <td>NaN</td>\n",
       "      <td>NaN</td>\n",
       "      <td>...</td>\n",
       "      <td>NaN</td>\n",
       "      <td>NaN</td>\n",
       "      <td>NaN</td>\n",
       "      <td>NaN</td>\n",
       "      <td>NaN</td>\n",
       "      <td>NaN</td>\n",
       "      <td>NaN</td>\n",
       "      <td>NaN</td>\n",
       "      <td>NaN</td>\n",
       "      <td>NaN</td>\n",
       "    </tr>\n",
       "    <tr>\n",
       "      <th>76561197960290105</th>\n",
       "      <td>0.119314</td>\n",
       "      <td>NaN</td>\n",
       "      <td>0.468085</td>\n",
       "      <td>NaN</td>\n",
       "      <td>0.257669</td>\n",
       "      <td>0.359002</td>\n",
       "      <td>0.288288</td>\n",
       "      <td>NaN</td>\n",
       "      <td>NaN</td>\n",
       "      <td>NaN</td>\n",
       "      <td>...</td>\n",
       "      <td>NaN</td>\n",
       "      <td>NaN</td>\n",
       "      <td>NaN</td>\n",
       "      <td>NaN</td>\n",
       "      <td>NaN</td>\n",
       "      <td>NaN</td>\n",
       "      <td>NaN</td>\n",
       "      <td>NaN</td>\n",
       "      <td>NaN</td>\n",
       "      <td>NaN</td>\n",
       "    </tr>\n",
       "    <tr>\n",
       "      <th>76561197960316968</th>\n",
       "      <td>NaN</td>\n",
       "      <td>NaN</td>\n",
       "      <td>NaN</td>\n",
       "      <td>NaN</td>\n",
       "      <td>NaN</td>\n",
       "      <td>NaN</td>\n",
       "      <td>0.632363</td>\n",
       "      <td>NaN</td>\n",
       "      <td>NaN</td>\n",
       "      <td>NaN</td>\n",
       "      <td>...</td>\n",
       "      <td>NaN</td>\n",
       "      <td>NaN</td>\n",
       "      <td>NaN</td>\n",
       "      <td>NaN</td>\n",
       "      <td>NaN</td>\n",
       "      <td>NaN</td>\n",
       "      <td>NaN</td>\n",
       "      <td>NaN</td>\n",
       "      <td>NaN</td>\n",
       "      <td>NaN</td>\n",
       "    </tr>\n",
       "    <tr>\n",
       "      <th>76561197960321194</th>\n",
       "      <td>0.136203</td>\n",
       "      <td>0.202166</td>\n",
       "      <td>0.996300</td>\n",
       "      <td>NaN</td>\n",
       "      <td>0.203988</td>\n",
       "      <td>NaN</td>\n",
       "      <td>NaN</td>\n",
       "      <td>NaN</td>\n",
       "      <td>NaN</td>\n",
       "      <td>NaN</td>\n",
       "      <td>...</td>\n",
       "      <td>NaN</td>\n",
       "      <td>NaN</td>\n",
       "      <td>NaN</td>\n",
       "      <td>NaN</td>\n",
       "      <td>NaN</td>\n",
       "      <td>NaN</td>\n",
       "      <td>NaN</td>\n",
       "      <td>NaN</td>\n",
       "      <td>NaN</td>\n",
       "      <td>NaN</td>\n",
       "    </tr>\n",
       "  </tbody>\n",
       "</table>\n",
       "<p>5 rows × 12982 columns</p>\n",
       "</div>"
      ],
      "text/plain": [
       "appid                10        20        30      40        50        60      \\\n",
       "steamid                                                                       \n",
       "76561197960270862       NaN       NaN  0.387604     NaN       NaN       NaN   \n",
       "76561197960275345  0.100518       NaN       NaN     NaN       NaN       NaN   \n",
       "76561197960290105  0.119314       NaN  0.468085     NaN  0.257669  0.359002   \n",
       "76561197960316968       NaN       NaN       NaN     NaN       NaN       NaN   \n",
       "76561197960321194  0.136203  0.202166  0.996300     NaN  0.203988       NaN   \n",
       "\n",
       "appid                70      80      100     130      ...    935270  939400  \\\n",
       "steamid                                               ...                     \n",
       "76561197960270862       NaN     NaN     NaN     NaN   ...       NaN     NaN   \n",
       "76561197960275345       NaN     NaN     NaN     NaN   ...       NaN     NaN   \n",
       "76561197960290105  0.288288     NaN     NaN     NaN   ...       NaN     NaN   \n",
       "76561197960316968  0.632363     NaN     NaN     NaN   ...       NaN     NaN   \n",
       "76561197960321194       NaN     NaN     NaN     NaN   ...       NaN     NaN   \n",
       "\n",
       "appid              939760  943380  947600  952440  955560  957790  963690  \\\n",
       "steamid                                                                     \n",
       "76561197960270862     NaN     NaN     NaN     NaN     NaN     NaN     NaN   \n",
       "76561197960275345     NaN     NaN     NaN     NaN     NaN     NaN     NaN   \n",
       "76561197960290105     NaN     NaN     NaN     NaN     NaN     NaN     NaN   \n",
       "76561197960316968     NaN     NaN     NaN     NaN     NaN     NaN     NaN   \n",
       "76561197960321194     NaN     NaN     NaN     NaN     NaN     NaN     NaN   \n",
       "\n",
       "appid              973760  \n",
       "steamid                    \n",
       "76561197960270862     NaN  \n",
       "76561197960275345     NaN  \n",
       "76561197960290105     NaN  \n",
       "76561197960316968     NaN  \n",
       "76561197960321194     NaN  \n",
       "\n",
       "[5 rows x 12982 columns]"
      ]
     },
     "execution_count": 7,
     "metadata": {},
     "output_type": "execute_result"
    }
   ],
   "source": [
    "trainMatrix.head()"
   ]
  },
  {
   "cell_type": "markdown",
   "metadata": {
    "deletable": true,
    "editable": true
   },
   "source": [
    "### Binary Models"
   ]
  },
  {
   "cell_type": "markdown",
   "metadata": {
    "deletable": true,
    "editable": true
   },
   "source": [
    "#### Pearson Correlation Based Model"
   ]
  },
  {
   "cell_type": "markdown",
   "metadata": {
    "editable": true
   },
   "source": [
    "##### Average performance based on 10 runs data"
   ]
  },
  {
   "cell_type": "code",
   "execution_count": 3,
   "metadata": {
    "collapsed": false,
    "deletable": true,
    "editable": true
   },
   "outputs": [
    {
     "name": "stderr",
     "output_type": "stream",
     "text": [
      "/scratch/bva212/steam_data/userSimilarityModels.py:160: FutureWarning: reshape is deprecated and will raise in a subsequent release. Please use .values.reshape(...) instead\n",
      "  corr_den = np.sqrt(np.matmul(np.sum(pow(dataset_submean, 2), axis = 1).reshape((n,1)), np.sum(pow(dataset_submean, 2), axis = 1).reshape((1,n)))) + self.eps\n"
     ]
    },
    {
     "name": "stdout",
     "output_type": "stream",
     "text": [
      "After 1 iteration: 185.83770108222961 seconds elapsed\n",
      "--- Total 185.83789563179016 seconds elapsed ---\n"
     ]
    },
    {
     "data": {
      "text/plain": [
       "([0.18950054871274727], [0.40938967136150234])"
      ]
     },
     "execution_count": 3,
     "metadata": {},
     "output_type": "execute_result"
    }
   ],
   "source": [
    "model.runModel(data, method = 'binary', col_name = 'playtime_cdf', corr_method = 'pearson', nruns = 10, train_ratio = 0.8, k = 10, p_out = True)"
   ]
  },
  {
   "cell_type": "markdown",
   "metadata": {
    "deletable": true,
    "editable": true
   },
   "source": [
    "#### Cosine Similarity Based Model"
   ]
  },
  {
   "cell_type": "markdown",
   "metadata": {
    "editable": true
   },
   "source": [
    "##### Average performance based on 10 runs data"
   ]
  },
  {
   "cell_type": "code",
   "execution_count": 17,
   "metadata": {
    "collapsed": false,
    "deletable": true,
    "editable": true
   },
   "outputs": [
    {
     "name": "stdout",
     "output_type": "stream",
     "text": [
      "After 1 iteration: 208.87154173851013 seconds elapsed\n",
      "--- Total 208.87178254127502 seconds elapsed ---\n"
     ]
    },
    {
     "data": {
      "text/plain": [
       "([0.18765414516838747], [0.4027085590465872])"
      ]
     },
     "execution_count": 17,
     "metadata": {},
     "output_type": "execute_result"
    }
   ],
   "source": [
    "model.runModel(data, method = 'binary', col_name = 'playtime_cdf', corr_method = 'cosine', nruns = 10, train_ratio = 0.8, k = 10, p_out = True)"
   ]
  },
  {
   "cell_type": "markdown",
   "metadata": {
    "deletable": true,
    "editable": true
   },
   "source": [
    "#### Variation of Model Performance based on #items being recommended:"
   ]
  },
  {
   "cell_type": "markdown",
   "metadata": {
    "editable": true
   },
   "source": [
    "##### Parameters evaluated:\n",
    "Model Type = Binary\n",
    "\n",
    "Correlation Method = Pearson Correlation\n",
    "\n",
    "Items Recommended = [5, 10, 20, 50]"
   ]
  },
  {
   "cell_type": "code",
   "execution_count": 5,
   "metadata": {
    "collapsed": false,
    "deletable": true,
    "editable": true
   },
   "outputs": [
    {
     "name": "stderr",
     "output_type": "stream",
     "text": [
      "/scratch/bva212/steam_data/userSimilarityModels.py:158: FutureWarning: reshape is deprecated and will raise in a subsequent release. Please use .values.reshape(...) instead\n",
      "  corr_den = np.sqrt(np.matmul(np.sum(pow(dataset_submean, 2), axis = 1).reshape((n,1)), np.sum(pow(dataset_submean, 2), axis = 1).reshape((1,n)))) + self.eps\n"
     ]
    },
    {
     "name": "stdout",
     "output_type": "stream",
     "text": [
      "--- Total 298.2943117618561 seconds elapsed ---\n",
      "--- Total 449.44926929473877 seconds elapsed ---\n",
      "--- Total 298.32067823410034 seconds elapsed ---\n",
      "--- Total 289.12276005744934 seconds elapsed ---\n"
     ]
    },
    {
     "data": {
      "image/png": "[encoded data removed]",
      "text/plain": [
       "<matplotlib.figure.Figure at 0x2adfffc2e438>"
      ]
     },
     "metadata": {},
     "output_type": "display_data"
    }
   ],
   "source": [
    "evalPerf.plotRec_k_GamesPerformance(data, p_out = True)"
   ]
  },
  {
   "cell_type": "markdown",
   "metadata": {
    "deletable": true,
    "editable": true
   },
   "source": [
    "It makes sense to note that Recall, which indicates the proportion of relevant items being recommended, increases as we increase the number of recommendations and precision, which is proportion of relevant items in recommended items, is decreasing with increase in number of items being recommended."
   ]
  },
  {
   "cell_type": "code",
   "execution_count": null,
   "metadata": {
    "collapsed": true,
    "deletable": true,
    "editable": true
   },
   "outputs": [],
   "source": []
  },
  {
   "cell_type": "markdown",
   "metadata": {
    "deletable": true,
    "editable": true
   },
   "source": [
    "### Continuous Ratings Prediction Model:"
   ]
  },
  {
   "cell_type": "markdown",
   "metadata": {
    "deletable": true,
    "editable": true
   },
   "source": [
    "#### Cosine Similarity Based Model:"
   ]
  },
  {
   "cell_type": "code",
   "execution_count": 30,
   "metadata": {
    "collapsed": false,
    "deletable": true,
    "editable": true,
    "scrolled": true
   },
   "outputs": [
    {
     "name": "stderr",
     "output_type": "stream",
     "text": [
      "/scratch/bva212/steam_data/userSimilarityModels.py:637: RuntimeWarning: invalid value encountered in true_divide\n",
      "  predicted_scores = total_scores/total_sums\n"
     ]
    },
    {
     "name": "stdout",
     "output_type": "stream",
     "text": [
      "After 1 iteration: 117.05427670478821 seconds elapsed\n",
      "After 6 iteration: 704.1049144268036 seconds elapsed\n",
      "--- Total 1174.875526189804 seconds elapsed ---\n"
     ]
    }
   ],
   "source": [
    "predict_playtime_Cosine_performance = []\n",
    "predict_playtime_Cosine_performance.append(model.runModel(data, corr_method= 'cosine', col_name = 'playtime_cdf', nruns= 10, train_ratio= 0.8, method= 'predict_playtime', p_out = True))"
   ]
  },
  {
   "cell_type": "code",
   "execution_count": 32,
   "metadata": {
    "collapsed": false,
    "deletable": true,
    "editable": true
   },
   "outputs": [
    {
     "data": {
      "text/html": [
       "<div>\n",
       "<table border=\"1\" class=\"dataframe\">\n",
       "  <thead>\n",
       "    <tr style=\"text-align: right;\">\n",
       "      <th></th>\n",
       "      <th>0</th>\n",
       "      <th>1</th>\n",
       "      <th>2</th>\n",
       "      <th>3</th>\n",
       "      <th>4</th>\n",
       "      <th>5</th>\n",
       "      <th>6</th>\n",
       "      <th>7</th>\n",
       "      <th>8</th>\n",
       "      <th>9</th>\n",
       "    </tr>\n",
       "  </thead>\n",
       "  <tbody>\n",
       "    <tr>\n",
       "      <th>0</th>\n",
       "      <td>0.266313</td>\n",
       "      <td>0.266012</td>\n",
       "      <td>0.265828</td>\n",
       "      <td>0.265999</td>\n",
       "      <td>0.26577</td>\n",
       "      <td>0.266335</td>\n",
       "      <td>0.266503</td>\n",
       "      <td>0.266493</td>\n",
       "      <td>0.266522</td>\n",
       "      <td>0.266076</td>\n",
       "    </tr>\n",
       "  </tbody>\n",
       "</table>\n",
       "</div>"
      ],
      "text/plain": [
       "          0         1         2         3        4         5         6  \\\n",
       "0  0.266313  0.266012  0.265828  0.265999  0.26577  0.266335  0.266503   \n",
       "\n",
       "          7         8         9  \n",
       "0  0.266493  0.266522  0.266076  "
      ]
     },
     "execution_count": 32,
     "metadata": {},
     "output_type": "execute_result"
    }
   ],
   "source": [
    "predict_playtime_Cosine_performance = pd.DataFrame(predict_playtime_Cosine_performance)\n",
    "predict_playtime_Cosine_performance.to_csv('CosinePerformance_on_10_runs.csv')\n",
    "predict_playtime_Cosine_performance"
   ]
  },
  {
   "cell_type": "markdown",
   "metadata": {},
   "source": [
    "#### Mean Performance of the Cosine Similarity based Continuous Ratings Model"
   ]
  },
  {
   "cell_type": "code",
   "execution_count": 75,
   "metadata": {
    "collapsed": false,
    "deletable": true,
    "editable": true
   },
   "outputs": [
    {
     "data": {
      "text/plain": [
       "0    0.266185\n",
       "dtype: float64"
      ]
     },
     "execution_count": 75,
     "metadata": {},
     "output_type": "execute_result"
    }
   ],
   "source": [
    "np.mean(predict_playtime_Cosine_performance, axis = 1)"
   ]
  },
  {
   "cell_type": "code",
   "execution_count": null,
   "metadata": {
    "collapsed": true,
    "deletable": true,
    "editable": true
   },
   "outputs": [],
   "source": []
  },
  {
   "cell_type": "markdown",
   "metadata": {
    "deletable": true,
    "editable": true
   },
   "source": [
    "### Fine Grid Search on Binary Classification Based Models"
   ]
  },
  {
   "cell_type": "code",
   "execution_count": 67,
   "metadata": {
    "collapsed": false,
    "deletable": true,
    "editable": true
   },
   "outputs": [
    {
     "name": "stderr",
     "output_type": "stream",
     "text": [
      "/scratch/bva212/steam_data/userSimilarityModels.py:160: FutureWarning: reshape is deprecated and will raise in a subsequent release. Please use .values.reshape(...) instead\n",
      "  corr_den = np.sqrt(np.matmul(np.sum(pow(dataset_submean, 2), axis = 1).reshape((n,1)), np.sum(pow(dataset_submean, 2), axis = 1).reshape((1,n)))) + self.eps\n"
     ]
    },
    {
     "name": "stdout",
     "output_type": "stream",
     "text": [
      "After 1 iteration: 239.36769461631775 seconds elapsed\n",
      "--- Total 1204.897750377655 seconds elapsed ---\n",
      "After 1 iteration: 241.0010244846344 seconds elapsed\n",
      "--- Total 1208.2033801078796 seconds elapsed ---\n",
      "After 1 iteration: 241.9720721244812 seconds elapsed\n",
      "--- Total 1394.2327942848206 seconds elapsed ---\n",
      "After 1 iteration: 377.1801407337189 seconds elapsed\n"
     ]
    }
   ],
   "source": [
    "## Binary Classification Based Models:\n",
    "methods = ['binary']\n",
    "corr_methods = ['pearson', 'constrained_pearson', 'cosine', 'adjusted_cosine']\n",
    "nrun = [5]\n",
    "train_ratio_value = [0.8]\n",
    "k_values_list = [5, 10, 20, 50]\n",
    "\n",
    "param_grid = {'method' : methods,\n",
    "              'corr_method' : corr_methods,\n",
    "              'nruns' : nrun,\n",
    "              'train_ratio' : train_ratio_value,\n",
    "              'k' : k_values_list\n",
    "              }\n",
    "\n",
    "parameters_grid = ParameterGrid(param_grid)\n",
    "\n",
    "binary_performance = []\n",
    "\n",
    "for params in parameters_grid:\n",
    "    binary_performance.append([params, [model.runModel(data, col_name = 'playtime_cdf', p_out = True, **params)]])\n",
    "        \n",
    "df_binary_perf = pd.DataFrame(binary_performance)\n",
    "df_binary_perf.to_csv('BinaryModelsPerformanceCollection_v1.csv')"
   ]
  },
  {
   "cell_type": "code",
   "execution_count": 69,
   "metadata": {
    "collapsed": false,
    "deletable": true,
    "editable": true
   },
   "outputs": [
    {
     "data": {
      "image/png": "[encoded data removed]",
      "text/plain": [
       "<matplotlib.figure.Figure at 0x2b5723e74588>"
      ]
     },
     "metadata": {},
     "output_type": "display_data"
    }
   ],
   "source": [
    "## Pearson Correlation performance variance w.r.t 'k' values\n",
    "bm_dump = pd.read_csv('/steam_data/BinaryModelsPerformanceCollection.csv', index_col = 0)\n",
    "\n",
    "bm_dump = pd.concat([bm_dump.drop(['0'], axis=1), bm_dump['0'].apply(eval).apply(pd.Series)], axis=1)\n",
    "\n",
    "bm_dump = pd.concat([bm_dump.drop(['1'], axis=1), bm_dump[\"1\"].apply(eval).apply(pd.Series)], axis=1)\n",
    "\n",
    "bm_dump = pd.concat([bm_dump.drop([0], axis=1), bm_dump[0].apply(pd.Series)], axis=1)\n",
    "bm_dump.rename(str, columns = {0:'recall', 1:'precision'}, inplace= True)\n",
    "\n",
    "fig, ax = plt.subplots(figsize = (12, 8))\n",
    "ax.plot(bm_dump[bm_dump['corr_method'] == 'pearson']['k'], [np.mean(i) for i in np.array(bm_dump[bm_dump['corr_method'] == 'pearson']['precision'])], alpha = 0.7, color = \"blue\", label = \"Precision@K\")\n",
    "ax.plot(bm_dump[bm_dump['corr_method'] == 'pearson']['k'], [np.mean(i) for i in np.array(bm_dump[bm_dump['corr_method'] == 'pearson']['recall'])], alpha = 0.7, color = \"g\", label = \"Recall@K\")\n",
    "ax.set_xlabel(\"K\")\n",
    "ax.set_ylabel(\"Recall & Precision\")\n",
    "ax.tick_params(direction = \"in\")\n",
    "\n",
    "ax.set_xticks([0, 20, 40, 60, 80, 100])\n",
    "ax.set_yticks([0, 0.1, 0.2, 0.3, 0.4, 0.5, 0.6])\n",
    "ax.legend(loc='lower right')\n",
    "fig.savefig(\"plots/pearson_kValues.svg\")\n",
    "plt.show()"
   ]
  },
  {
   "cell_type": "code",
   "execution_count": null,
   "metadata": {
    "collapsed": true,
    "deletable": true,
    "editable": true
   },
   "outputs": [],
   "source": []
  },
  {
   "cell_type": "markdown",
   "metadata": {
    "deletable": true,
    "editable": true
   },
   "source": [
    "### Fine Grid Search on Correlation Threshold to tune performance:"
   ]
  },
  {
   "cell_type": "code",
   "execution_count": 84,
   "metadata": {
    "collapsed": false,
    "deletable": true,
    "editable": true
   },
   "outputs": [
    {
     "name": "stderr",
     "output_type": "stream",
     "text": [
      "/scratch/bva212/steam_data/userSimilarityModels_v1.py:160: FutureWarning: reshape is deprecated and will raise in a subsequent release. Please use .values.reshape(...) instead\n",
      "  corr_den = np.sqrt(np.matmul(np.sum(pow(dataset_submean, 2), axis = 1).reshape((n,1)), np.sum(pow(dataset_submean, 2), axis = 1).reshape((1,n)))) + self.eps\n"
     ]
    },
    {
     "name": "stdout",
     "output_type": "stream",
     "text": [
      "After 1 iteration: 232.88421630859375 seconds elapsed\n",
      "--- Total 232.884432554245 seconds elapsed ---\n",
      "After 1 iteration: 233.188960313797 seconds elapsed\n",
      "--- Total 233.18917536735535 seconds elapsed ---\n",
      "After 1 iteration: 233.68665051460266 seconds elapsed\n",
      "--- Total 233.68687534332275 seconds elapsed ---\n",
      "After 1 iteration: 232.49224257469177 seconds elapsed\n",
      "--- Total 232.49248337745667 seconds elapsed ---\n",
      "After 1 iteration: 239.28418397903442 seconds elapsed\n",
      "--- Total 239.28440141677856 seconds elapsed ---\n",
      "After 1 iteration: 239.42987608909607 seconds elapsed\n",
      "--- Total 239.43011355400085 seconds elapsed ---\n",
      "After 1 iteration: 239.06998538970947 seconds elapsed\n",
      "--- Total 239.0704984664917 seconds elapsed ---\n",
      "After 1 iteration: 239.75225949287415 seconds elapsed\n",
      "--- Total 239.75276947021484 seconds elapsed ---\n",
      "After 1 iteration: 225.34570741653442 seconds elapsed\n",
      "--- Total 225.3462119102478 seconds elapsed ---\n",
      "After 1 iteration: 218.31188464164734 seconds elapsed\n",
      "--- Total 218.31212282180786 seconds elapsed ---\n",
      "After 1 iteration: 218.34366273880005 seconds elapsed\n",
      "--- Total 218.3441722393036 seconds elapsed ---\n",
      "After 1 iteration: 224.15299606323242 seconds elapsed\n",
      "--- Total 224.15350461006165 seconds elapsed ---\n",
      "After 1 iteration: 215.64305758476257 seconds elapsed\n",
      "--- Total 215.64324355125427 seconds elapsed ---\n",
      "After 1 iteration: 220.7202160358429 seconds elapsed\n",
      "--- Total 220.7204384803772 seconds elapsed ---\n",
      "After 1 iteration: 217.93984150886536 seconds elapsed\n",
      "--- Total 217.94003033638 seconds elapsed ---\n",
      "After 1 iteration: 216.63705396652222 seconds elapsed\n",
      "--- Total 216.63756251335144 seconds elapsed ---\n",
      "After 1 iteration: 219.32521152496338 seconds elapsed\n",
      "--- Total 219.3256778717041 seconds elapsed ---\n",
      "After 1 iteration: 216.4134624004364 seconds elapsed\n",
      "--- Total 216.4139654636383 seconds elapsed ---\n",
      "After 1 iteration: 222.0468509197235 seconds elapsed\n",
      "--- Total 222.04722595214844 seconds elapsed ---\n",
      "After 1 iteration: 216.9500424861908 seconds elapsed\n",
      "--- Total 216.95028614997864 seconds elapsed ---\n",
      "After 1 iteration: 219.5232539176941 seconds elapsed\n",
      "--- Total 219.52347588539124 seconds elapsed ---\n",
      "After 1 iteration: 217.9047348499298 seconds elapsed\n",
      "--- Total 217.90497541427612 seconds elapsed ---\n",
      "After 1 iteration: 215.6061143875122 seconds elapsed\n",
      "--- Total 215.60630917549133 seconds elapsed ---\n",
      "After 1 iteration: 219.12192511558533 seconds elapsed\n",
      "--- Total 219.1221718788147 seconds elapsed ---\n",
      "After 1 iteration: 215.18705892562866 seconds elapsed\n",
      "--- Total 215.1872570514679 seconds elapsed ---\n",
      "After 1 iteration: 221.8187952041626 seconds elapsed\n",
      "--- Total 221.81901454925537 seconds elapsed ---\n",
      "After 1 iteration: 216.4600818157196 seconds elapsed\n",
      "--- Total 216.46056485176086 seconds elapsed ---\n",
      "After 1 iteration: 217.7580337524414 seconds elapsed\n",
      "--- Total 217.75824356079102 seconds elapsed ---\n",
      "After 1 iteration: 204.9831578731537 seconds elapsed\n",
      "--- Total 204.98341464996338 seconds elapsed ---\n",
      "After 1 iteration: 202.93596005439758 seconds elapsed\n",
      "--- Total 202.93620133399963 seconds elapsed ---\n",
      "After 1 iteration: 208.75843954086304 seconds elapsed\n",
      "--- Total 208.75864386558533 seconds elapsed ---\n",
      "After 1 iteration: 204.1771342754364 seconds elapsed\n",
      "--- Total 204.17762279510498 seconds elapsed ---\n",
      "After 1 iteration: 199.53010368347168 seconds elapsed\n",
      "--- Total 199.53028988838196 seconds elapsed ---\n",
      "After 1 iteration: 202.65612697601318 seconds elapsed\n",
      "--- Total 202.65635800361633 seconds elapsed ---\n",
      "After 1 iteration: 198.2194938659668 seconds elapsed\n",
      "--- Total 198.21971654891968 seconds elapsed ---\n",
      "After 1 iteration: 204.87549352645874 seconds elapsed\n",
      "--- Total 204.87572240829468 seconds elapsed ---\n",
      "After 1 iteration: 199.60065817832947 seconds elapsed\n",
      "--- Total 199.60086870193481 seconds elapsed ---\n",
      "After 1 iteration: 198.194988489151 seconds elapsed\n",
      "--- Total 198.19553446769714 seconds elapsed ---\n",
      "After 1 iteration: 202.6551342010498 seconds elapsed\n",
      "--- Total 202.65560269355774 seconds elapsed ---\n",
      "After 1 iteration: 198.89686584472656 seconds elapsed\n",
      "--- Total 198.89737844467163 seconds elapsed ---\n"
     ]
    }
   ],
   "source": [
    "## Binary Classification with High Correlation Based Models:\n",
    "methods = ['binary_highcorrelation']\n",
    "corr_methods = ['pearson', 'cosine']\n",
    "nrun = [1]\n",
    "train_ratio_value = [0.8]\n",
    "k_values_list = [5, 10, 20, 50]\n",
    "corr_threshold_values = [0, 0.1, 0.25, 0.4, 0.5]\n",
    "\n",
    "param_grid = {'method' : methods,\n",
    "              'corr_method' : corr_methods,\n",
    "              'nruns' : nrun,\n",
    "              'train_ratio' : train_ratio_value,\n",
    "              'k' : k_values_list,\n",
    "              'corr_threshold' : corr_threshold_values\n",
    "              }\n",
    "\n",
    "parameters_grid = ParameterGrid(param_grid)\n",
    "\n",
    "binary_highcorrelation_performance = []\n",
    "\n",
    "for params in parameters_grid:\n",
    "    binary_highcorrelation_performance.append([params, [model.runModel(data, col_name = 'playtime_cdf', p_out = True, **params)]])\n",
    "\n",
    "df_binary_perf = pd.DataFrame(binary_highcorrelation_performance)\n",
    "df_binary_perf.to_csv('BinaryModelsHighCorrPerformanceCollection.csv')"
   ]
  },
  {
   "cell_type": "code",
   "execution_count": 86,
   "metadata": {
    "collapsed": false,
    "deletable": true,
    "editable": true
   },
   "outputs": [
    {
     "data": {
      "text/html": [
       "<div>\n",
       "<table border=\"1\" class=\"dataframe\">\n",
       "  <thead>\n",
       "    <tr style=\"text-align: right;\">\n",
       "      <th></th>\n",
       "      <th>corr_method</th>\n",
       "      <th>corr_threshold</th>\n",
       "      <th>k</th>\n",
       "      <th>method</th>\n",
       "      <th>nruns</th>\n",
       "      <th>train_ratio</th>\n",
       "      <th>recall</th>\n",
       "      <th>precision</th>\n",
       "    </tr>\n",
       "  </thead>\n",
       "  <tbody>\n",
       "    <tr>\n",
       "      <th>0</th>\n",
       "      <td>pearson</td>\n",
       "      <td>0.0</td>\n",
       "      <td>5</td>\n",
       "      <td>binary_highcorrelation</td>\n",
       "      <td>1</td>\n",
       "      <td>0.8</td>\n",
       "      <td>[0.12459710471758163]</td>\n",
       "      <td>[0.5107258938244854]</td>\n",
       "    </tr>\n",
       "    <tr>\n",
       "      <th>1</th>\n",
       "      <td>pearson</td>\n",
       "      <td>0.0</td>\n",
       "      <td>10</td>\n",
       "      <td>binary_highcorrelation</td>\n",
       "      <td>1</td>\n",
       "      <td>0.8</td>\n",
       "      <td>[0.18841419037064694]</td>\n",
       "      <td>[0.40741061755146263]</td>\n",
       "    </tr>\n",
       "    <tr>\n",
       "      <th>2</th>\n",
       "      <td>pearson</td>\n",
       "      <td>0.0</td>\n",
       "      <td>20</td>\n",
       "      <td>binary_highcorrelation</td>\n",
       "      <td>1</td>\n",
       "      <td>0.8</td>\n",
       "      <td>[0.251999816944973]</td>\n",
       "      <td>[0.30309136872517156]</td>\n",
       "    </tr>\n",
       "    <tr>\n",
       "      <th>3</th>\n",
       "      <td>pearson</td>\n",
       "      <td>0.0</td>\n",
       "      <td>50</td>\n",
       "      <td>binary_highcorrelation</td>\n",
       "      <td>1</td>\n",
       "      <td>0.8</td>\n",
       "      <td>[0.35596353782104884]</td>\n",
       "      <td>[0.1996865294330083]</td>\n",
       "    </tr>\n",
       "    <tr>\n",
       "      <th>4</th>\n",
       "      <td>pearson</td>\n",
       "      <td>0.1</td>\n",
       "      <td>5</td>\n",
       "      <td>binary_highcorrelation</td>\n",
       "      <td>1</td>\n",
       "      <td>0.8</td>\n",
       "      <td>[0.1291434933463392]</td>\n",
       "      <td>[0.5359913326110509]</td>\n",
       "    </tr>\n",
       "  </tbody>\n",
       "</table>\n",
       "</div>"
      ],
      "text/plain": [
       "  corr_method  corr_threshold   k                  method  nruns  train_ratio  \\\n",
       "0     pearson             0.0   5  binary_highcorrelation      1          0.8   \n",
       "1     pearson             0.0  10  binary_highcorrelation      1          0.8   \n",
       "2     pearson             0.0  20  binary_highcorrelation      1          0.8   \n",
       "3     pearson             0.0  50  binary_highcorrelation      1          0.8   \n",
       "4     pearson             0.1   5  binary_highcorrelation      1          0.8   \n",
       "\n",
       "                  recall              precision  \n",
       "0  [0.12459710471758163]   [0.5107258938244854]  \n",
       "1  [0.18841419037064694]  [0.40741061755146263]  \n",
       "2    [0.251999816944973]  [0.30309136872517156]  \n",
       "3  [0.35596353782104884]   [0.1996865294330083]  \n",
       "4   [0.1291434933463392]   [0.5359913326110509]  "
      ]
     },
     "execution_count": 87,
     "metadata": {},
     "output_type": "execute_result"
    }
   ],
   "source": [
    "bhp_dump = pd.read_csv('BinaryModelsHighCorrPerformanceCollection.csv', index_col=0)\n",
    "\n",
    "bhp_dump = pd.concat([bhp_dump.drop(['0'], axis=1), bhp_dump['0'].apply(eval).apply(pd.Series)], axis=1)#bm_dump[\"0\"].apply(eval).apply(pd.Series)\n",
    "bhp_dump.head()\n",
    "\n",
    "bhp_dump = pd.concat([bhp_dump.drop(['1'], axis=1), bhp_dump[\"1\"].apply(eval).apply(pd.Series)], axis=1)#bm_dump[\"0\"].apply(eval).apply(pd.Series)\n",
    "bhp_dump.head()\n",
    "\n",
    "bhp_dump = pd.concat([bhp_dump.drop([0], axis=1), bhp_dump[0].apply(pd.Series)], axis=1)#bm_dump[\"0\"].apply(eval).apply(pd.Series)\n",
    "bhp_dump.rename(str, columns = {0:'recall', 1:'precision'}, inplace= True)\n",
    "bhp_dump.head()"
   ]
  },
  {
   "cell_type": "code",
   "execution_count": 89,
   "metadata": {
    "collapsed": false,
    "deletable": true,
    "editable": true
   },
   "outputs": [
    {
     "data": {
      "image/png": "[encoded data removed]",
      "text/plain": [
       "<matplotlib.figure.Figure at 0x2b2c3d182a20>"
      ]
     },
     "metadata": {},
     "output_type": "display_data"
    }
   ],
   "source": [
    "fig, ax = plt.subplots(figsize = (12, 8))\n",
    "linp, = ax.plot(bhp_dump[(bhp_dump['corr_method'] == 'cosine') & (bhp_dump['k'] == 10)]['corr_threshold'], [np.mean(i) for i in np.array(bhp_dump[(bhp_dump['corr_method'] == 'pearson') & (bhp_dump['k'] == 10)]['precision'])], alpha = 0.7, color = \"blue\")\n",
    "logp, = ax.plot(bhp_dump[(bhp_dump['corr_method'] == 'cosine') & (bhp_dump['k'] == 10)]['corr_threshold'], [0.40834525099313829 for i in np.array(bhp_dump[(bhp_dump['corr_method'] == 'pearson') & (bhp_dump['k'] == 10)]['precision'])], '--', alpha = 0.7, color = \"blue\")\n",
    "\n",
    "linr, = ax.plot(bhp_dump[(bhp_dump['corr_method'] == 'cosine') & (bhp_dump['k'] == 10)]['corr_threshold'], [np.mean(i) for i in np.array(bhp_dump[(bhp_dump['corr_method'] == 'pearson') & (bhp_dump['k'] == 10)]['recall'])], alpha = 0.7, color = \"g\")\n",
    "logr, = ax.plot(bhp_dump[(bhp_dump['corr_method'] == 'cosine') & (bhp_dump['k'] == 10)]['corr_threshold'], [0.18945162839030899 for i in np.array(bhp_dump[(bhp_dump['corr_method'] == 'pearson') & (bhp_dump['k'] == 10)]['precision'])], '--', alpha = 0.7, color = \"g\")\n",
    "\n",
    "dum1, = ax.plot([], [], c = \"k\", alpha = 0.7)\n",
    "dum2, = ax.plot([], [], c = \"k\", alpha = 0.7, ls = \"--\")\n",
    "\n",
    "legend1 = plt.legend([linp, linr], [\"Precision@k\", \"Recall@k\"], loc = \"upper right\")\n",
    "legend2 = plt.legend([dum1, dum2], [\"Performance@t\", \"Basic Performance\"], loc = \"lower right\")\n",
    "ax.add_artist(legend1)\n",
    "ax.set_xlabel(\"Correlation Threshold\")\n",
    "ax.tick_params(direction = \"in\")\n",
    "ax.set_yticks([0, 0.1, 0.2, 0.3, 0.4, 0.5, 0.6])\n",
    "#ax.set_yticks(np.arange(0.1, 1, 0.1))\n",
    "fig.savefig(\"plots/CF_Corr_threshold.svg\")\n",
    "plt.show()"
   ]
  },
  {
   "cell_type": "code",
   "execution_count": null,
   "metadata": {
    "collapsed": true,
    "deletable": true,
    "editable": true
   },
   "outputs": [],
   "source": []
  },
  {
   "cell_type": "code",
   "execution_count": null,
   "metadata": {
    "collapsed": true,
    "deletable": true,
    "editable": true
   },
   "outputs": [],
   "source": []
  },
  {
   "cell_type": "code",
   "execution_count": null,
   "metadata": {
    "collapsed": true,
    "deletable": true,
    "editable": true
   },
   "outputs": [],
   "source": []
  }
 ],
 "metadata": {
  "kernelspec": {
   "display_name": "Python 3",
   "language": "python",
   "name": "python3"
  },
  "language_info": {
   "codemirror_mode": {
    "name": "ipython",
    "version": 3
   },
   "file_extension": ".py",
   "mimetype": "text/x-python",
   "name": "python",
   "nbconvert_exporter": "python",
   "pygments_lexer": "ipython3",
   "version": "3.7.1"
  }
 },
 "nbformat": 4,
 "nbformat_minor": 2
}
