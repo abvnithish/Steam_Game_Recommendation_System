{
 "cells": [
  {
   "cell_type": "code",
   "execution_count": 2,
   "metadata": {},
   "outputs": [],
   "source": [
    "import requests\n",
    "import xml.etree.ElementTree as ET\n",
    "import time"
   ]
  },
  {
   "cell_type": "code",
   "execution_count": 3,
   "metadata": {},
   "outputs": [
    {
     "name": "stdout",
     "output_type": "stream",
     "text": [
      "Done with i= 1\n",
      "Total ids done = 1000\n",
      "Done with i= 2\n",
      "Total ids done = 2000\n",
      "2000\n"
     ]
    }
   ],
   "source": [
    "idCount = 0\n",
    "\n",
    "with open(\"../steamIdList/Output.txt\", \"w\") as text_file:\n",
    "    for i in range(1,1826):\n",
    "        try:\n",
    "            req = requests.get(\"https://steamcommunity.com/groups/steamuniverse/memberslistxml/?xml=1&p=\" + str(i))\n",
    "            root = ET.fromstring(req.text)\n",
    "            fullString = \"\"\n",
    "            idlist = root.find(\"members\").findall(\"steamID64\")\n",
    "            idCount = idCount + len(idlist)\n",
    "            for a in idlist:\n",
    "                fullString = fullString + a.text + \"\\n\"\n",
    "            text_file.write(fullString)\n",
    "            print(\"Done with i= \" + str(i))\n",
    "            print(\"Total ids done = \" + str(idCount))\n",
    "        except:\n",
    "            print(\"Error at i= \" + str(i))\n",
    "            print(\"Total ids done= \" + str(idCount))\n",
    "        time.sleep(2)\n",
    "        \n",
    "            \n",
    "\n",
    "print(idCount) "
   ]
  },
  {
   "cell_type": "code",
   "execution_count": null,
   "metadata": {},
   "outputs": [],
   "source": []
  }
 ],
 "metadata": {
  "anaconda-cloud": {},
  "kernelspec": {
   "display_name": "Python 3",
   "language": "python",
   "name": "python3"
  }
 },
 "nbformat": 4,
 "nbformat_minor": 2
}
