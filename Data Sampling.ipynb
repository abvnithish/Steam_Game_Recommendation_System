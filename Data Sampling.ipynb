{
 "cells": [
  {
   "cell_type": "code",
   "execution_count": 1,
   "metadata": {},
   "outputs": [],
   "source": [
    "import json\n",
    "import numpy as np\n",
    "import pandas as pd\n",
    "import matplotlib.pyplot as plt"
   ]
  },
  {
   "cell_type": "markdown",
   "metadata": {},
   "source": [
    "### Loading the data :"
   ]
  },
  {
   "cell_type": "code",
   "execution_count": 2,
   "metadata": {},
   "outputs": [],
   "source": [
    "with open(\"data/ownedgames.json\", \"r\") as f :\n",
    "    data = json.loads(f.read())"
   ]
  },
  {
   "cell_type": "markdown",
   "metadata": {},
   "source": [
    "### Removing null entries :"
   ]
  },
  {
   "cell_type": "code",
   "execution_count": 3,
   "metadata": {},
   "outputs": [],
   "source": [
    "data = {key : value for key, value in data.items() if value != {}}\n",
    "data = {key : value for key, value in data.items() if value[\"game_count\"] != 0}"
   ]
  },
  {
   "cell_type": "markdown",
   "metadata": {},
   "source": [
    "### Making a DataFrame :"
   ]
  },
  {
   "cell_type": "code",
   "execution_count": 4,
   "metadata": {},
   "outputs": [],
   "source": [
    "df_values = []\n",
    "for key, value in data.items() :\n",
    "    steamid = key\n",
    "    for item in value[\"games\"] :\n",
    "        df_values.append((int(steamid), item[\"appid\"], item[\"playtime_forever\"]))"
   ]
  },
  {
   "cell_type": "code",
   "execution_count": 5,
   "metadata": {},
   "outputs": [],
   "source": [
    "df = pd.DataFrame(df_values, columns = [\"steamid\", \"appid\", \"playtime_forever\"])"
   ]
  },
  {
   "cell_type": "code",
   "execution_count": 6,
   "metadata": {
    "scrolled": true
   },
   "outputs": [
    {
     "data": {
      "text/html": [
       "<div>\n",
       "<style scoped>\n",
       "    .dataframe tbody tr th:only-of-type {\n",
       "        vertical-align: middle;\n",
       "    }\n",
       "\n",
       "    .dataframe tbody tr th {\n",
       "        vertical-align: top;\n",
       "    }\n",
       "\n",
       "    .dataframe thead th {\n",
       "        text-align: right;\n",
       "    }\n",
       "</style>\n",
       "<table border=\"1\" class=\"dataframe\">\n",
       "  <thead>\n",
       "    <tr style=\"text-align: right;\">\n",
       "      <th></th>\n",
       "      <th>steamid</th>\n",
       "      <th>appid</th>\n",
       "      <th>playtime_forever</th>\n",
       "    </tr>\n",
       "  </thead>\n",
       "  <tbody>\n",
       "    <tr>\n",
       "      <th>0</th>\n",
       "      <td>76561197969918174</td>\n",
       "      <td>10</td>\n",
       "      <td>3</td>\n",
       "    </tr>\n",
       "    <tr>\n",
       "      <th>1</th>\n",
       "      <td>76561197969918174</td>\n",
       "      <td>20</td>\n",
       "      <td>0</td>\n",
       "    </tr>\n",
       "    <tr>\n",
       "      <th>2</th>\n",
       "      <td>76561197969918174</td>\n",
       "      <td>30</td>\n",
       "      <td>0</td>\n",
       "    </tr>\n",
       "    <tr>\n",
       "      <th>3</th>\n",
       "      <td>76561197969918174</td>\n",
       "      <td>40</td>\n",
       "      <td>0</td>\n",
       "    </tr>\n",
       "    <tr>\n",
       "      <th>4</th>\n",
       "      <td>76561197969918174</td>\n",
       "      <td>50</td>\n",
       "      <td>0</td>\n",
       "    </tr>\n",
       "  </tbody>\n",
       "</table>\n",
       "</div>"
      ],
      "text/plain": [
       "             steamid  appid  playtime_forever\n",
       "0  76561197969918174     10                 3\n",
       "1  76561197969918174     20                 0\n",
       "2  76561197969918174     30                 0\n",
       "3  76561197969918174     40                 0\n",
       "4  76561197969918174     50                 0"
      ]
     },
     "execution_count": 6,
     "metadata": {},
     "output_type": "execute_result"
    }
   ],
   "source": [
    "df.head()"
   ]
  },
  {
   "cell_type": "markdown",
   "metadata": {},
   "source": [
    "### Density of raw data :"
   ]
  },
  {
   "cell_type": "code",
   "execution_count": 7,
   "metadata": {},
   "outputs": [],
   "source": [
    "density = lambda df : len(df) / (df[\"steamid\"].nunique() * df[\"appid\"].nunique())"
   ]
  },
  {
   "cell_type": "code",
   "execution_count": 8,
   "metadata": {},
   "outputs": [
    {
     "name": "stdout",
     "output_type": "stream",
     "text": [
      "Unique SteamIds : 16732\n",
      "Unique AppIds : 26203\n",
      "Density : 1.46 %\n"
     ]
    }
   ],
   "source": [
    "print(\"Unique SteamIds :\", df[\"steamid\"].nunique())\n",
    "print(\"Unique AppIds :\", df[\"appid\"].nunique())\n",
    "print(\"Density : {0:.2f} %\".format(density(df) * 100))"
   ]
  },
  {
   "cell_type": "markdown",
   "metadata": {},
   "source": [
    "### Sampling :\n",
    "Since games that have few players are not useful for recommendation, we discard such games. Similarly, players that have few games in their library are not useful for recommendation and we discard such players as well. The two criterias based on which we discard are \n",
    "1. Discard a `appid` if it has less than `c1` unique players\n",
    "2. Discard a `steamid` if it has less than `c2` unique games played\n",
    "\n",
    "We determine cutoffs `c1` and `c2` by the distribution of `steamid` counts and `appid` counts respectively. "
   ]
  },
  {
   "cell_type": "markdown",
   "metadata": {},
   "source": [
    "#### Grouping by `appid` to get player count for each `appid` :"
   ]
  },
  {
   "cell_type": "code",
   "execution_count": 9,
   "metadata": {},
   "outputs": [],
   "source": [
    "groupby_appid = df.groupby(by = \"appid\")[\"steamid\"].count()"
   ]
  },
  {
   "cell_type": "markdown",
   "metadata": {},
   "source": [
    "#### To determine `c1`, we plot the number of `appids` against unique `steamids`. \n",
    "For example, (1, 100) corresponds to there being 100 games that have only 1 player."
   ]
  },
  {
   "cell_type": "code",
   "execution_count": 10,
   "metadata": {},
   "outputs": [],
   "source": [
    "elbow_appid = groupby_appid.groupby(groupby_appid).count()\n",
    "x, y = elbow_appid.index, elbow_appid.values"
   ]
  },
  {
   "cell_type": "code",
   "execution_count": 11,
   "metadata": {},
   "outputs": [
    {
     "data": {
      "image/png": "[encoded data removed]",
      "text/plain": [
       "<Figure size 432x288 with 1 Axes>"
      ]
     },
     "metadata": {
      "needs_background": "light"
     },
     "output_type": "display_data"
    }
   ],
   "source": [
    "fig, ax = plt.subplots()\n",
    "ax.plot(x, y)\n",
    "ax.set_xlabel(\"Unique steamids/players\")\n",
    "ax.set_ylabel(\"Number of appids/games\")\n",
    "ax.set_xlim([0,100])\n",
    "plt.show()"
   ]
  },
  {
   "cell_type": "markdown",
   "metadata": {},
   "source": [
    "We choose `c1` = 10, based on the elbow of the above plot. "
   ]
  },
  {
   "cell_type": "code",
   "execution_count": 12,
   "metadata": {},
   "outputs": [],
   "source": [
    "filter_appid = groupby_appid[groupby_appid > 10]"
   ]
  },
  {
   "cell_type": "code",
   "execution_count": 13,
   "metadata": {},
   "outputs": [],
   "source": [
    "filter_appid_df = pd.merge(filter_appid.reset_index(), df, on = \"appid\").drop(\"steamid_x\", axis = 1).rename(index = int, columns = {\"steamid_y\" : \"steamid\"})"
   ]
  },
  {
   "cell_type": "code",
   "execution_count": 14,
   "metadata": {},
   "outputs": [
    {
     "data": {
      "text/html": [
       "<div>\n",
       "<style scoped>\n",
       "    .dataframe tbody tr th:only-of-type {\n",
       "        vertical-align: middle;\n",
       "    }\n",
       "\n",
       "    .dataframe tbody tr th {\n",
       "        vertical-align: top;\n",
       "    }\n",
       "\n",
       "    .dataframe thead th {\n",
       "        text-align: right;\n",
       "    }\n",
       "</style>\n",
       "<table border=\"1\" class=\"dataframe\">\n",
       "  <thead>\n",
       "    <tr style=\"text-align: right;\">\n",
       "      <th></th>\n",
       "      <th>appid</th>\n",
       "      <th>steamid</th>\n",
       "      <th>playtime_forever</th>\n",
       "    </tr>\n",
       "  </thead>\n",
       "  <tbody>\n",
       "    <tr>\n",
       "      <th>0</th>\n",
       "      <td>10</td>\n",
       "      <td>76561197969918174</td>\n",
       "      <td>3</td>\n",
       "    </tr>\n",
       "    <tr>\n",
       "      <th>1</th>\n",
       "      <td>10</td>\n",
       "      <td>76561198001033415</td>\n",
       "      <td>582</td>\n",
       "    </tr>\n",
       "    <tr>\n",
       "      <th>2</th>\n",
       "      <td>10</td>\n",
       "      <td>76561197987090062</td>\n",
       "      <td>0</td>\n",
       "    </tr>\n",
       "    <tr>\n",
       "      <th>3</th>\n",
       "      <td>10</td>\n",
       "      <td>76561197960794555</td>\n",
       "      <td>251</td>\n",
       "    </tr>\n",
       "    <tr>\n",
       "      <th>4</th>\n",
       "      <td>10</td>\n",
       "      <td>76561198053398526</td>\n",
       "      <td>211</td>\n",
       "    </tr>\n",
       "  </tbody>\n",
       "</table>\n",
       "</div>"
      ],
      "text/plain": [
       "   appid            steamid  playtime_forever\n",
       "0     10  76561197969918174                 3\n",
       "1     10  76561198001033415               582\n",
       "2     10  76561197987090062                 0\n",
       "3     10  76561197960794555               251\n",
       "4     10  76561198053398526               211"
      ]
     },
     "execution_count": 14,
     "metadata": {},
     "output_type": "execute_result"
    }
   ],
   "source": [
    "filter_appid_df.head()"
   ]
  },
  {
   "cell_type": "code",
   "execution_count": 15,
   "metadata": {},
   "outputs": [
    {
     "name": "stdout",
     "output_type": "stream",
     "text": [
      "Unique SteamIds : 16732\n",
      "Unique AppIds : 18026\n",
      "Density : 2.11 %\n"
     ]
    }
   ],
   "source": [
    "print(\"Unique SteamIds :\", filter_appid_df[\"steamid\"].nunique())\n",
    "print(\"Unique AppIds :\", filter_appid_df[\"appid\"].nunique())\n",
    "print(\"Density : {0:.2f} %\".format(density(filter_appid_df) * 100))"
   ]
  },
  {
   "cell_type": "markdown",
   "metadata": {},
   "source": [
    "By removing sparse games, the density of the new data has improved. The unique `appids` have decreased naturally while the unique `steamids` have not decreased. We now perform a similar procedure that discards the sparse players."
   ]
  },
  {
   "cell_type": "code",
   "execution_count": 16,
   "metadata": {},
   "outputs": [],
   "source": [
    "groupby_steamid = filter_appid_df.groupby(by = \"steamid\").count()[\"appid\"]"
   ]
  },
  {
   "cell_type": "markdown",
   "metadata": {},
   "source": [
    "#### We plot the distribtion of `appid` counts to determine the cutoff `c2`."
   ]
  },
  {
   "cell_type": "code",
   "execution_count": 17,
   "metadata": {},
   "outputs": [],
   "source": [
    "groupby_steamid_nparr = groupby_steamid.values"
   ]
  },
  {
   "cell_type": "code",
   "execution_count": 24,
   "metadata": {},
   "outputs": [
    {
     "data": {
      "image/png": "[encoded data removed]",
      "text/plain": [
       "<Figure size 1008x288 with 2 Axes>"
      ]
     },
     "metadata": {
      "needs_background": "light"
     },
     "output_type": "display_data"
    }
   ],
   "source": [
    "fig, ax = plt.subplots(ncols = 2, figsize = (14, 4))\n",
    "counts, bin_edges = np.histogram(groupby_steamid_nparr, bins = 1000, density = True)\n",
    "ecdf = np.cumsum(counts)\n",
    "ax[0].hist(groupby_steamid_nparr, density = True, bins = 1000)\n",
    "ax[0].set_xlabel(\"Unique appids/games\")\n",
    "ax[0].set_xlim([0, 1000])\n",
    "ax[0].set_title(\"PDF\")\n",
    "ax[1].plot(bin_edges[1:], ecdf/ecdf[-1])\n",
    "ax[1].set_xlim([0, 1000])\n",
    "ax[1].set_xlabel(\"Unique appids/games\")\n",
    "ax[1].set_title(\"CDF\")\n",
    "plt.show()"
   ]
  },
  {
   "cell_type": "markdown",
   "metadata": {},
   "source": [
    "We determine `c2` to be 65, the reason being that the distribution of `appid` counts start to increase rapidly after 65 (users with number of unique games less than 65 are rare). We want to discard such users because they are quite sparse compared to the rest of the data and result in negligible data loss but noticably increase the density."
   ]
  },
  {
   "cell_type": "code",
   "execution_count": 19,
   "metadata": {},
   "outputs": [],
   "source": [
    "filter_steamid = groupby_steamid[groupby_steamid > 65]"
   ]
  },
  {
   "cell_type": "code",
   "execution_count": 20,
   "metadata": {},
   "outputs": [],
   "source": [
    "filter_steamid_df = pd.merge(filter_steamid.reset_index(), filter_appid_df, on = \"steamid\").drop(\"appid_x\", axis = 1).rename(index = int, columns = {\"appid_y\" : \"appid\"})"
   ]
  },
  {
   "cell_type": "code",
   "execution_count": 21,
   "metadata": {},
   "outputs": [
    {
     "name": "stdout",
     "output_type": "stream",
     "text": [
      "Unique SteamIds : 14260\n",
      "Unique AppIds : 18026\n",
      "Density : 2.44 %\n"
     ]
    }
   ],
   "source": [
    "print(\"Unique SteamIds :\", filter_steamid_df[\"steamid\"].nunique())\n",
    "print(\"Unique AppIds :\", filter_steamid_df[\"appid\"].nunique())\n",
    "print(\"Density : {0:.2f} %\".format(density(filter_steamid_df) * 100))"
   ]
  },
  {
   "cell_type": "markdown",
   "metadata": {},
   "source": [
    "### Dumping the sampled data"
   ]
  },
  {
   "cell_type": "code",
   "execution_count": null,
   "metadata": {},
   "outputs": [],
   "source": [
    "#filter_steamid_df.to_csv(\"filtered_data.csv\")"
   ]
  },
  {
   "cell_type": "code",
   "execution_count": null,
   "metadata": {},
   "outputs": [],
   "source": []
  }
 ],
 "metadata": {
  "kernelspec": {
   "display_name": "Python 3",
   "language": "python",
   "name": "python3"
  },
  "language_info": {
   "codemirror_mode": {
    "name": "ipython",
    "version": 3
   },
   "file_extension": ".py",
   "mimetype": "text/x-python",
   "name": "python",
   "nbconvert_exporter": "python",
   "pygments_lexer": "ipython3",
   "version": "3.7.0"
  }
 },
 "nbformat": 4,
 "nbformat_minor": 2
}
