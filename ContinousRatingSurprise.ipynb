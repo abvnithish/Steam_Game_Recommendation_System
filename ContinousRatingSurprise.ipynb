{
 "cells": [
  {
   "cell_type": "code",
   "execution_count": 2,
   "metadata": {},
   "outputs": [],
   "source": [
    "import numpy as np\n",
    "import pandas as pd\n",
    "import surprise\n",
    "import matplotlib.pyplot as plt"
   ]
  },
  {
   "cell_type": "code",
   "execution_count": 3,
   "metadata": {},
   "outputs": [],
   "source": [
    "#Class to trainsform the data (both train and test in CDF)\n",
    "\n",
    "class cdfTransformer(object):\n",
    "    \n",
    "    transformerSeries = {}\n",
    "    \n",
    "    def __init__(self, useridcolname, itemidcolname, ratingcolname):\n",
    "        self.userid_colname = useridcolname\n",
    "        self.itemid_colname = itemidcolname\n",
    "        self.rating_colname = ratingcolname\n",
    "    \n",
    "    def getLowerOrEqualIndex(self,playtimeList, playtime):\n",
    "        if playtime < playtimeList[0]:\n",
    "            return 0\n",
    "        ans = 0\n",
    "        low = 0\n",
    "        high = len(playtimeList) - 1\n",
    "        while(low<=high):\n",
    "            mid = low + (high-low)//2\n",
    "            if playtime > playtimeList[mid]:\n",
    "                ans = mid\n",
    "                low = mid + 1\n",
    "            elif playtime == playtimeList[mid]:\n",
    "                return mid\n",
    "            else:\n",
    "                high = mid - 1\n",
    "        return ans      \n",
    "    \n",
    "    def getNearestCdf(self,appid, playtime):\n",
    "        playtimeList = self.transformerSeries[appid].index\n",
    "        bestpos = self.getLowerOrEqualIndex(playtimeList, playtime)\n",
    "        return self.transformerSeries[appid].iloc[bestpos]\n",
    "    \n",
    "    def fitTransform(self,tupledata):\n",
    "        grouped1 = tupledata.groupby([self.itemid_colname,self.rating_colname]).count()\n",
    "        grouped2 = grouped1.groupby(level=[0]).cumsum()\n",
    "        grouped3 = grouped2.groupby(level = [0]).max()\n",
    "        withcdf = grouped2/grouped3\n",
    "        self.transformerSeries = pd.Series(withcdf[self.userid_colname],index=withcdf.index)\n",
    "        withcdf_df = withcdf.reset_index(level=[0,1])\n",
    "        withcdf_df.rename(columns={self.userid_colname:'temp_rating'}, inplace=True)\n",
    "        finaltuple = pd.merge(withcdf_df,tupledata, on=[self.itemid_colname,self.rating_colname],how='inner',suffixes=('_newdf',''))\n",
    "        finaltuple.drop(self.rating_colname, inplace=True, axis = 1)\n",
    "        finaltuple.rename(columns={'temp_rating':self.rating_colname}, inplace=True)\n",
    "        return finaltuple\n",
    "\n",
    "    def Transform(self,tupledata):\n",
    "        ansdata = tupledata.groupby([self.itemid_colname,self.rating_colname]).count().reset_index()\n",
    "        ansdata.drop(self.userid_colname, inplace = True, axis = 1)\n",
    "        ansdata['rating_temp'] =  ansdata.apply(lambda x: self.getNearestCdf(x[self.itemid_colname],x[self.rating_colname]), axis = 1)\n",
    "        ansdata = pd.merge(ansdata,tupledata, on=[self.itemid_colname,self.rating_colname],how='inner',suffixes=('_newdf',''))\n",
    "        ansdata.drop(self.rating_colname, axis = 1, inplace = True)\n",
    "        ansdata.rename(columns = {\"rating_temp\":self.rating_colname}, inplace = True)         \n",
    "        return ansdata"
   ]
  },
  {
   "cell_type": "code",
   "execution_count": 4,
   "metadata": {},
   "outputs": [],
   "source": [
    "def constructCodes(df) :\n",
    "    \"\"\"\n",
    "    Maps 'steamid' to categorical code 'sid'\n",
    "    Maps 'appid' to categorical code 'aid'\n",
    "    Returns :\n",
    "        1. Dataframe with columns 'sid', 'aid', 'playtime_forever'\n",
    "        2. Dictionary mapping 'steamid' to 'sid'\n",
    "        3. Dictionary mapping 'sid' to 'steamid'\n",
    "        4. Dictionary mapping 'appid' to 'aid'\n",
    "        5. Dictionary mapping 'aid' to 'appid'\n",
    "    \"\"\"\n",
    "    coded_df = df.copy(deep = True)\n",
    "    coded_df[\"steamid\"] = coded_df[\"steamid\"].astype(\"category\")\n",
    "    coded_df[\"appid\"] = coded_df[\"appid\"].astype(\"category\")\n",
    "    coded_df[\"sid\"] = coded_df[\"steamid\"].cat.codes\n",
    "    coded_df[\"aid\"] = coded_df[\"appid\"].cat.codes\n",
    "    \n",
    "    sid_to_steamid = dict(enumerate(coded_df[\"steamid\"].cat.categories))\n",
    "    aid_to_appid = dict(enumerate(coded_df[\"appid\"].cat.categories))\n",
    "    steamid_to_sid = {v : k for k, v in sid_to_steamid.items()}\n",
    "    appid_to_aid = {v : k for k, v in aid_to_appid.items()}\n",
    "    \n",
    "    coded_df.drop([\"steamid\", \"appid\"], axis = 1, inplace = True)\n",
    "    \n",
    "    return(coded_df, steamid_to_sid, sid_to_steamid, appid_to_aid, aid_to_appid)"
   ]
  },
  {
   "cell_type": "code",
   "execution_count": 5,
   "metadata": {},
   "outputs": [],
   "source": [
    "def getSplit(df, train_size, validation_size) :\n",
    "    \"\"\"\n",
    "    Returns Train, Validation and Test DataFrames\n",
    "    \"\"\"\n",
    "    train = df.copy(deep = True)\n",
    "    val = df.copy(deep = True)\n",
    "    test = df.copy(deep = True)\n",
    "    \n",
    "    assert train_size + validation_size < 1, \"train_size + validation_size should be less than 1\"\n",
    "    test_size = 1 - train_size - validation_size\n",
    "    \n",
    "    test_sample = df.groupby(\"sid\").apply(lambda x : x.sample(frac = test_size))\n",
    "    test_sample.reset_index(level = 0, drop = True, inplace = True)\n",
    "    test_idx = test_sample.index\n",
    "    train.drop(test_idx, inplace = True)\n",
    "    val.drop(test_idx, inplace = True)\n",
    "    \n",
    "    val_sample = train.groupby(\"sid\").apply(lambda x : x.sample(frac = validation_size / (1 - test_size)))\n",
    "    val_sample.reset_index(level = 0, drop = True, inplace = True)\n",
    "    val_idx = val_sample.index\n",
    "    train.drop(val_idx, inplace = True)\n",
    "    \n",
    "    assert train[\"sid\"].nunique() == df[\"sid\"].nunique()\n",
    "    assert val[\"sid\"].nunique() == df[\"sid\"].nunique()\n",
    "\n",
    "    #Contingency if any appids don't make it to train and val\n",
    "    if train[\"aid\"].nunique() != df[\"aid\"].nunique() :\n",
    "        missing_train_aid = list(set(df[\"aid\"].unique()) - set(train[\"aid\"].unique()))\n",
    "        train_append = []\n",
    "        for aid in missing_train_aid :\n",
    "            train_append.append([0, 0, aid])\n",
    "        train = train.append(pd.DataFrame(train_append, columns = [\"playtime_forever\", \"sid\", \"aid\"]), ignore_index = True)\n",
    "    \n",
    "    if val[\"aid\"].nunique() != df[\"aid\"].nunique() :\n",
    "        missing_val_aid = list(set(df[\"aid\"].unique()) - set(val[\"aid\"].unique()))\n",
    "        val_append = []\n",
    "        for aid in missing_val_aid :\n",
    "            val_append.append([0, 0, aid])\n",
    "        val = val.append(pd.DataFrame(val_append, columns = [\"playtime_forever\", \"sid\", \"aid\"]), ignore_index = True)  \n",
    "    \n",
    "    return(train, val, test)"
   ]
  },
  {
   "cell_type": "code",
   "execution_count": 6,
   "metadata": {},
   "outputs": [],
   "source": [
    "def train_test_split(dff, split_ratio = 0.8):\n",
    "    \n",
    "    tr_sample = dff.groupby('sid').apply(lambda x:x.sample(frac = 0.8))\n",
    "    tr_sample_index = list(zip(*tr_sample.index))[1]\n",
    "    te_sample = dff[(dff.index.isin(tr_sample_index) == False)]\n",
    "    \n",
    "    tr_sample.index.rename(['id', 'appid_level'], inplace=True)\n",
    "    tr_sample.reset_index(drop = True, inplace = True)\n",
    "    te_sample.reset_index(drop = True, inplace = True)\n",
    "    \n",
    "    return tr_sample, te_sample"
   ]
  },
  {
   "cell_type": "code",
   "execution_count": 7,
   "metadata": {},
   "outputs": [],
   "source": [
    "from surprise import Dataset\n",
    "from surprise import Reader\n",
    "from surprise.model_selection import cross_validate"
   ]
  },
  {
   "cell_type": "markdown",
   "metadata": {},
   "source": [
    "Split the data on train -test and apply cdf transformation on both training and test data"
   ]
  },
  {
   "cell_type": "code",
   "execution_count": 12,
   "metadata": {
    "scrolled": true
   },
   "outputs": [
    {
     "name": "stderr",
     "output_type": "stream",
     "text": [
      "/home/raghavjajodia/anaconda3/lib/python3.7/site-packages/numpy/lib/arraysetops.py:522: FutureWarning: elementwise comparison failed; returning scalar instead, but in the future will perform elementwise comparison\n",
      "  mask |= (ar1 == a)\n"
     ]
    }
   ],
   "source": [
    "df = pd.read_csv(\"data/final_data.csv\", index_col = 0)\n",
    "df_coded, steamid_to_sid, sid_to_steamid, appid_to_aid, aid_to_appid = constructCodes(df)\n",
    "train, test = train_test_split(df_coded)\n",
    "cdf = cdfTransformer(\"sid\", \"aid\", \"playtime_forever\")\n",
    "train = cdf.fitTransform(train)"
   ]
  },
  {
   "cell_type": "code",
   "execution_count": 17,
   "metadata": {},
   "outputs": [],
   "source": [
    "test = cdf.Transform(test)"
   ]
  },
  {
   "cell_type": "code",
   "execution_count": 22,
   "metadata": {},
   "outputs": [],
   "source": [
    "train = train[['aid','sid','playtime_forever']]\n",
    "test = test[['aid','sid','playtime_forever']]"
   ]
  },
  {
   "cell_type": "code",
   "execution_count": 25,
   "metadata": {},
   "outputs": [],
   "source": [
    "reader = Reader(rating_scale = (0, 1))\n",
    "data_train = Dataset.load_from_df(train, reader)"
   ]
  },
  {
   "cell_type": "code",
   "execution_count": 82,
   "metadata": {},
   "outputs": [
    {
     "name": "stdout",
     "output_type": "stream",
     "text": [
      "Evaluating RMSE, MAE of algorithm SVD on 2 split(s).\n",
      "\n",
      "                  Fold 1  Fold 2  Mean    Std     \n",
      "RMSE (testset)    0.2609  0.2611  0.2610  0.0001  \n",
      "MAE (testset)     0.2172  0.2175  0.2174  0.0002  \n",
      "Fit time          56.03   59.08   57.55   1.52    \n",
      "Test time         17.05   14.72   15.89   1.16    \n",
      "Evaluating RMSE, MAE of algorithm SVD on 2 split(s).\n",
      "\n",
      "                  Fold 1  Fold 2  Mean    Std     \n",
      "RMSE (testset)    0.2608  0.2607  0.2607  0.0000  \n",
      "MAE (testset)     0.2172  0.2170  0.2171  0.0001  \n",
      "Fit time          53.29   55.50   54.40   1.11    \n",
      "Test time         15.79   12.98   14.39   1.41    \n"
     ]
    }
   ],
   "source": [
    "#Do cross validation with hyperparameter tuning on latentFactors\n",
    "\n",
    "latentFactors = {10,20,50,100,70,80}\n",
    "lrates = {0.001,0.005,0.01,0.05,0.1}\n",
    "regparams = {0.02,0.1,0.002}\n",
    "\n",
    "lfDict = {}\n",
    "\n",
    "for lf in latentFactors:\n",
    "    algo = surprise.SVD(n_factors=lf)\n",
    "    results = cross_validate(algo, data_train, measures=['RMSE','MAE'], cv=2, verbose = True)\n",
    "    lfDict[lf] = results"
   ]
  },
  {
   "cell_type": "code",
   "execution_count": 34,
   "metadata": {},
   "outputs": [],
   "source": [
    "f = open('continousSurprise_LatentFactorsAnal.txt','w')\n",
    "for lf in lfDict:\n",
    "    f.write(str(lf) + '  ' + str(lfDict[lf]) + '\\n')\n",
    "f.close()"
   ]
  },
  {
   "cell_type": "code",
   "execution_count": 60,
   "metadata": {},
   "outputs": [],
   "source": [
    "plt.rc('font', family = \"serif\")\n",
    "plt.rc('xtick', labelsize='x-small')\n",
    "plt.rc('ytick', labelsize='x-small')"
   ]
  },
  {
   "cell_type": "code",
   "execution_count": 140,
   "metadata": {},
   "outputs": [
    {
     "data": {
      "image/png": "[encoded data removed]",
      "text/plain": [
       "<Figure size 288x216 with 1 Axes>"
      ]
     },
     "metadata": {
      "needs_background": "light"
     },
     "output_type": "display_data"
    }
   ],
   "source": [
    "#plot the graph with rmse and mae on different latent factors\n",
    "\n",
    "rmse_latentfac = [np.mean(lfDict[k]['test_rmse']) for k in list(lfDict.keys())]\n",
    "mae_latentfac = [np.mean(lfDict[k]['test_mae']) for k in list(lfDict.keys())]\n",
    "latentfac = [int(k) for k in lfDict.keys()]\n",
    "latentfac = np.array(latentfac)\n",
    "rmse_latentfac = np.array(rmse_latentfac)\n",
    "mae_latentfac = np.array(mae_latentfac)\n",
    "\n",
    "latentfacnew = latentfac[latentfac.argsort()]\n",
    "rmse_latentfacnew = rmse_latentfac[latentfac.argsort()]\n",
    "mae_latentfacnew = mae_latentfac[latentfac.argsort()]\n",
    "\n",
    "fig, ax = plt.subplots(figsize = (4, 3))\n",
    "ax.plot(latentfacnew, rmse_latentfacnew, alpha = 0.7, color = \"blue\", label = \"RMSE\")\n",
    "ax.plot(latentfacnew, mae_latentfacnew, alpha = 0.7, color = \"g\", label = \"MAE\")\n",
    "ax.set_xlabel('Latent Factors')\n",
    "ax.tick_params(direction = \"in\")\n",
    "box = ax.get_position()\n",
    "ax.set_position([box.x0, box.y0 + box.height * 0.1,\n",
    "                 box.width, box.height * 0.8])\n",
    "\n",
    "ax.legend(loc='lower right')\n",
    "ax.set_xticks([0, 10, 20, 30, 40, 50, 60, 70, 80,90, 100])\n",
    "ax.set_yticks([0.18, 0.20, 0.22, 0.24, 0.26,0.28])\n",
    "fig.savefig(\"LatentFacvsRmseMae_final_final.svg\")\n",
    "plt.show()"
   ]
  },
  {
   "cell_type": "code",
   "execution_count": 87,
   "metadata": {},
   "outputs": [
    {
     "name": "stdout",
     "output_type": "stream",
     "text": [
      "Evaluating RMSE, MAE of algorithm SVD on 2 split(s).\n",
      "\n",
      "                  Fold 1  Fold 2  Mean    Std     \n",
      "RMSE (testset)    0.2528  0.2532  0.2530  0.0002  \n",
      "MAE (testset)     0.2066  0.2071  0.2069  0.0003  \n",
      "Fit time          67.15   76.90   72.03   4.87    \n",
      "Test time         16.51   16.36   16.44   0.08    \n",
      "Evaluating RMSE, MAE of algorithm SVD on 2 split(s).\n",
      "\n",
      "                  Fold 1  Fold 2  Mean    Std     \n",
      "RMSE (testset)    0.2543  0.2544  0.2543  0.0000  \n",
      "MAE (testset)     0.2059  0.2061  0.2060  0.0001  \n",
      "Fit time          73.20   73.74   73.47   0.27    \n",
      "Test time         14.32   17.78   16.05   1.73    \n",
      "Evaluating RMSE, MAE of algorithm SVD on 2 split(s).\n",
      "\n",
      "                  Fold 1  Fold 2  Mean    Std     \n",
      "RMSE (testset)    0.2538  0.2540  0.2539  0.0001  \n",
      "MAE (testset)     0.2059  0.2062  0.2060  0.0002  \n",
      "Fit time          71.81   67.96   69.88   1.93    \n",
      "Test time         13.12   14.95   14.04   0.91    \n"
     ]
    }
   ],
   "source": [
    "lratesDic = {}\n",
    "\n",
    "lrates = {0.03,0.07,0.08}\n",
    "\n",
    "for lrat in lrates:\n",
    "    algo = surprise.SVD(lr_all=lrat)\n",
    "    results = cross_validate(algo, data_train, measures=['RMSE','MAE'], cv=2, verbose = True)\n",
    "    lratesDic[lrat] = results\n",
    "    \n",
    "f = open('continousSurprise_LratesAnal2.txt','w')\n",
    "for lrat in lrates:\n",
    "    f.write(str(lrat) + '  ' + str(lratesDic[lrat]) + '\\n')\n",
    "f.close()"
   ]
  },
  {
   "cell_type": "code",
   "execution_count": 143,
   "metadata": {},
   "outputs": [
    {
     "data": {
      "image/png": "[encoded data removed]",
      "text/plain": [
       "<Figure size 288x216 with 1 Axes>"
      ]
     },
     "metadata": {
      "needs_background": "light"
     },
     "output_type": "display_data"
    }
   ],
   "source": [
    "#plot rmse and mae with different learning rates\n",
    "\n",
    "rmse_lr = [np.mean(lratesDic[k]['test_rmse']) for k in list(lratesDic.keys())]\n",
    "mae_lr = [np.mean(lratesDic[k]['test_mae']) for k in list(lratesDic.keys())]\n",
    "lr = [float(k) for k in lratesDic.keys()]\n",
    "\n",
    "lr = np.array(lr)\n",
    "rmse_lr = np.array(rmse_lr)\n",
    "mae_lr = np.array(mae_lr)\n",
    "\n",
    "lrnew = lr[lr.argsort()]\n",
    "rmse_lrnew = rmse_lr[lr.argsort()]\n",
    "mae_lrnew = mae_lr[lr.argsort()]\n",
    "\n",
    "fig, ax = plt.subplots(figsize = (4, 3))\n",
    "ax.plot(lrnew, rmse_lrnew, alpha = 0.7, color = \"blue\", label = \"RMSE\")\n",
    "ax.plot(lrnew, mae_lrnew, alpha = 0.7,  color = \"g\", label = \"MAE\")\n",
    "ax.set_xlabel('Learning Rate')\n",
    "ax.tick_params(direction = \"in\")\n",
    "box = ax.get_position()\n",
    "ax.set_position([box.x0, box.y0 + box.height * 0.1,\n",
    "                 box.width, box.height * 0.8])\n",
    "\n",
    "ax.legend(loc='lower right')\n",
    "ax.set_xticks([0, 0.020, 0.040,  0.060,  0.080, 0.100])\n",
    "ax.set_yticks([0.16,0.18,0.20,0.22,0.24,0.26,0.28])\n",
    "fig.savefig(\"LearningRatevsRmseMae_final_final.svg\")\n",
    "plt.show()"
   ]
  },
  {
   "cell_type": "code",
   "execution_count": 92,
   "metadata": {},
   "outputs": [
    {
     "name": "stdout",
     "output_type": "stream",
     "text": [
      "Evaluating RMSE, MAE of algorithm SVD on 2 split(s).\n",
      "\n",
      "                  Fold 1  Fold 2  Mean    Std     \n",
      "RMSE (testset)    0.2599  0.2600  0.2599  0.0000  \n",
      "MAE (testset)     0.2174  0.2174  0.2174  0.0000  \n",
      "Fit time          62.48   61.78   62.13   0.35    \n",
      "Test time         15.76   14.01   14.88   0.87    \n",
      "Evaluating RMSE, MAE of algorithm SVD on 2 split(s).\n",
      "\n",
      "                  Fold 1  Fold 2  Mean    Std     \n",
      "RMSE (testset)    0.2598  0.2599  0.2598  0.0000  \n",
      "MAE (testset)     0.2177  0.2178  0.2178  0.0000  \n",
      "Fit time          61.93   65.78   63.86   1.93    \n",
      "Test time         18.35   15.19   16.77   1.58    \n"
     ]
    }
   ],
   "source": [
    "regparams = {0.05,0.07}\n",
    "regparamsDic = {}\n",
    "\n",
    "for rparam in regparams:\n",
    "    algo = surprise.SVD(reg_all=rparam)\n",
    "    results = cross_validate(algo, data_train, measures=['RMSE','MAE'], cv=2, verbose = True)\n",
    "    regparamsDic[rparam] = results\n",
    "    \n",
    "f = open('continousSurprise_RegparamAnal2.txt','w')\n",
    "for rparam in regparams:\n",
    "    f.write(str(rparam) + '  ' + str(regparamsDic[rparam]) + '\\n')\n",
    "f.close()"
   ]
  },
  {
   "cell_type": "code",
   "execution_count": 145,
   "metadata": {},
   "outputs": [
    {
     "data": {
      "image/png": "[encoded data removed]",
      "text/plain": [
       "<Figure size 288x216 with 1 Axes>"
      ]
     },
     "metadata": {
      "needs_background": "light"
     },
     "output_type": "display_data"
    }
   ],
   "source": [
    "rmse_regpar = [np.mean(regparamsDic[k]['test_rmse']) for k in list(regparamsDic.keys())]\n",
    "mae_regpar = [np.mean(regparamsDic[k]['test_mae']) for k in list(regparamsDic.keys())]\n",
    "regpar = [float(k) for k in regparamsDic.keys()]\n",
    "\n",
    "\n",
    "regpar = np.array(regpar)\n",
    "rmse_regpar = np.array(rmse_regpar)\n",
    "mae_regpar = np.array(mae_regpar)\n",
    "\n",
    "regparnew = regpar[regpar.argsort()]\n",
    "rmse_regparnew = rmse_regpar[regpar.argsort()]\n",
    "mae_regparnew = mae_regpar[regpar.argsort()]\n",
    "\n",
    "\n",
    "fig, ax = plt.subplots(figsize = (4, 3))\n",
    "ax.plot(regparnew, rmse_regparnew, alpha = 0.7, color = \"blue\", label = \"RMSE\")\n",
    "ax.plot(regparnew, mae_regparnew, alpha = 0.7,  color = \"g\", label = \"MAE\")\n",
    "ax.set_xlabel('Regularization Parameter')\n",
    "ax.tick_params(direction = \"in\")\n",
    "box = ax.get_position()\n",
    "ax.set_position([box.x0, box.y0 + box.height * 0.1,\n",
    "                 box.width, box.height * 0.8])\n",
    "\n",
    "ax.legend(loc='lower right')\n",
    "ax.set_yticks([0.18,0.20, 0.22, 0.24, 0.26,0.28])\n",
    "fig.savefig(\"RegParametervsRmseMae_final_final.svg\")\n",
    "plt.show()"
   ]
  },
  {
   "cell_type": "code",
   "execution_count": 97,
   "metadata": {
    "scrolled": true
   },
   "outputs": [
    {
     "name": "stdout",
     "output_type": "stream",
     "text": [
      "Evaluating RMSE, MAE of algorithm SVD on 2 split(s).\n",
      "\n",
      "                  Fold 1  Fold 2  Mean    Std     \n",
      "RMSE (testset)    0.2575  0.2577  0.2576  0.0001  \n",
      "MAE (testset)     0.2142  0.2145  0.2144  0.0001  \n",
      "RMSE (trainset)   0.2523  0.2524  0.2523  0.0000  \n",
      "MAE (trainset)    0.2099  0.2100  0.2100  0.0000  \n",
      "Fit time          218.10  225.68  221.89  3.79    \n",
      "Test time         14.91   13.31   14.11   0.80    \n",
      "Evaluating RMSE, MAE of algorithm SVD on 2 split(s).\n",
      "\n",
      "                  Fold 1  Fold 2  Mean    Std     \n",
      "RMSE (testset)    0.2579  0.2574  0.2577  0.0002  \n",
      "MAE (testset)     0.2148  0.2143  0.2145  0.0002  \n",
      "RMSE (trainset)   0.2523  0.2529  0.2526  0.0003  \n",
      "MAE (trainset)    0.2099  0.2105  0.2102  0.0003  \n",
      "Fit time          170.51  169.48  170.00  0.51    \n",
      "Test time         17.49   15.56   16.52   0.96    \n"
     ]
    }
   ],
   "source": [
    "epochs_list = {10,200,500,1000,150,200}\n",
    "\n",
    "epochDic = {}\n",
    "\n",
    "for epoch in epochs_list:\n",
    "    algo = surprise.SVD(n_epochs=epoch,  reg_all= 0.05, n_factors = 10)\n",
    "    results = cross_validate(algo, data_train, measures=['RMSE','MAE'], cv=2, verbose = True, return_train_measures=True)\n",
    "    epochDic[epoch] = results    \n",
    "    \n",
    "f = open('continousSurprise_epochanal4.txt','w')\n",
    "for epoch in epochs_list:\n",
    "    f.write(str(epoch) + '  ' + str(epochDic[epoch]) + '\\n')\n",
    "f.close()"
   ]
  },
  {
   "cell_type": "code",
   "execution_count": 147,
   "metadata": {},
   "outputs": [
    {
     "data": {
      "image/png": "[encoded data removed]",
      "text/plain": [
       "<Figure size 288x216 with 1 Axes>"
      ]
     },
     "metadata": {
      "needs_background": "light"
     },
     "output_type": "display_data"
    }
   ],
   "source": [
    "rmse_epoch_test = [np.mean(epochDic[k]['test_rmse']) for k in list(epochDic.keys())]\n",
    "rmse_epoch_train = [np.mean(epochDic[k]['train_rmse']) for k in list(epochDic.keys())]\n",
    "\n",
    "epoch = [int(k) for k in epochDic.keys()]\n",
    "\n",
    "epoch = np.array(epoch)\n",
    "rmse_epoch_test = np.array(rmse_epoch_test)\n",
    "rmse_epoch_train = np.array(rmse_epoch_train)\n",
    "\n",
    "epochnew = epoch[epoch.argsort()]\n",
    "rmse_epochtest_new = rmse_epoch_test[epoch.argsort()]\n",
    "rmse_epochtrain_new = rmse_epoch_train[epoch.argsort()]\n",
    "\n",
    "fig, ax = plt.subplots(figsize = (4, 3))\n",
    "ax.plot(epochnew, rmse_epochtest_new,  alpha = 0.7,  color = \"blue\", label = \"Test RMSE\")\n",
    "ax.plot(epochnew, rmse_epochtrain_new,  alpha = 0.7,  color = \"g\", label = \"Train RMSE\")\n",
    "ax.set_xlabel('Epochs')\n",
    "ax.tick_params(direction = \"in\")\n",
    "box = ax.get_position()\n",
    "ax.set_position([box.x0, box.y0 + box.height * 0.1,\n",
    "                 box.width, box.height * 0.8])\n",
    "\n",
    "ax.legend(loc='lower right')\n",
    "ax.set_xticks([0, 20, 40, 60, 80, 100, 120, 140, 160, 180, 200])\n",
    "ax.set_yticks([ 0.23, 0.24, 0.25, 0.26,0.27, 0.28])\n",
    "fig.savefig(\"EpochvsRmseMae_final_final.svg\")\n",
    "plt.show()"
   ]
  }
 ],
 "metadata": {
  "kernelspec": {
   "display_name": "Python 3",
   "language": "python",
   "name": "python3"
  },
  "language_info": {
   "codemirror_mode": {
    "name": "ipython",
    "version": 3
   },
   "file_extension": ".py",
   "mimetype": "text/x-python",
   "name": "python",
   "nbconvert_exporter": "python",
   "pygments_lexer": "ipython3",
   "version": "3.7.0"
  }
 },
 "nbformat": 4,
 "nbformat_minor": 2
}
