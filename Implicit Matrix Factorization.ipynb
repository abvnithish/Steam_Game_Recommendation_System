{
 "cells": [
  {
   "cell_type": "code",
   "execution_count": 1,
   "metadata": {},
   "outputs": [],
   "source": [
    "import pandas as pd\n",
    "import numpy as np\n",
    "import matplotlib.pyplot as plt\n",
    "import seaborn as sns\n",
    "import implicit\n",
    "import scipy.sparse as sparse\n",
    "from sklearn.model_selection import ParameterGrid\n",
    "import os\n",
    "import time\n",
    "\n",
    "#Recommended for implicit\n",
    "os.environ[\"MKL_NUM_THREADS\"] = \"1\""
   ]
  },
  {
   "cell_type": "code",
   "execution_count": 118,
   "metadata": {},
   "outputs": [],
   "source": [
    "plt.rc('font', family = \"serif\")\n",
    "plt.rc('xtick', labelsize='x-small')\n",
    "plt.rc('ytick', labelsize='x-small')"
   ]
  },
  {
   "cell_type": "code",
   "execution_count": 2,
   "metadata": {},
   "outputs": [],
   "source": [
    "def constructCodes(df) :\n",
    "    \"\"\"\n",
    "    Maps 'steamid' to categorical code 'sid'\n",
    "    Maps 'appid' to categorical code 'aid'\n",
    "    Returns :\n",
    "        1. Dataframe with columns 'sid', 'aid', 'playtime_forever'\n",
    "        2. Dictionary mapping 'steamid' to 'sid'\n",
    "        3. Dictionary mapping 'sid' to 'steamid'\n",
    "        4. Dictionary mapping 'appid' to 'aid'\n",
    "        5. Dictionary mapping 'aid' to 'appid'\n",
    "    \"\"\"\n",
    "    coded_df = df.copy(deep = True)\n",
    "    coded_df[\"steamid\"] = coded_df[\"steamid\"].astype(\"category\")\n",
    "    coded_df[\"appid\"] = coded_df[\"appid\"].astype(\"category\")\n",
    "    coded_df[\"sid\"] = coded_df[\"steamid\"].cat.codes\n",
    "    coded_df[\"aid\"] = coded_df[\"appid\"].cat.codes\n",
    "    \n",
    "    sid_to_steamid = dict(enumerate(coded_df[\"steamid\"].cat.categories))\n",
    "    aid_to_appid = dict(enumerate(coded_df[\"appid\"].cat.categories))\n",
    "    steamid_to_sid = {v : k for k, v in sid_to_steamid.items()}\n",
    "    appid_to_aid = {v : k for k, v in aid_to_appid.items()}\n",
    "    \n",
    "    coded_df.drop([\"steamid\", \"appid\"], axis = 1, inplace = True)\n",
    "    \n",
    "    return(coded_df, steamid_to_sid, sid_to_steamid, appid_to_aid, aid_to_appid)"
   ]
  },
  {
   "cell_type": "code",
   "execution_count": 3,
   "metadata": {},
   "outputs": [],
   "source": [
    "def getSplit(df, train_size, validation_size) :\n",
    "    \"\"\"\n",
    "    Returns Train, Validation and Test DataFrames\n",
    "    \"\"\"\n",
    "    train = df.copy(deep = True)\n",
    "    val = df.copy(deep = True)\n",
    "    test = df.copy(deep = True)\n",
    "    \n",
    "    assert train_size + validation_size < 1, \"train_size + validation_size should be less than 1\"\n",
    "    test_size = 1 - train_size - validation_size\n",
    "    \n",
    "    test_sample = df.groupby(\"sid\").apply(lambda x : x.sample(frac = test_size))\n",
    "    test_sample.reset_index(level = 0, drop = True, inplace = True)\n",
    "    test_idx = test_sample.index\n",
    "    train.drop(test_idx, inplace = True)\n",
    "    val.drop(test_idx, inplace = True)\n",
    "    \n",
    "    val_sample = train.groupby(\"sid\").apply(lambda x : x.sample(frac = validation_size / (1 - test_size)))\n",
    "    val_sample.reset_index(level = 0, drop = True, inplace = True)\n",
    "    val_idx = val_sample.index\n",
    "    train.drop(val_idx, inplace = True)\n",
    "    \n",
    "    assert train[\"sid\"].nunique() == df[\"sid\"].nunique()\n",
    "    assert val[\"sid\"].nunique() == df[\"sid\"].nunique()\n",
    "\n",
    "    #Contingency if any appids don't make it to train and val\n",
    "    if train[\"aid\"].nunique() != df[\"aid\"].nunique() :\n",
    "        missing_train_aid = list(set(df[\"aid\"].unique()) - set(train[\"aid\"].unique()))\n",
    "        train_append = []\n",
    "        for aid in missing_train_aid :\n",
    "            train_append.append([0, 0, aid])\n",
    "        train = train.append(pd.DataFrame(train_append, columns = [\"playtime_forever\", \"sid\", \"aid\"]), ignore_index = True)\n",
    "    \n",
    "    if val[\"aid\"].nunique() != df[\"aid\"].nunique() :\n",
    "        missing_val_aid = list(set(df[\"aid\"].unique()) - set(val[\"aid\"].unique()))\n",
    "        val_append = []\n",
    "        for aid in missing_val_aid :\n",
    "            val_append.append([0, 0, aid])\n",
    "        val = val.append(pd.DataFrame(val_append, columns = [\"playtime_forever\", \"sid\", \"aid\"]), ignore_index = True)  \n",
    "    \n",
    "    return(train, val, test)"
   ]
  },
  {
   "cell_type": "code",
   "execution_count": 4,
   "metadata": {},
   "outputs": [],
   "source": [
    "def constructSparseMatrices(df) :\n",
    "    \"\"\"\n",
    "    Constructs sparse matrices that will be used in ALS optimization\n",
    "    Input : Dataframe with columns - 'sid', 'aid', 'playtime_forever'\n",
    "    \n",
    "    Returns :\n",
    "        1. User x Item Sparse Matrix\n",
    "        2. Item x User Sparse Matrix\n",
    "    \"\"\"\n",
    "    data_useritem = sparse.csr_matrix((df[\"playtime_forever\"], (df[\"sid\"], df[\"aid\"])))\n",
    "    data_itemuser = sparse.csr_matrix((df[\"playtime_forever\"], (df[\"aid\"], df[\"sid\"])))\n",
    "    \n",
    "    sid_unique = df[\"sid\"].nunique()\n",
    "    aid_unique = df[\"aid\"].nunique()\n",
    "    \n",
    "    assert data_useritem.shape == (sid_unique, aid_unique)\n",
    "    assert data_itemuser.shape == (aid_unique, sid_unique)\n",
    "    \n",
    "    return(data_useritem, data_itemuser)"
   ]
  },
  {
   "cell_type": "code",
   "execution_count": 127,
   "metadata": {},
   "outputs": [],
   "source": [
    "def trainModel(data, factors, epochs, conf_func, alpha, lmbda) :\n",
    "    \"\"\"\n",
    "    Builds and trains Implicit Matrix Factorization model.\n",
    "    Input :\n",
    "        1. data - Item x User Sparse Matrix\n",
    "        2. factors - Number of latent factors\n",
    "        3. epochs - Number of iterations of ALS over the training data\n",
    "        4. conf_func - Confidence function\n",
    "        5. alpha - Confidence parameter\n",
    "        6. lmbda - Regularization parameter\n",
    "        \n",
    "    Output : model\n",
    "    \"\"\"\n",
    "    model = implicit.als.AlternatingLeastSquares(factors = factors, regularization = lmbda, iterations = epochs)\n",
    "    if conf_func == \"linear\" :\n",
    "        model.fit(alpha * data, show_progress = False)\n",
    "    elif conf_func == \"log\" :\n",
    "        epsilon = 1\n",
    "        data.data = np.log(1 + data.data / epsilon)\n",
    "        model.fit(alpha * data, show_progress= False)\n",
    "    else :\n",
    "        print(\"{} is not a valid choice for conf_func. Choose one of the following : 'linear', 'log'\".format(conf_func))\n",
    "        return(None)\n",
    "    return(model)"
   ]
  },
  {
   "cell_type": "code",
   "execution_count": 6,
   "metadata": {},
   "outputs": [],
   "source": [
    "def getMaskedAid(sid, df1, df2) :\n",
    "    \"\"\"\n",
    "    Returns the masked aid's for input sid\n",
    "    Expects df2 to be the bigger dataframe (For example, df1 = Train, df2 = Test is valid but the opposite is not)\n",
    "    \"\"\"\n",
    "    df1_aid = set(df1[df1[\"sid\"] == sid][\"aid\"].values)\n",
    "    df2_aid = set(df2[df2[\"sid\"] == sid][\"aid\"].values)\n",
    "    masked_aid = list(df2_aid - df1_aid)\n",
    "    full_aid = list(df2_aid)\n",
    "    assert len(masked_aid) != 0\n",
    "\n",
    "    return(masked_aid, full_aid)"
   ]
  },
  {
   "cell_type": "code",
   "execution_count": 7,
   "metadata": {},
   "outputs": [],
   "source": [
    "def getPrecisionRecall(model, sid, N, train, test, data_useritem) :\n",
    "    \"\"\"\n",
    "    Returns the precision@N and recall@N for given userid : 'sid'\n",
    "    Input :\n",
    "        1. model - Implicit Matrix Factorization trained model\n",
    "        2. sid - User id whose precision and recall is to be calculated\n",
    "        3. N - N parameter in precision@N and recall@N\n",
    "        4. train\n",
    "        5. test\n",
    "        6. data_useritem - User x Item Sparse Matrix (implicit library requires this to discard already played itemids) \n",
    "    \"\"\"\n",
    "    masked_aid, full_aid = getMaskedAid(sid, train, test)\n",
    "    recommendations = model.recommend(sid, data_useritem, N)\n",
    "    recommended_aid = [aid for aid, score in recommendations]\n",
    "    precision = len(set(masked_aid) & set(recommended_aid)) / N\n",
    "    recall = len(set(masked_aid) & set(recommended_aid)) / len(masked_aid)\n",
    "    return(precision, recall)"
   ]
  },
  {
   "cell_type": "code",
   "execution_count": 8,
   "metadata": {},
   "outputs": [],
   "source": [
    "def getMeanPrecisionRecall(model, sids, N, train, test, data_useritem) :\n",
    "    \"\"\"\n",
    "    Returns the User-Average Precision@N and User-Average Recall@N\n",
    "    \"\"\"\n",
    "    precisions = []\n",
    "    recalls = []\n",
    "    for sid in sids :\n",
    "        precision, recall = getPrecisionRecall(model, sid, N, train, test, data_useritem)\n",
    "        precisions.append(precision)\n",
    "        recalls.append(recall)\n",
    "    return(np.mean(precisions), np.mean(recalls))"
   ]
  },
  {
   "cell_type": "code",
   "execution_count": 9,
   "metadata": {},
   "outputs": [],
   "source": [
    "def gridSearch(sids, train, test, train_itemuser, train_useritem, params) :\n",
    "    \"\"\"\n",
    "    Performs a grid-search on input params\n",
    "    Returns dataframe with corresponding user-average precision,recall\n",
    "    \"\"\"\n",
    "    rows = []\n",
    "    param_grid = ParameterGrid(params)\n",
    "    l = len(param_grid)\n",
    "    start_time = time.time()\n",
    "    for i, param in enumerate(param_grid) :\n",
    "        current_time = time.time()\n",
    "        hrs = int((current_time - start_time) / 60 / 60)\n",
    "        mins = int((current_time - start_time) / 60) % 60\n",
    "        print(\"\\rWorking on Model {0} of {1}, Time Elapsed : {2} Hours and {3} Minutes\".format(i + 1, l, hrs, mins), end = \"\")\n",
    "        alpha, epochs, factors, lmbda, N = param[\"alpha\"], param[\"epochs\"], param[\"factors\"], param[\"lmbda\"], param[\"N\"]\n",
    "        model = trainModel(train_itemuser, factors, epochs, \"linear\", alpha, lmbda)\n",
    "        precision, recall = getMeanPrecisionRecall(model, sids, N, train, test, train_useritem)\n",
    "        rows.append([factors, N, epochs, alpha, lmbda, precision, recall])\n",
    "    grid = pd.DataFrame(rows, columns = [\"factors\", \"N\", \"epochs\", \"alpha\", \"lmbda\", \"precision\", \"recall\"])\n",
    "    grid.to_csv(\"grid_search.csv\")\n",
    "    return(grid)"
   ]
  },
  {
   "cell_type": "markdown",
   "metadata": {},
   "source": [
    "#### Coarse Grid Search\n",
    "We perform a coarse grid search on the parameters. Based on the results, we fine-tune the parameters manually."
   ]
  },
  {
   "cell_type": "code",
   "execution_count": 179,
   "metadata": {},
   "outputs": [
    {
     "name": "stderr",
     "output_type": "stream",
     "text": [
      "/home/ieshan/anaconda3/lib/python3.6/site-packages/numpy/lib/arraysetops.py:472: FutureWarning: elementwise comparison failed; returning scalar instead, but in the future will perform elementwise comparison\n",
      "  mask |= (ar1 == a)\n"
     ]
    }
   ],
   "source": [
    "df = pd.read_csv(\"data/final_data.csv\", index_col = 0)"
   ]
  },
  {
   "cell_type": "code",
   "execution_count": 180,
   "metadata": {},
   "outputs": [],
   "source": [
    "df_coded, steamid_to_sid, sid_to_steamid, appid_to_aid, aid_to_appid = constructCodes(df)\n",
    "train, val, test = getSplit(df_coded, train_size = 0.6, validation_size = 0.2)\n",
    "train_useritem, train_itemuser = constructSparseMatrices(train)"
   ]
  },
  {
   "cell_type": "code",
   "execution_count": 181,
   "metadata": {},
   "outputs": [],
   "source": [
    "params = {\"factors\" : [10, 50, 100, 200],\n",
    "          \"N\" : [2, 10, 20, 50],\n",
    "          \"epochs\" : [10, 50, 100, 200],\n",
    "          \"alpha\" : [0.001, 0.01, 0.1, 1],\n",
    "          \"lmbda\" : [0.01, 0.1, 1, 10]}\n",
    "all_sids = sid_to_steamid.keys()"
   ]
  },
  {
   "cell_type": "code",
   "execution_count": 182,
   "metadata": {},
   "outputs": [
    {
     "name": "stdout",
     "output_type": "stream",
     "text": [
      "Working on Model 1024 of 1024, Time Elapsed : 20 Hours and 26 Minutes"
     ]
    }
   ],
   "source": [
    "grid = gridSearch(all_sids, train, val, train_itemuser, train_useritem, params)"
   ]
  },
  {
   "cell_type": "code",
   "execution_count": 265,
   "metadata": {},
   "outputs": [
    {
     "data": {
      "text/html": [
       "<div>\n",
       "<style scoped>\n",
       "    .dataframe tbody tr th:only-of-type {\n",
       "        vertical-align: middle;\n",
       "    }\n",
       "\n",
       "    .dataframe tbody tr th {\n",
       "        vertical-align: top;\n",
       "    }\n",
       "\n",
       "    .dataframe thead th {\n",
       "        text-align: right;\n",
       "    }\n",
       "</style>\n",
       "<table border=\"1\" class=\"dataframe\">\n",
       "  <thead>\n",
       "    <tr style=\"text-align: right;\">\n",
       "      <th></th>\n",
       "      <th>factors</th>\n",
       "      <th>N</th>\n",
       "      <th>epochs</th>\n",
       "      <th>alpha</th>\n",
       "      <th>lmbda</th>\n",
       "      <th>precision</th>\n",
       "      <th>recall</th>\n",
       "    </tr>\n",
       "  </thead>\n",
       "  <tbody>\n",
       "    <tr>\n",
       "      <th>346</th>\n",
       "      <td>100</td>\n",
       "      <td>10</td>\n",
       "      <td>50</td>\n",
       "      <td>0.01</td>\n",
       "      <td>1.0</td>\n",
       "      <td>0.318339</td>\n",
       "      <td>0.149818</td>\n",
       "    </tr>\n",
       "    <tr>\n",
       "      <th>347</th>\n",
       "      <td>100</td>\n",
       "      <td>10</td>\n",
       "      <td>50</td>\n",
       "      <td>0.01</td>\n",
       "      <td>10.0</td>\n",
       "      <td>0.317198</td>\n",
       "      <td>0.149568</td>\n",
       "    </tr>\n",
       "    <tr>\n",
       "      <th>345</th>\n",
       "      <td>100</td>\n",
       "      <td>10</td>\n",
       "      <td>50</td>\n",
       "      <td>0.01</td>\n",
       "      <td>0.1</td>\n",
       "      <td>0.316569</td>\n",
       "      <td>0.149962</td>\n",
       "    </tr>\n",
       "    <tr>\n",
       "      <th>362</th>\n",
       "      <td>100</td>\n",
       "      <td>10</td>\n",
       "      <td>100</td>\n",
       "      <td>0.01</td>\n",
       "      <td>1.0</td>\n",
       "      <td>0.316475</td>\n",
       "      <td>0.149270</td>\n",
       "    </tr>\n",
       "    <tr>\n",
       "      <th>379</th>\n",
       "      <td>100</td>\n",
       "      <td>10</td>\n",
       "      <td>200</td>\n",
       "      <td>0.01</td>\n",
       "      <td>10.0</td>\n",
       "      <td>0.316403</td>\n",
       "      <td>0.149953</td>\n",
       "    </tr>\n",
       "  </tbody>\n",
       "</table>\n",
       "</div>"
      ],
      "text/plain": [
       "     factors   N  epochs  alpha  lmbda  precision    recall\n",
       "346      100  10      50   0.01    1.0   0.318339  0.149818\n",
       "347      100  10      50   0.01   10.0   0.317198  0.149568\n",
       "345      100  10      50   0.01    0.1   0.316569  0.149962\n",
       "362      100  10     100   0.01    1.0   0.316475  0.149270\n",
       "379      100  10     200   0.01   10.0   0.316403  0.149953"
      ]
     },
     "execution_count": 265,
     "metadata": {},
     "output_type": "execute_result"
    }
   ],
   "source": [
    "grid[(grid[\"N\"] == 10) & (grid[\"factors\"] == 100)].sort_values(by = \"precision\", ascending = False).head()"
   ]
  },
  {
   "cell_type": "markdown",
   "metadata": {},
   "source": [
    "#### Grid Search Observations :\n",
    "1. Precision and recall are generally better for if `factors` are more (as suggested by paper).\n",
    "2. `alpha` = 0.01 found to be performing the best\n",
    "3. `lmbda` = 1\n",
    "4. Since the optimization problem is always convex, increasing `epochs` will always reduce the cost and should thus result in a better model.\n",
    "\n",
    "#### Choice of Parameters :\n",
    "We find the relation of precision and recall vs `factors` and vs `epochs` (One is fixed for the other).\n",
    "1. For precision and recall vs `factors`, the parameters set are `epochs` = 100, `alpha` = 0.01, `lmbda` = 1, `N` = 10\n",
    "2. For precision and recall vs `epochs`, the parameters set are `factors` = 100, `alpha` = 0.01, `lmbda` = 1, `N` = 10"
   ]
  },
  {
   "cell_type": "markdown",
   "metadata": {},
   "source": [
    "#### Mean User-Average Precision@10 and Recall@10 vs Factors :"
   ]
  },
  {
   "cell_type": "code",
   "execution_count": 194,
   "metadata": {},
   "outputs": [
    {
     "name": "stdout",
     "output_type": "stream",
     "text": [
      "Factors 20 of 20"
     ]
    }
   ],
   "source": [
    "alpha = 0.01\n",
    "lmbda = 1\n",
    "N = 10\n",
    "epochs = 100\n",
    "\n",
    "factors_list = [i for i in range(10, 205, 10)]\n",
    "factors_precision = []\n",
    "factors_recall = []\n",
    "for i, factors in enumerate(factors_list) :\n",
    "    print(\"\\rFactors {0} of {1}\".format(i + 1, len(factors_list)), end = \"\")\n",
    "    model = trainModel(train_itemuser, factors, epochs, \"linear\", alpha, lmbda)\n",
    "    pr, re = getMeanPrecisionRecall(model, all_sids, N, train, val, train_useritem)\n",
    "    factors_precision.append(pr)\n",
    "    factors_recall.append(re)\n",
    "\n",
    "np.savetxt(\"factors_precision.txt\", np.column_stack((factors_list, factors_precision)))\n",
    "np.savetxt(\"factors_recall.txt\", np.column_stack((factors_list, factors_recall)))    "
   ]
  },
  {
   "cell_type": "code",
   "execution_count": 308,
   "metadata": {},
   "outputs": [
    {
     "name": "stderr",
     "output_type": "stream",
     "text": [
      "/home/ieshan/anaconda3/lib/python3.6/site-packages/matplotlib/font_manager.py:1331: UserWarning: findfont: Font family ['serif'] not found. Falling back to DejaVu Sans\n",
      "  (prop.get_family(), self.defaultFamily[fontext]))\n",
      "/home/ieshan/anaconda3/lib/python3.6/site-packages/matplotlib/font_manager.py:1331: UserWarning: findfont: Font family ['serif'] not found. Falling back to DejaVu Sans\n",
      "  (prop.get_family(), self.defaultFamily[fontext]))\n",
      "/home/ieshan/anaconda3/lib/python3.6/site-packages/matplotlib/font_manager.py:1331: UserWarning: findfont: Font family ['serif'] not found. Falling back to DejaVu Sans\n",
      "  (prop.get_family(), self.defaultFamily[fontext]))\n",
      "/home/ieshan/anaconda3/lib/python3.6/site-packages/matplotlib/font_manager.py:1331: UserWarning: findfont: Font family ['serif'] not found. Falling back to DejaVu Sans\n",
      "  (prop.get_family(), self.defaultFamily[fontext]))\n",
      "/home/ieshan/anaconda3/lib/python3.6/site-packages/matplotlib/font_manager.py:1331: UserWarning: findfont: Font family ['serif'] not found. Falling back to DejaVu Sans\n",
      "  (prop.get_family(), self.defaultFamily[fontext]))\n",
      "/home/ieshan/anaconda3/lib/python3.6/site-packages/matplotlib/font_manager.py:1331: UserWarning: findfont: Font family ['serif'] not found. Falling back to DejaVu Sans\n",
      "  (prop.get_family(), self.defaultFamily[fontext]))\n",
      "/home/ieshan/anaconda3/lib/python3.6/site-packages/matplotlib/font_manager.py:1331: UserWarning: findfont: Font family ['serif'] not found. Falling back to DejaVu Sans\n",
      "  (prop.get_family(), self.defaultFamily[fontext]))\n",
      "/home/ieshan/anaconda3/lib/python3.6/site-packages/matplotlib/font_manager.py:1331: UserWarning: findfont: Font family ['serif'] not found. Falling back to DejaVu Sans\n",
      "  (prop.get_family(), self.defaultFamily[fontext]))\n",
      "/home/ieshan/anaconda3/lib/python3.6/site-packages/matplotlib/font_manager.py:1331: UserWarning: findfont: Font family ['serif'] not found. Falling back to DejaVu Sans\n",
      "  (prop.get_family(), self.defaultFamily[fontext]))\n",
      "/home/ieshan/anaconda3/lib/python3.6/site-packages/matplotlib/font_manager.py:1331: UserWarning: findfont: Font family ['serif'] not found. Falling back to DejaVu Sans\n",
      "  (prop.get_family(), self.defaultFamily[fontext]))\n",
      "/home/ieshan/anaconda3/lib/python3.6/site-packages/matplotlib/font_manager.py:1331: UserWarning: findfont: Font family ['serif'] not found. Falling back to DejaVu Sans\n",
      "  (prop.get_family(), self.defaultFamily[fontext]))\n",
      "/home/ieshan/anaconda3/lib/python3.6/site-packages/matplotlib/font_manager.py:1331: UserWarning: findfont: Font family ['serif'] not found. Falling back to DejaVu Sans\n",
      "  (prop.get_family(), self.defaultFamily[fontext]))\n",
      "/home/ieshan/anaconda3/lib/python3.6/site-packages/matplotlib/font_manager.py:1331: UserWarning: findfont: Font family ['serif'] not found. Falling back to DejaVu Sans\n",
      "  (prop.get_family(), self.defaultFamily[fontext]))\n",
      "/home/ieshan/anaconda3/lib/python3.6/site-packages/matplotlib/font_manager.py:1331: UserWarning: findfont: Font family ['serif'] not found. Falling back to DejaVu Sans\n",
      "  (prop.get_family(), self.defaultFamily[fontext]))\n",
      "/home/ieshan/anaconda3/lib/python3.6/site-packages/matplotlib/font_manager.py:1331: UserWarning: findfont: Font family ['serif'] not found. Falling back to DejaVu Sans\n",
      "  (prop.get_family(), self.defaultFamily[fontext]))\n",
      "/home/ieshan/anaconda3/lib/python3.6/site-packages/matplotlib/font_manager.py:1331: UserWarning: findfont: Font family ['serif'] not found. Falling back to DejaVu Sans\n",
      "  (prop.get_family(), self.defaultFamily[fontext]))\n",
      "/home/ieshan/anaconda3/lib/python3.6/site-packages/matplotlib/font_manager.py:1331: UserWarning: findfont: Font family ['serif'] not found. Falling back to DejaVu Sans\n",
      "  (prop.get_family(), self.defaultFamily[fontext]))\n",
      "/home/ieshan/anaconda3/lib/python3.6/site-packages/matplotlib/font_manager.py:1331: UserWarning: findfont: Font family ['serif'] not found. Falling back to DejaVu Sans\n",
      "  (prop.get_family(), self.defaultFamily[fontext]))\n",
      "/home/ieshan/anaconda3/lib/python3.6/site-packages/matplotlib/font_manager.py:1331: UserWarning: findfont: Font family ['serif'] not found. Falling back to DejaVu Sans\n",
      "  (prop.get_family(), self.defaultFamily[fontext]))\n",
      "/home/ieshan/anaconda3/lib/python3.6/site-packages/matplotlib/font_manager.py:1331: UserWarning: findfont: Font family ['serif'] not found. Falling back to DejaVu Sans\n",
      "  (prop.get_family(), self.defaultFamily[fontext]))\n",
      "/home/ieshan/anaconda3/lib/python3.6/site-packages/matplotlib/font_manager.py:1331: UserWarning: findfont: Font family ['serif'] not found. Falling back to DejaVu Sans\n",
      "  (prop.get_family(), self.defaultFamily[fontext]))\n",
      "/home/ieshan/anaconda3/lib/python3.6/site-packages/matplotlib/font_manager.py:1331: UserWarning: findfont: Font family ['serif'] not found. Falling back to DejaVu Sans\n",
      "  (prop.get_family(), self.defaultFamily[fontext]))\n",
      "/home/ieshan/anaconda3/lib/python3.6/site-packages/matplotlib/font_manager.py:1331: UserWarning: findfont: Font family ['serif'] not found. Falling back to DejaVu Sans\n",
      "  (prop.get_family(), self.defaultFamily[fontext]))\n",
      "/home/ieshan/anaconda3/lib/python3.6/site-packages/matplotlib/font_manager.py:1331: UserWarning: findfont: Font family ['serif'] not found. Falling back to DejaVu Sans\n",
      "  (prop.get_family(), self.defaultFamily[fontext]))\n",
      "/home/ieshan/anaconda3/lib/python3.6/site-packages/matplotlib/font_manager.py:1331: UserWarning: findfont: Font family ['serif'] not found. Falling back to DejaVu Sans\n",
      "  (prop.get_family(), self.defaultFamily[fontext]))\n",
      "/home/ieshan/anaconda3/lib/python3.6/site-packages/matplotlib/font_manager.py:1331: UserWarning: findfont: Font family ['serif'] not found. Falling back to DejaVu Sans\n",
      "  (prop.get_family(), self.defaultFamily[fontext]))\n",
      "/home/ieshan/anaconda3/lib/python3.6/site-packages/matplotlib/font_manager.py:1331: UserWarning: findfont: Font family ['serif'] not found. Falling back to DejaVu Sans\n",
      "  (prop.get_family(), self.defaultFamily[fontext]))\n",
      "/home/ieshan/anaconda3/lib/python3.6/site-packages/matplotlib/font_manager.py:1331: UserWarning: findfont: Font family ['serif'] not found. Falling back to DejaVu Sans\n",
      "  (prop.get_family(), self.defaultFamily[fontext]))\n",
      "/home/ieshan/anaconda3/lib/python3.6/site-packages/matplotlib/font_manager.py:1331: UserWarning: findfont: Font family ['serif'] not found. Falling back to DejaVu Sans\n",
      "  (prop.get_family(), self.defaultFamily[fontext]))\n",
      "/home/ieshan/anaconda3/lib/python3.6/site-packages/matplotlib/font_manager.py:1331: UserWarning: findfont: Font family ['serif'] not found. Falling back to DejaVu Sans\n",
      "  (prop.get_family(), self.defaultFamily[fontext]))\n",
      "/home/ieshan/anaconda3/lib/python3.6/site-packages/matplotlib/font_manager.py:1331: UserWarning: findfont: Font family ['serif'] not found. Falling back to DejaVu Sans\n",
      "  (prop.get_family(), self.defaultFamily[fontext]))\n",
      "/home/ieshan/anaconda3/lib/python3.6/site-packages/matplotlib/font_manager.py:1331: UserWarning: findfont: Font family ['serif'] not found. Falling back to DejaVu Sans\n",
      "  (prop.get_family(), self.defaultFamily[fontext]))\n",
      "/home/ieshan/anaconda3/lib/python3.6/site-packages/matplotlib/font_manager.py:1331: UserWarning: findfont: Font family ['serif'] not found. Falling back to DejaVu Sans\n",
      "  (prop.get_family(), self.defaultFamily[fontext]))\n",
      "/home/ieshan/anaconda3/lib/python3.6/site-packages/matplotlib/font_manager.py:1331: UserWarning: findfont: Font family ['serif'] not found. Falling back to DejaVu Sans\n",
      "  (prop.get_family(), self.defaultFamily[fontext]))\n",
      "/home/ieshan/anaconda3/lib/python3.6/site-packages/matplotlib/font_manager.py:1331: UserWarning: findfont: Font family ['serif'] not found. Falling back to DejaVu Sans\n",
      "  (prop.get_family(), self.defaultFamily[fontext]))\n",
      "/home/ieshan/anaconda3/lib/python3.6/site-packages/matplotlib/font_manager.py:1331: UserWarning: findfont: Font family ['serif'] not found. Falling back to DejaVu Sans\n",
      "  (prop.get_family(), self.defaultFamily[fontext]))\n",
      "/home/ieshan/anaconda3/lib/python3.6/site-packages/matplotlib/font_manager.py:1331: UserWarning: findfont: Font family ['serif'] not found. Falling back to DejaVu Sans\n",
      "  (prop.get_family(), self.defaultFamily[fontext]))\n",
      "/home/ieshan/anaconda3/lib/python3.6/site-packages/matplotlib/font_manager.py:1331: UserWarning: findfont: Font family ['serif'] not found. Falling back to DejaVu Sans\n",
      "  (prop.get_family(), self.defaultFamily[fontext]))\n",
      "/home/ieshan/anaconda3/lib/python3.6/site-packages/matplotlib/font_manager.py:1331: UserWarning: findfont: Font family ['serif'] not found. Falling back to DejaVu Sans\n",
      "  (prop.get_family(), self.defaultFamily[fontext]))\n",
      "/home/ieshan/anaconda3/lib/python3.6/site-packages/matplotlib/font_manager.py:1331: UserWarning: findfont: Font family ['serif'] not found. Falling back to DejaVu Sans\n",
      "  (prop.get_family(), self.defaultFamily[fontext]))\n",
      "/home/ieshan/anaconda3/lib/python3.6/site-packages/matplotlib/font_manager.py:1331: UserWarning: findfont: Font family ['serif'] not found. Falling back to DejaVu Sans\n",
      "  (prop.get_family(), self.defaultFamily[fontext]))\n",
      "/home/ieshan/anaconda3/lib/python3.6/site-packages/matplotlib/font_manager.py:1331: UserWarning: findfont: Font family ['serif'] not found. Falling back to DejaVu Sans\n",
      "  (prop.get_family(), self.defaultFamily[fontext]))\n",
      "/home/ieshan/anaconda3/lib/python3.6/site-packages/matplotlib/font_manager.py:1331: UserWarning: findfont: Font family ['serif'] not found. Falling back to DejaVu Sans\n",
      "  (prop.get_family(), self.defaultFamily[fontext]))\n",
      "/home/ieshan/anaconda3/lib/python3.6/site-packages/matplotlib/font_manager.py:1331: UserWarning: findfont: Font family ['serif'] not found. Falling back to DejaVu Sans\n",
      "  (prop.get_family(), self.defaultFamily[fontext]))\n",
      "/home/ieshan/anaconda3/lib/python3.6/site-packages/matplotlib/font_manager.py:1331: UserWarning: findfont: Font family ['serif'] not found. Falling back to DejaVu Sans\n",
      "  (prop.get_family(), self.defaultFamily[fontext]))\n",
      "/home/ieshan/anaconda3/lib/python3.6/site-packages/matplotlib/font_manager.py:1331: UserWarning: findfont: Font family ['serif'] not found. Falling back to DejaVu Sans\n",
      "  (prop.get_family(), self.defaultFamily[fontext]))\n",
      "/home/ieshan/anaconda3/lib/python3.6/site-packages/matplotlib/font_manager.py:1331: UserWarning: findfont: Font family ['serif'] not found. Falling back to DejaVu Sans\n",
      "  (prop.get_family(), self.defaultFamily[fontext]))\n",
      "/home/ieshan/anaconda3/lib/python3.6/site-packages/matplotlib/font_manager.py:1331: UserWarning: findfont: Font family ['serif'] not found. Falling back to DejaVu Sans\n",
      "  (prop.get_family(), self.defaultFamily[fontext]))\n",
      "/home/ieshan/anaconda3/lib/python3.6/site-packages/matplotlib/font_manager.py:1331: UserWarning: findfont: Font family ['serif'] not found. Falling back to DejaVu Sans\n",
      "  (prop.get_family(), self.defaultFamily[fontext]))\n",
      "/home/ieshan/anaconda3/lib/python3.6/site-packages/matplotlib/font_manager.py:1331: UserWarning: findfont: Font family ['serif'] not found. Falling back to DejaVu Sans\n",
      "  (prop.get_family(), self.defaultFamily[fontext]))\n",
      "/home/ieshan/anaconda3/lib/python3.6/site-packages/matplotlib/font_manager.py:1331: UserWarning: findfont: Font family ['serif'] not found. Falling back to DejaVu Sans\n",
      "  (prop.get_family(), self.defaultFamily[fontext]))\n",
      "/home/ieshan/anaconda3/lib/python3.6/site-packages/matplotlib/font_manager.py:1331: UserWarning: findfont: Font family ['serif'] not found. Falling back to DejaVu Sans\n",
      "  (prop.get_family(), self.defaultFamily[fontext]))\n",
      "/home/ieshan/anaconda3/lib/python3.6/site-packages/matplotlib/font_manager.py:1331: UserWarning: findfont: Font family ['serif'] not found. Falling back to DejaVu Sans\n",
      "  (prop.get_family(), self.defaultFamily[fontext]))\n",
      "/home/ieshan/anaconda3/lib/python3.6/site-packages/matplotlib/font_manager.py:1331: UserWarning: findfont: Font family ['serif'] not found. Falling back to DejaVu Sans\n",
      "  (prop.get_family(), self.defaultFamily[fontext]))\n",
      "/home/ieshan/anaconda3/lib/python3.6/site-packages/matplotlib/font_manager.py:1331: UserWarning: findfont: Font family ['serif'] not found. Falling back to DejaVu Sans\n",
      "  (prop.get_family(), self.defaultFamily[fontext]))\n",
      "/home/ieshan/anaconda3/lib/python3.6/site-packages/matplotlib/font_manager.py:1331: UserWarning: findfont: Font family ['serif'] not found. Falling back to DejaVu Sans\n",
      "  (prop.get_family(), self.defaultFamily[fontext]))\n",
      "/home/ieshan/anaconda3/lib/python3.6/site-packages/matplotlib/font_manager.py:1331: UserWarning: findfont: Font family ['serif'] not found. Falling back to DejaVu Sans\n",
      "  (prop.get_family(), self.defaultFamily[fontext]))\n",
      "/home/ieshan/anaconda3/lib/python3.6/site-packages/matplotlib/font_manager.py:1331: UserWarning: findfont: Font family ['serif'] not found. Falling back to DejaVu Sans\n",
      "  (prop.get_family(), self.defaultFamily[fontext]))\n",
      "/home/ieshan/anaconda3/lib/python3.6/site-packages/matplotlib/font_manager.py:1331: UserWarning: findfont: Font family ['serif'] not found. Falling back to DejaVu Sans\n",
      "  (prop.get_family(), self.defaultFamily[fontext]))\n",
      "/home/ieshan/anaconda3/lib/python3.6/site-packages/matplotlib/font_manager.py:1331: UserWarning: findfont: Font family ['serif'] not found. Falling back to DejaVu Sans\n",
      "  (prop.get_family(), self.defaultFamily[fontext]))\n",
      "/home/ieshan/anaconda3/lib/python3.6/site-packages/matplotlib/font_manager.py:1331: UserWarning: findfont: Font family ['serif'] not found. Falling back to DejaVu Sans\n",
      "  (prop.get_family(), self.defaultFamily[fontext]))\n",
      "/home/ieshan/anaconda3/lib/python3.6/site-packages/matplotlib/font_manager.py:1331: UserWarning: findfont: Font family ['serif'] not found. Falling back to DejaVu Sans\n",
      "  (prop.get_family(), self.defaultFamily[fontext]))\n",
      "/home/ieshan/anaconda3/lib/python3.6/site-packages/matplotlib/font_manager.py:1331: UserWarning: findfont: Font family ['serif'] not found. Falling back to DejaVu Sans\n",
      "  (prop.get_family(), self.defaultFamily[fontext]))\n",
      "/home/ieshan/anaconda3/lib/python3.6/site-packages/matplotlib/font_manager.py:1331: UserWarning: findfont: Font family ['serif'] not found. Falling back to DejaVu Sans\n",
      "  (prop.get_family(), self.defaultFamily[fontext]))\n",
      "/home/ieshan/anaconda3/lib/python3.6/site-packages/matplotlib/font_manager.py:1331: UserWarning: findfont: Font family ['serif'] not found. Falling back to DejaVu Sans\n",
      "  (prop.get_family(), self.defaultFamily[fontext]))\n",
      "/home/ieshan/anaconda3/lib/python3.6/site-packages/matplotlib/font_manager.py:1331: UserWarning: findfont: Font family ['serif'] not found. Falling back to DejaVu Sans\n",
      "  (prop.get_family(), self.defaultFamily[fontext]))\n",
      "/home/ieshan/anaconda3/lib/python3.6/site-packages/matplotlib/font_manager.py:1331: UserWarning: findfont: Font family ['serif'] not found. Falling back to DejaVu Sans\n",
      "  (prop.get_family(), self.defaultFamily[fontext]))\n",
      "/home/ieshan/anaconda3/lib/python3.6/site-packages/matplotlib/font_manager.py:1331: UserWarning: findfont: Font family ['serif'] not found. Falling back to DejaVu Sans\n",
      "  (prop.get_family(), self.defaultFamily[fontext]))\n"
     ]
    },
    {
     "data": {
      "image/png": "[encoded data removed]",
      "text/plain": [
       "<Figure size 288x216 with 1 Axes>"
      ]
     },
     "metadata": {},
     "output_type": "display_data"
    }
   ],
   "source": [
    "fig, ax = plt.subplots(figsize = (4, 3))\n",
    "ax.scatter(factors_list, factors_precision, marker = \"o\", facecolor = \"none\", color = \"red\", label = \"Precision@10\")\n",
    "ax.scatter(factors_list, factors_recall, marker = \"o\", facecolor = \"none\", color = \"g\", label = \"Recall@10\")\n",
    "ax.set_xlabel(\"Factors\")\n",
    "#ax.grid(linestyle = \"--\")\n",
    "box = ax.get_position()\n",
    "ax.set_position([box.x0, box.y0 + box.height * 0.1,\n",
    "                 box.width, box.height * 0.8])\n",
    "\n",
    "ax.legend(loc='upper center', bbox_to_anchor=(0.5, -0.2),\n",
    "          fancybox=True, shadow=True, ncol=2)\n",
    "fig.savefig(\"factors.png\", dpi = 1200)\n",
    "plt.show()"
   ]
  },
  {
   "cell_type": "markdown",
   "metadata": {},
   "source": [
    "#### Choice of `factors` :\n",
    "We observe saturation of precision and recall and thus choose `factors` = 100."
   ]
  },
  {
   "cell_type": "markdown",
   "metadata": {},
   "source": [
    "#### Mean User-Average Precision@10 and Recall@10 vs Epochs :"
   ]
  },
  {
   "cell_type": "code",
   "execution_count": 207,
   "metadata": {},
   "outputs": [
    {
     "name": "stdout",
     "output_type": "stream",
     "text": [
      "Epochs 20 of 20"
     ]
    }
   ],
   "source": [
    "alpha = 0.01\n",
    "lmbda = 1\n",
    "N = 10\n",
    "factors = 100\n",
    "\n",
    "epochs_list = [i for i in range(10, 205, 10)]\n",
    "epochs_precision = []\n",
    "epochs_recall = []\n",
    "for i, epochs in enumerate(epochs_list) :\n",
    "    print(\"\\rEpochs {0} of {1}\".format(i + 1, len(epochs_list)), end = \"\")\n",
    "    model = trainModel(train_itemuser, factors, epochs, \"linear\", alpha, lmbda)\n",
    "    pr, re = getMeanPrecisionRecall(model, all_sids, N, train, val, train_useritem)\n",
    "    epochs_precision.append(pr)\n",
    "    epochs_recall.append(re)\n",
    "\n",
    "np.savetxt(\"epochs_precision.txt\", np.column_stack((epochs_list, epochs_precision)))\n",
    "np.savetxt(\"epochs_recall.txt\", np.column_stack((epochs_list, epochs_recall)))    "
   ]
  },
  {
   "cell_type": "code",
   "execution_count": 208,
   "metadata": {},
   "outputs": [
    {
     "data": {
      "image/png": "[encoded data removed]",
      "text/plain": [
       "<Figure size 432x288 with 1 Axes>"
      ]
     },
     "metadata": {},
     "output_type": "display_data"
    }
   ],
   "source": [
    "fig, ax = plt.subplots()\n",
    "ax.plot(epochs_list, epochs_precision, label = \"Precision@10\")\n",
    "ax.plot(epochs_list, epochs_recall, label = \"Recall@10\")\n",
    "ax.set_xlabel(\"Epochs\")\n",
    "plt.legend()\n",
    "plt.show()"
   ]
  },
  {
   "cell_type": "markdown",
   "metadata": {},
   "source": [
    "#### Choice of Parameters :\n",
    "The final set of parameters that we use is :\n",
    "1. `factors` = 100\n",
    "2. `epochs` = 50\n",
    "3. `alpha` = 0.01\n",
    "4. `lmbda` = 1"
   ]
  },
  {
   "cell_type": "markdown",
   "metadata": {},
   "source": [
    "#### (Validation) Mean User-Average Precision@N and Recall@N for Optimal Choice of Parameters vs N :"
   ]
  },
  {
   "cell_type": "code",
   "execution_count": 211,
   "metadata": {},
   "outputs": [
    {
     "name": "stdout",
     "output_type": "stream",
     "text": [
      "N 20 of 20"
     ]
    }
   ],
   "source": [
    "factors = 100\n",
    "epochs = 50\n",
    "alpha = 0.01\n",
    "lmbda = 1\n",
    "model = trainModel(train_itemuser, factors, epochs, \"linear\", alpha, lmbda)\n",
    "\n",
    "N_precision = []\n",
    "N_recall = []\n",
    "\n",
    "N_list = [i for i in range(5, 101, 5)]\n",
    "for i, N in enumerate(N_list) :\n",
    "    print(\"\\rN {0} of {1}\".format(i + 1, len(N_list)), end = \"\")\n",
    "    pr, re = getMeanPrecisionRecall(model, all_sids, N, train, val, train_useritem)\n",
    "    N_precision.append(pr)\n",
    "    N_recall.append(re)\n",
    "    \n",
    "np.savetxt(\"N_precision.txt\", np.column_stack((N_list, N_precision)))\n",
    "np.savetxt(\"N_recall.txt\", np.column_stack((N_list, N_recall)))   "
   ]
  },
  {
   "cell_type": "code",
   "execution_count": 212,
   "metadata": {},
   "outputs": [
    {
     "data": {
      "image/png": "[encoded data removed]",
      "text/plain": [
       "<Figure size 432x288 with 1 Axes>"
      ]
     },
     "metadata": {},
     "output_type": "display_data"
    }
   ],
   "source": [
    "fig, ax = plt.subplots()\n",
    "ax.plot(N_list, N_precision, label = \"Precision@N\")\n",
    "ax.plot(N_list, N_recall, label = \"Recall@N\")\n",
    "ax.set_xlabel(\"N\")\n",
    "plt.legend()\n",
    "plt.show()"
   ]
  },
  {
   "cell_type": "markdown",
   "metadata": {},
   "source": [
    "#### Game Similarity Observations :"
   ]
  },
  {
   "cell_type": "code",
   "execution_count": null,
   "metadata": {},
   "outputs": [],
   "source": []
  },
  {
   "cell_type": "markdown",
   "metadata": {},
   "source": [
    "#### Explanation for Recommendations :"
   ]
  },
  {
   "cell_type": "code",
   "execution_count": null,
   "metadata": {},
   "outputs": [],
   "source": []
  },
  {
   "cell_type": "markdown",
   "metadata": {},
   "source": [
    "#### Evaluating on Test Set :"
   ]
  },
  {
   "cell_type": "code",
   "execution_count": 263,
   "metadata": {},
   "outputs": [
    {
     "data": {
      "text/plain": [
       "'factors = 100\\nepochs = 50\\nalpha = 0.01\\nlmbda = 1\\n\\ndf = pd.read_csv(\"data/final_data.csv\", index_col = 0)\\ndf_coded, steamid_to_sid, sid_to_steamid, appid_to_aid, aid_to_appid = constructCodes(df)\\nall_sids = sid_to_steamid.keys()\\n\\nrows = []\\nreps = 10\\n\\nN_list = [i for i in range(5, 101, 5)]\\nfor i, N in enumerate(N_list) :\\n    for j, r in enumerate(range(reps)) :\\n        train, val, test = getSplit(df_coded, train_size = 0.6, validation_size = 0.2)\\n        trainval_useritem, trainval_itemuser = constructSparseMatrices(val)\\n        model = trainModel(trainval_itemuser, factors, epochs, \"linear\", alpha, lmbda)\\n        pr, re = getMeanPrecisionRecall(model, all_sids, N, val, test, trainval_useritem)\\n        rows.append([N, r, pr, re])\\n        print(\"\\rN = {0}, Rep = {1}, Precision = {2}, Recall = {3}\".format(N, r + 1, pr, re))\\ntest_df = pd.DataFrame(rows, columns = [\"N\", \"rep\", \"precision\", \"recall\"])\\ntest_df.to_csv(\"test_results.csv\")'"
      ]
     },
     "execution_count": 263,
     "metadata": {},
     "output_type": "execute_result"
    }
   ],
   "source": [
    "\"\"\"factors = 100\n",
    "epochs = 50\n",
    "alpha = 0.01\n",
    "lmbda = 1\n",
    "\n",
    "df = pd.read_csv(\"data/final_data.csv\", index_col = 0)\n",
    "df_coded, steamid_to_sid, sid_to_steamid, appid_to_aid, aid_to_appid = constructCodes(df)\n",
    "all_sids = sid_to_steamid.keys()\n",
    "\n",
    "rows = []\n",
    "reps = 10\n",
    "\n",
    "N_list = [i for i in range(5, 101, 5)]\n",
    "for i, N in enumerate(N_list) :\n",
    "    for j, r in enumerate(range(reps)) :\n",
    "        train, val, test = getSplit(df_coded, train_size = 0.6, validation_size = 0.2)\n",
    "        trainval_useritem, trainval_itemuser = constructSparseMatrices(val)\n",
    "        model = trainModel(trainval_itemuser, factors, epochs, \"linear\", alpha, lmbda)\n",
    "        pr, re = getMeanPrecisionRecall(model, all_sids, N, val, test, trainval_useritem)\n",
    "        rows.append([N, r, pr, re])\n",
    "        print(\"\\rN = {0}, Rep = {1}, Precision = {2}, Recall = {3}\".format(N, r + 1, pr, re))\n",
    "test_df = pd.DataFrame(rows, columns = [\"N\", \"rep\", \"precision\", \"recall\"])\n",
    "test_df.to_csv(\"test_results.csv\")\"\"\""
   ]
  },
  {
   "cell_type": "code",
   "execution_count": 228,
   "metadata": {},
   "outputs": [],
   "source": [
    "temp = test_df[[\"N\", \"precision\", \"recall\"]].groupby(\"N\").mean()"
   ]
  },
  {
   "cell_type": "code",
   "execution_count": 230,
   "metadata": {},
   "outputs": [
    {
     "data": {
      "image/png": "[encoded data removed]",
      "text/plain": [
       "<Figure size 432x288 with 1 Axes>"
      ]
     },
     "metadata": {},
     "output_type": "display_data"
    }
   ],
   "source": [
    "fig, ax = plt.subplots()\n",
    "ax.plot(temp.index, temp[\"precision\"], label = \"Precision\")\n",
    "ax.plot(temp.index, temp[\"recall\"], label = \"Recall\")\n",
    "ax.set_xlabel(\"N\")\n",
    "plt.legend()\n",
    "plt.show()"
   ]
  },
  {
   "cell_type": "markdown",
   "metadata": {},
   "source": [
    "#### Log Confidence Function :"
   ]
  },
  {
   "cell_type": "code",
   "execution_count": 264,
   "metadata": {},
   "outputs": [
    {
     "name": "stderr",
     "output_type": "stream",
     "text": [
      "/home/ieshan/anaconda3/lib/python3.6/site-packages/numpy/lib/arraysetops.py:472: FutureWarning: elementwise comparison failed; returning scalar instead, but in the future will perform elementwise comparison\n",
      "  mask |= (ar1 == a)\n",
      "100%|██████████| 50.0/50 [00:20<00:00,  2.47it/s]\n"
     ]
    },
    {
     "name": "stdout",
     "output_type": "stream",
     "text": [
      "0.5570458649331889 0.2557404304781588\n"
     ]
    }
   ],
   "source": [
    "factors = 100\n",
    "epochs = 50\n",
    "alpha = 1\n",
    "lmbda = 1\n",
    "N = 10\n",
    "\n",
    "df = pd.read_csv(\"data/final_data.csv\", index_col = 0)\n",
    "df_coded, steamid_to_sid, sid_to_steamid, appid_to_aid, aid_to_appid = constructCodes(df)\n",
    "all_sids = sid_to_steamid.keys()\n",
    "\n",
    "train, val, test = getSplit(df_coded, train_size = 0.6, validation_size = 0.2)\n",
    "trainval_useritem, trainval_itemuser = constructSparseMatrices(val)\n",
    "model = trainModel(trainval_itemuser, factors, epochs, \"log\", alpha, lmbda)\n",
    "pr, re = getMeanPrecisionRecall(model, all_sids, N, val, test, trainval_useritem)\n",
    "print(pr, re)"
   ]
  },
  {
   "cell_type": "code",
   "execution_count": null,
   "metadata": {},
   "outputs": [],
   "source": []
  },
  {
   "cell_type": "code",
   "execution_count": 34,
   "metadata": {},
   "outputs": [],
   "source": [
    "def buildBaseline(by, train, test, k = 10) :\n",
    "    \"\"\"\n",
    "    by = users, playtime\n",
    "    \"\"\"\n",
    "    if by == \"users\" :\n",
    "        top = train.groupby(\"aid\").count().sort_values(\"sid\", ascending = False).iloc[:k].index\n",
    "    elif by == \"playtime\" :\n",
    "        top = train.groupby(\"aid\").sum().sort_values(\"playtime_forever\", ascending = False).iloc[:k].index\n",
    "    else :\n",
    "        print(\"Wrong 'by'\")\n",
    "        return(None)\n",
    "    precisions, recalls = [], []\n",
    "    sids = test[\"sid\"].unique()\n",
    "    \n",
    "    for sid in sids :\n",
    "        masked_aid, full_aid = getMaskedAid(sid, train, test)\n",
    "        precision = len(set(masked_aid) & set(top)) / k\n",
    "        recall = len(set(masked_aid) & set(top)) / len(masked_aid)\n",
    "        precisions.append(precision)\n",
    "        recalls.append(recall)\n",
    "    return(precisions, recalls)"
   ]
  },
  {
   "cell_type": "code",
   "execution_count": 26,
   "metadata": {},
   "outputs": [
    {
     "name": "stderr",
     "output_type": "stream",
     "text": [
      "/home/ieshan/anaconda3/lib/python3.6/site-packages/numpy/lib/arraysetops.py:472: FutureWarning: elementwise comparison failed; returning scalar instead, but in the future will perform elementwise comparison\n",
      "  mask |= (ar1 == a)\n"
     ]
    }
   ],
   "source": [
    "df = pd.read_csv(\"data/final_data.csv\", index_col = 0)\n",
    "df_coded, steamid_to_sid, sid_to_steamid, appid_to_aid, aid_to_appid = constructCodes(df)\n",
    "train, val, test = getSplit(df_coded, train_size = 0.6, validation_size = 0.2)"
   ]
  },
  {
   "cell_type": "code",
   "execution_count": 39,
   "metadata": {},
   "outputs": [],
   "source": [
    "precisions, recalls = buildBaseline(\"playtime\", val, test)"
   ]
  },
  {
   "cell_type": "code",
   "execution_count": 40,
   "metadata": {},
   "outputs": [
    {
     "data": {
      "text/plain": [
       "0.09243048031780425"
      ]
     },
     "execution_count": 40,
     "metadata": {},
     "output_type": "execute_result"
    }
   ],
   "source": [
    "np.mean(precisions)"
   ]
  },
  {
   "cell_type": "code",
   "execution_count": 41,
   "metadata": {},
   "outputs": [
    {
     "data": {
      "text/plain": [
       "0.035237340825696316"
      ]
     },
     "execution_count": 41,
     "metadata": {},
     "output_type": "execute_result"
    }
   ],
   "source": [
    "np.mean(recalls)"
   ]
  },
  {
   "cell_type": "code",
   "execution_count": 37,
   "metadata": {},
   "outputs": [
    {
     "data": {
      "text/plain": [
       "0.10859516070783676"
      ]
     },
     "execution_count": 37,
     "metadata": {},
     "output_type": "execute_result"
    }
   ],
   "source": [
    "np.mean(precisions)"
   ]
  },
  {
   "cell_type": "code",
   "execution_count": 38,
   "metadata": {},
   "outputs": [
    {
     "data": {
      "text/plain": [
       "0.04677015599229069"
      ]
     },
     "execution_count": 38,
     "metadata": {},
     "output_type": "execute_result"
    }
   ],
   "source": [
    "np.mean(recalls)"
   ]
  },
  {
   "cell_type": "code",
   "execution_count": 15,
   "metadata": {},
   "outputs": [
    {
     "data": {
      "text/plain": [
       "Int64Index([1840, 23, 21, 1763, 147, 22, 1579, 3762, 3750, 5536], dtype='int64', name='aid')"
      ]
     },
     "execution_count": 15,
     "metadata": {},
     "output_type": "execute_result"
    }
   ],
   "source": [
    "df_coded.groupby(\"aid\").count().sort_values(\"sid\", ascending = False).iloc[:10].index"
   ]
  },
  {
   "cell_type": "code",
   "execution_count": 18,
   "metadata": {},
   "outputs": [
    {
     "data": {
      "text/plain": [
       "Int64Index([23, 147, 1985, 2944, 1763, 10316, 1310, 21, 1189, 0], dtype='int64', name='aid')"
      ]
     },
     "execution_count": 18,
     "metadata": {},
     "output_type": "execute_result"
    }
   ],
   "source": [
    "df_coded.groupby(\"aid\").sum().sort_values(\"playtime_forever\", ascending = False).iloc[:10].index"
   ]
  },
  {
   "cell_type": "code",
   "execution_count": 22,
   "metadata": {},
   "outputs": [
    {
     "data": {
      "text/plain": [
       "<pandas.core.groupby.groupby.DataFrameGroupBy object at 0x7fb58fab3518>"
      ]
     },
     "execution_count": 22,
     "metadata": {},
     "output_type": "execute_result"
    }
   ],
   "source": [
    "df_coded.groupby(\"sid\")"
   ]
  },
  {
   "cell_type": "code",
   "execution_count": 81,
   "metadata": {},
   "outputs": [],
   "source": [
    "sparsity = lambda x : 1 - len(x) / (x[\"sid\"].nunique() * x[\"aid\"].nunique())"
   ]
  },
  {
   "cell_type": "code",
   "execution_count": 82,
   "metadata": {},
   "outputs": [],
   "source": [
    "def learningCurve(df, train_sizes, test_size, params, all_sids, reps = 10, k = 10) :\n",
    "    precisions = {}\n",
    "    recalls = {}\n",
    "    for train_size in train_sizes :\n",
    "        assert train_size + test_size <= 1\n",
    "        pres = []\n",
    "        recs = []\n",
    "        spars = []\n",
    "        if train_size + test_size == 1 :\n",
    "            for rep in range(reps) :\n",
    "                train, val, test = getSplit(df, 0.1, 1 - test_size - 0.1)\n",
    "                spar = sparsity(test)\n",
    "                print(\"\\rTrain Size : {0}, Sparsity : {1}, Repetition : {2}\".format(train_size, spar * 100, rep + 1), end = \"\")\n",
    "                #Training == val\n",
    "                factors, epochs, alpha, lmbda, conf_func = params[\"factors\"], params[\"epochs\"], params[\"alpha\"], params[\"lmbda\"], params[\"conf_func\"]\n",
    "                train_useritem, train_itemuser = constructSparseMatrices(val)\n",
    "                model = trainModel(train_itemuser, factors, epochs, conf_func, alpha, lmbda)\n",
    "                pr, re = getMeanPrecisionRecall(model, all_sids, k, val, test, train_useritem)\n",
    "                spars.append(spar)\n",
    "                pres.append(pr)\n",
    "                recs.append(re)      \n",
    "                \n",
    "        else :\n",
    "            for rep in range(reps) :\n",
    "                val_size = test_size\n",
    "                train, val, test = getSplit(df, train_size, val_size)\n",
    "                spar = sparsity(val)\n",
    "                print(\"\\rTrain Size : {0}, Sparsity : {1}, Repetition : {2}\".format(train_size, spar * 100, rep + 1), end = \"\")\n",
    "                #Training = train\n",
    "                factors, epochs, alpha, lmbda, conf_func = params[\"factors\"], params[\"epochs\"], params[\"alpha\"], params[\"lmbda\"], params[\"conf_func\"]\n",
    "                train_useritem, train_itemuser = constructSparseMatrices(train)\n",
    "                model = trainModel(train_itemuser, factors, epochs, conf_func, alpha, lmbda)\n",
    "                pr, re = getMeanPrecisionRecall(model, all_sids, k, train, val, train_useritem)\n",
    "                spars.append(spar)\n",
    "                pres.append(pr)\n",
    "                recs.append(re)\n",
    "        mean_spar = np.mean(spars)\n",
    "        precisions[mean_spar] = pres\n",
    "        recalls[mean_spar] = recs\n",
    "    return(precisions, recalls)"
   ]
  },
  {
   "cell_type": "code",
   "execution_count": 83,
   "metadata": {},
   "outputs": [
    {
     "name": "stderr",
     "output_type": "stream",
     "text": [
      "/home/ieshan/anaconda3/lib/python3.6/site-packages/numpy/lib/arraysetops.py:472: FutureWarning: elementwise comparison failed; returning scalar instead, but in the future will perform elementwise comparison\n",
      "  mask |= (ar1 == a)\n"
     ]
    },
    {
     "name": "stdout",
     "output_type": "stream",
     "text": [
      "Train Size : 0.8, Sparsity : 98.16179292949946, Repetition : 10"
     ]
    }
   ],
   "source": [
    "df = pd.read_csv(\"data/final_data.csv\", index_col = 0)\n",
    "df_coded, steamid_to_sid, sid_to_steamid, appid_to_aid, aid_to_appid = constructCodes(df)\n",
    "\n",
    "train_sizes = [0.1, 0.2, 0.3, 0.4, 0.5, 0.6, 0.7, 0.8]\n",
    "#train_sizes = [0.2, 0.4, 0.6, 0.8]\n",
    "params = {\"factors\" : 100,\n",
    "          \"epochs\" : 50,\n",
    "          \"alpha\" : 0.01,\n",
    "          \"lmbda\" : 1,\n",
    "          \"conf_func\" : \"linear\"}\n",
    "\n",
    "precisions, recalls = learningCurve(df_coded, train_sizes, 0.2, params, sid_to_steamid.keys(), reps = 10)"
   ]
  },
  {
   "cell_type": "code",
   "execution_count": 84,
   "metadata": {},
   "outputs": [
    {
     "data": {
      "text/plain": [
       "{0.9944838782526284: [0.1159407728421813,\n",
       "  0.11852654387865655,\n",
       "  0.11794871794871795,\n",
       "  0.11758757674250632,\n",
       "  0.11819429396894186,\n",
       "  0.11752979414951246,\n",
       "  0.11778981581798484,\n",
       "  0.11726254965691585,\n",
       "  0.11694474539544962,\n",
       "  0.1177392560491152],\n",
       " 0.9926470125955438: [0.150588660166125,\n",
       "  0.1493102202961358,\n",
       "  0.1493752257132539,\n",
       "  0.15007583965330445,\n",
       "  0.15020585048754062,\n",
       "  0.14972192127121708,\n",
       "  0.15060310581437344,\n",
       "  0.1484001444564825,\n",
       "  0.15014084507042255,\n",
       "  0.1501047309498014],\n",
       " 0.9907897236271083: [0.18301191765980498,\n",
       "  0.18191404839292166,\n",
       "  0.18364030335861323,\n",
       "  0.18302636330805347,\n",
       "  0.18264355362946913,\n",
       "  0.18074395088479592,\n",
       "  0.18319971108703503,\n",
       "  0.18257854821235103,\n",
       "  0.1818779342723005,\n",
       "  0.18336583604189235],\n",
       " 0.9889709000082844: [0.21763813651137592,\n",
       "  0.22049115204044784,\n",
       "  0.21800650054171183,\n",
       "  0.21719032141567352,\n",
       "  0.21890213073311662,\n",
       "  0.22123510292524376,\n",
       "  0.21612856626941135,\n",
       "  0.21721921271217046,\n",
       "  0.21760924521487904,\n",
       "  0.21905381003972554],\n",
       " 0.9871329911532923: [0.2644781509570242,\n",
       "  0.2617045864933189,\n",
       "  0.26231852654387866,\n",
       "  0.26575659082701336,\n",
       "  0.2620657276995305,\n",
       "  0.265590465872156,\n",
       "  0.26448537378114845,\n",
       "  0.263011917659805,\n",
       "  0.26166847237269775,\n",
       "  0.26322860238353196],\n",
       " 0.9852938248970894: [0.31808595160707837,\n",
       "  0.31665583243048034,\n",
       "  0.3188804622607439,\n",
       "  0.3187504514265077,\n",
       "  0.31833875045142657,\n",
       "  0.32015167930660887,\n",
       "  0.3186782231852654,\n",
       "  0.31724088118454313,\n",
       "  0.3170675334055616,\n",
       "  0.317732033224991],\n",
       " 0.9834604671668341: [0.39131094257854826,\n",
       "  0.38994582881906825,\n",
       "  0.39313109425785486,\n",
       "  0.3927410617551463,\n",
       "  0.39222101841820145,\n",
       "  0.39284940411700975,\n",
       "  0.39297941495124594,\n",
       "  0.3937522571325388,\n",
       "  0.39132538822679663,\n",
       "  0.3912387143373059],\n",
       " 0.9816179292949945: [0.5015095702419646,\n",
       "  0.5010328638497652,\n",
       "  0.5009461899602745,\n",
       "  0.5013795594077285,\n",
       "  0.50155290718671,\n",
       "  0.5026796677500903,\n",
       "  0.5006717226435538,\n",
       "  0.5015384615384616,\n",
       "  0.5003539183820873,\n",
       "  0.5004117009750813]}"
      ]
     },
     "execution_count": 84,
     "metadata": {},
     "output_type": "execute_result"
    }
   ],
   "source": [
    "precisions"
   ]
  },
  {
   "cell_type": "code",
   "execution_count": 85,
   "metadata": {},
   "outputs": [
    {
     "data": {
      "text/plain": [
       "{0.9944838782526284: [0.0561786045699461,\n",
       "  0.05776708539581579,\n",
       "  0.05711400099889777,\n",
       "  0.05703752960114014,\n",
       "  0.057560969975371606,\n",
       "  0.05680438383736715,\n",
       "  0.0569700967876166,\n",
       "  0.05610466529272793,\n",
       "  0.05715434363443922,\n",
       "  0.05733984366979723],\n",
       " 0.9926470125955438: [0.07176267770442754,\n",
       "  0.07142588306564944,\n",
       "  0.07059508960934115,\n",
       "  0.07181619139365039,\n",
       "  0.07159398697985647,\n",
       "  0.07113875268787993,\n",
       "  0.07164241256708459,\n",
       "  0.06992009703370058,\n",
       "  0.07213903034372512,\n",
       "  0.07167704958496263],\n",
       " 0.9907897236271083: [0.08620227670126393,\n",
       "  0.0864494281006333,\n",
       "  0.08680541005453908,\n",
       "  0.0868369951428297,\n",
       "  0.08716866311272681,\n",
       "  0.08530520089104404,\n",
       "  0.08698989461563854,\n",
       "  0.08695584129201035,\n",
       "  0.08664231496015096,\n",
       "  0.08686394035853848],\n",
       " 0.9889709000082844: [0.10341761789410946,\n",
       "  0.10468262546697223,\n",
       "  0.10340396676395534,\n",
       "  0.10362802352200509,\n",
       "  0.10341077441236408,\n",
       "  0.10475028893922221,\n",
       "  0.10227624466157924,\n",
       "  0.10376791442968455,\n",
       "  0.1026288872582176,\n",
       "  0.10401508164462825],\n",
       " 0.9871329911532923: [0.12449779894653751,\n",
       "  0.12392210711304699,\n",
       "  0.12491337083563803,\n",
       "  0.12629114263457716,\n",
       "  0.12506719325760174,\n",
       "  0.1260022714287956,\n",
       "  0.12538542773966338,\n",
       "  0.1249907275227395,\n",
       "  0.1246417571886237,\n",
       "  0.12459499337430556],\n",
       " 0.9852938248970894: [0.15011683444824792,\n",
       "  0.149397549906691,\n",
       "  0.15069538605642907,\n",
       "  0.1507513750289365,\n",
       "  0.15057063133284163,\n",
       "  0.15124428644635107,\n",
       "  0.1503079668825216,\n",
       "  0.14932895066197854,\n",
       "  0.14963089821370001,\n",
       "  0.1498784871529801],\n",
       " 0.9834604671668341: [0.18314800238195758,\n",
       "  0.18247171428357475,\n",
       "  0.18405762877145634,\n",
       "  0.18400344729425147,\n",
       "  0.18285840478160267,\n",
       "  0.18448587467553254,\n",
       "  0.18369034103828694,\n",
       "  0.18432418618098656,\n",
       "  0.18266396503623167,\n",
       "  0.1835091905778169],\n",
       " 0.9816179292949945: [0.22845517018067332,\n",
       "  0.2291933164215252,\n",
       "  0.22929224398861328,\n",
       "  0.22843202860229375,\n",
       "  0.22833345701537283,\n",
       "  0.22909820634049113,\n",
       "  0.22905587042449038,\n",
       "  0.22905460346437173,\n",
       "  0.2280634488938226,\n",
       "  0.228696005733954]}"
      ]
     },
     "execution_count": 85,
     "metadata": {},
     "output_type": "execute_result"
    }
   ],
   "source": [
    "recalls"
   ]
  },
  {
   "cell_type": "code",
   "execution_count": 99,
   "metadata": {},
   "outputs": [],
   "source": [
    "df_prec = []\n",
    "for key, value in precisions.items() :\n",
    "    df_prec.append([key] + value)\n",
    "precision_df = pd.DataFrame(df_prec, columns = [\"Sparsity\"] + [\"Run \" + str(i) for i in range(1, len(df_prec[0]))])"
   ]
  },
  {
   "cell_type": "code",
   "execution_count": 100,
   "metadata": {},
   "outputs": [],
   "source": [
    "df_rec = []\n",
    "for key, value in recalls.items() :\n",
    "    df_rec.append([key] + value)\n",
    "recall_df = pd.DataFrame(df_rec, columns = [\"Sparsity\"] + [\"Run \" + str(i) for i in range(1, len(df_prec[0]))])"
   ]
  },
  {
   "cell_type": "code",
   "execution_count": 103,
   "metadata": {},
   "outputs": [],
   "source": [
    "precision_df.to_csv(\"learningcurve_precision.csv\")\n",
    "recall_df.to_csv(\"learningcurve_recall.csv\")"
   ]
  },
  {
   "cell_type": "code",
   "execution_count": 108,
   "metadata": {},
   "outputs": [],
   "source": [
    "mean_precision = precision_df.set_index(\"Sparsity\").mean(axis = 1)\n",
    "mean_recall = recall_df.set_index(\"Sparsity\").mean(axis = 1)"
   ]
  },
  {
   "cell_type": "code",
   "execution_count": 120,
   "metadata": {},
   "outputs": [
    {
     "data": {
      "image/png": "[encoded data removed]",
      "text/plain": [
       "<Figure size 288x216 with 1 Axes>"
      ]
     },
     "metadata": {},
     "output_type": "display_data"
    }
   ],
   "source": [
    "fig, ax = plt.subplots(figsize = (4, 3))\n",
    "ax.scatter(100 * (1 - mean_precision.index), mean_precision.values, marker = \"o\", alpha = 0.5, s = 20, color = \"blue\", label = \"Precision@10\")\n",
    "ax.scatter(100 * (1 - mean_recall.index), mean_recall.values, marker = \"o\", alpha = 0.5, s = 20, color = \"g\", label = \"Recall@10\")\n",
    "ax.set_xlabel(\"% density\")\n",
    "ax.tick_params(direction = \"in\")\n",
    "#ax.grid(linestyle = \"--\")\n",
    "box = ax.get_position()\n",
    "ax.set_position([box.x0, box.y0 + box.height * 0.1,\n",
    "                 box.width, box.height * 0.8])\n",
    "\n",
    "ax.legend(loc='upper center', bbox_to_anchor=(0.5, -0.2),\n",
    "          fancybox=True, shadow=True, ncol=2)\n",
    "#ax.set_xticks([0, 25, 50, 75, 100, 125, 150, 175, 200])\n",
    "#ax.set_yticks([0.1, 0.15, 0.2, 0.25, 0.3, 0.35])\n",
    "#fig.savefig(\"temp.svg\")\n",
    "plt.show()"
   ]
  },
  {
   "cell_type": "code",
   "execution_count": 125,
   "metadata": {},
   "outputs": [
    {
     "data": {
      "text/plain": [
       "12982"
      ]
     },
     "execution_count": 125,
     "metadata": {},
     "output_type": "execute_result"
    }
   ],
   "source": [
    "df_coded[\"aid\"].nunique()"
   ]
  },
  {
   "cell_type": "code",
   "execution_count": 128,
   "metadata": {},
   "outputs": [
    {
     "name": "stderr",
     "output_type": "stream",
     "text": [
      "/home/ieshan/anaconda3/lib/python3.6/site-packages/numpy/lib/arraysetops.py:472: FutureWarning: elementwise comparison failed; returning scalar instead, but in the future will perform elementwise comparison\n",
      "  mask |= (ar1 == a)\n"
     ]
    },
    {
     "name": "stdout",
     "output_type": "stream",
     "text": [
      "N = 5, Rep = 1, Precision = 0.6323293607800652, Recall = 0.15156535855068362\n",
      "N = 5, Rep = 2, Precision = 0.6369808595160708, Recall = 0.1527459924213601\n",
      "N = 5, Rep = 3, Precision = 0.6353051643192488, Recall = 0.1520575544785478\n",
      "N = 5, Rep = 4, Precision = 0.6360852293246659, Recall = 0.1526510022892756\n",
      "N = 5, Rep = 5, Precision = 0.6365763813651139, Recall = 0.1528922044897404\n",
      "N = 5, Rep = 6, Precision = 0.6339039364391477, Recall = 0.1523446022739225\n",
      "N = 5, Rep = 7, Precision = 0.6340195016251354, Recall = 0.15219239421047287\n",
      "N = 5, Rep = 8, Precision = 0.6370386421090646, Recall = 0.1529394214146356\n",
      "N = 5, Rep = 9, Precision = 0.6321560130010835, Recall = 0.15179550891750176\n",
      "N = 5, Rep = 10, Precision = 0.6326182737450342, Recall = 0.15177368385922885\n",
      "N = 10, Rep = 1, Precision = 0.558013723365836, Recall = 0.2561181869765461\n",
      "N = 10, Rep = 2, Precision = 0.5581437342000722, Recall = 0.25611015974074164\n",
      "N = 10, Rep = 3, Precision = 0.55882267966775, Recall = 0.2564969843133885\n",
      "N = 10, Rep = 4, Precision = 0.5578764897074756, Recall = 0.2558139741155377\n",
      "N = 10, Rep = 5, Precision = 0.5583026363308053, Recall = 0.25544040900607934\n",
      "N = 10, Rep = 6, Precision = 0.5575009028530156, Recall = 0.25600931585549525\n",
      "N = 10, Rep = 7, Precision = 0.5585265438786565, Recall = 0.25586647530609724\n",
      "N = 10, Rep = 8, Precision = 0.5574286746117733, Recall = 0.25567726551720227\n",
      "N = 10, Rep = 9, Precision = 0.5574720115565186, Recall = 0.25523671859668595\n",
      "N = 10, Rep = 10, Precision = 0.557638136511376, Recall = 0.2562001217485926\n",
      "N = 15, Rep = 1, Precision = 0.49014084507042255, Recall = 0.31624034344846547\n",
      "N = 15, Rep = 2, Precision = 0.4914746599253641, Recall = 0.31575892733669714\n",
      "N = 15, Rep = 3, Precision = 0.4891681714216925, Recall = 0.3141162284645356\n",
      "N = 15, Rep = 4, Precision = 0.4904971710605514, Recall = 0.3154122736505082\n",
      "N = 15, Rep = 5, Precision = 0.49079089924160346, Recall = 0.31640598668380165\n",
      "N = 15, Rep = 6, Precision = 0.49018418201516795, Recall = 0.31557896225965\n",
      "N = 15, Rep = 7, Precision = 0.4896833995425545, Recall = 0.31566293032858916\n",
      "N = 15, Rep = 8, Precision = 0.4910942578548213, Recall = 0.3158896821920071\n",
      "N = 15, Rep = 9, Precision = 0.4914120621162874, Recall = 0.31614047791312544\n",
      "N = 15, Rep = 10, Precision = 0.4900397255326833, Recall = 0.31541961664229917\n",
      "N = 20, Rep = 1, Precision = 0.4397580353918382, Recall = 0.3571166581512586\n",
      "N = 20, Rep = 2, Precision = 0.44078006500541717, Recall = 0.3572266783729643\n",
      "N = 20, Rep = 3, Precision = 0.44105092091007586, Recall = 0.3571162809366728\n",
      "N = 20, Rep = 4, Precision = 0.4397219212712171, Recall = 0.35686902985484253\n",
      "N = 20, Rep = 5, Precision = 0.44182737450343085, Recall = 0.35825652620594317\n",
      "N = 20, Rep = 6, Precision = 0.44065727699530516, Recall = 0.3581127741034537\n",
      "N = 20, Rep = 7, Precision = 0.4391585409895269, Recall = 0.35578387501410663\n",
      "N = 20, Rep = 8, Precision = 0.44071144817623686, Recall = 0.35771552794300326\n",
      "N = 20, Rep = 9, Precision = 0.4400541711809317, Recall = 0.35703726175423345\n",
      "N = 20, Rep = 10, Precision = 0.4403503069700253, Recall = 0.3574313646724369\n",
      "N = 25, Rep = 1, Precision = 0.40169880823401954, Recall = 0.38926609408301666\n",
      "N = 25, Rep = 2, Precision = 0.4021784037558686, Recall = 0.38915275312096526\n",
      "N = 25, Rep = 3, Precision = 0.4023113037197545, Recall = 0.3900037533649904\n",
      "N = 25, Rep = 4, Precision = 0.4027591188154569, Recall = 0.3902806905470326\n",
      "N = 25, Rep = 5, Precision = 0.4025048754062839, Recall = 0.39028933907986835\n",
      "N = 25, Rep = 6, Precision = 0.402371975442398, Recall = 0.39012340522011396\n",
      "N = 25, Rep = 7, Precision = 0.40135500180570605, Recall = 0.38860337750993246\n",
      "N = 25, Rep = 8, Precision = 0.4030740339472734, Recall = 0.39079608973464974\n",
      "N = 25, Rep = 9, Precision = 0.401563019140484, Recall = 0.3891492504575841\n",
      "N = 25, Rep = 10, Precision = 0.4022246298302637, Recall = 0.39002200796120706\n",
      "N = 30, Rep = 1, Precision = 0.37217768147345615, Recall = 0.4163483923151817\n",
      "N = 30, Rep = 2, Precision = 0.3731070181774407, Recall = 0.417756911525987\n",
      "N = 30, Rep = 3, Precision = 0.3705092091007584, Recall = 0.4141046176296821\n",
      "N = 30, Rep = 4, Precision = 0.37191765980498376, Recall = 0.4155610555705229\n",
      "N = 30, Rep = 5, Precision = 0.3721752738654147, Recall = 0.4168144945258539\n",
      "N = 30, Rep = 6, Precision = 0.3715974479354761, Recall = 0.4163536397968679\n",
      "N = 30, Rep = 7, Precision = 0.37181172505116167, Recall = 0.4167851603030679\n",
      "N = 30, Rep = 8, Precision = 0.3725725291922475, Recall = 0.41744216082231805\n",
      "N = 30, Rep = 9, Precision = 0.3727651378355603, Recall = 0.4170079277635967\n",
      "N = 30, Rep = 10, Precision = 0.3720958228000481, Recall = 0.4163538038612487\n",
      "N = 35, Rep = 1, Precision = 0.3474859412887582, Recall = 0.43851748459848616\n",
      "N = 35, Rep = 2, Precision = 0.34785533715111183, Recall = 0.43946465769529885\n",
      "N = 35, Rep = 3, Precision = 0.34750038693700663, Recall = 0.43802267100683906\n",
      "N = 35, Rep = 4, Precision = 0.34720734664396635, Recall = 0.4384383695864044\n",
      "N = 35, Rep = 5, Precision = 0.3464768095754011, Recall = 0.43798640371874453\n",
      "N = 35, Rep = 6, Precision = 0.3476324614352783, Recall = 0.43860155879442253\n",
      "N = 35, Rep = 7, Precision = 0.34712892741061757, Recall = 0.4380340379472794\n",
      "N = 35, Rep = 8, Precision = 0.3480183666099159, Recall = 0.43844083101141784\n",
      "N = 35, Rep = 9, Precision = 0.3469411339833875, Recall = 0.4379750704830202\n",
      "N = 35, Rep = 10, Precision = 0.3478223185265439, Recall = 0.4393761401509392\n",
      "N = 40, Rep = 1, Precision = 0.32771217045864925, Recall = 0.4590804904756831\n",
      "N = 40, Rep = 2, Precision = 0.32629107981220656, Recall = 0.4571638135216527\n",
      "N = 40, Rep = 3, Precision = 0.3256247742867461, Recall = 0.45659208570877663\n",
      "N = 40, Rep = 4, Precision = 0.3262134344528711, Recall = 0.45703817603507124\n",
      "N = 40, Rep = 5, Precision = 0.32675875767425067, Recall = 0.4581866406509463\n",
      "N = 40, Rep = 6, Precision = 0.3265420729505237, Recall = 0.4575982492205766\n",
      "N = 40, Rep = 7, Precision = 0.32702961357890936, Recall = 0.4581608713486406\n",
      "N = 40, Rep = 8, Precision = 0.3269465511014807, Recall = 0.4575581736562524\n",
      "N = 40, Rep = 9, Precision = 0.32728421812928854, Recall = 0.4587247770565412\n",
      "N = 40, Rep = 10, Precision = 0.3264987360057783, Recall = 0.45745839880479444\n",
      "N = 45, Rep = 1, Precision = 0.30931664058424624, Recall = 0.4745714378767882\n",
      "N = 45, Rep = 2, Precision = 0.30948677821917264, Recall = 0.4754104840114771\n",
      "N = 45, Rep = 3, Precision = 0.308908952289234, Recall = 0.4745646051986629\n",
      "N = 45, Rep = 4, Precision = 0.3096986477268167, Recall = 0.47553110537170257\n",
      "N = 45, Rep = 5, Precision = 0.30979174190441805, Recall = 0.47641978386660716\n",
      "N = 45, Rep = 6, Precision = 0.3095413506681113, Recall = 0.47509259822042366\n",
      "N = 45, Rep = 7, Precision = 0.309530115163918, Recall = 0.4761178757666443\n",
      "N = 45, Rep = 8, Precision = 0.3092957746478873, Recall = 0.47567450387221394\n",
      "N = 45, Rep = 9, Precision = 0.3090180971871113, Recall = 0.4747756799845755\n",
      "N = 45, Rep = 10, Precision = 0.3090148870430561, Recall = 0.4747084159396473\n",
      "N = 50, Rep = 1, Precision = 0.2942462983026364, Recall = 0.4910409787149627\n",
      "N = 50, Rep = 2, Precision = 0.29382159624413146, Recall = 0.4895745192637432\n",
      "N = 50, Rep = 3, Precision = 0.2944962080173348, Recall = 0.4914544685389308\n",
      "N = 50, Rep = 4, Precision = 0.29424340917298664, Recall = 0.4905418994113151\n",
      "N = 50, Rep = 5, Precision = 0.29418273745034307, Recall = 0.4911837566681601\n",
      "N = 50, Rep = 6, Precision = 0.29422174070061397, Recall = 0.49100165128102785\n",
      "N = 50, Rep = 7, Precision = 0.29420585048754067, Recall = 0.4912336885635158\n",
      "N = 50, Rep = 8, Precision = 0.29378837125316, Recall = 0.4893621751445556\n",
      "N = 50, Rep = 9, Precision = 0.29442542434091734, Recall = 0.491183743304058\n",
      "N = 50, Rep = 10, Precision = 0.2944427591188155, Recall = 0.49088244805127884\n",
      "N = 55, Rep = 1, Precision = 0.28146557667684424, Recall = 0.5063740643546457\n",
      "N = 55, Rep = 2, Precision = 0.2812817229718638, Recall = 0.5061963876696677\n",
      "N = 55, Rep = 3, Precision = 0.28123838602711837, Recall = 0.5056780967504484\n",
      "N = 55, Rep = 4, Precision = 0.28098230408089564, Recall = 0.5054114959641004\n",
      "N = 55, Rep = 5, Precision = 0.2813066745461112, Recall = 0.5055198537929345\n",
      "N = 55, Rep = 6, Precision = 0.2809796775993959, Recall = 0.5057221412445807\n",
      "N = 55, Rep = 7, Precision = 0.28127121704586494, Recall = 0.5057374247564497\n",
      "N = 55, Rep = 8, Precision = 0.28196329492104144, Recall = 0.506794957670433\n",
      "N = 55, Rep = 9, Precision = 0.28104796611838867, Recall = 0.5060549168616685\n",
      "N = 55, Rep = 10, Precision = 0.28061197018943496, Recall = 0.5045368759225087\n",
      "N = 60, Rep = 1, Precision = 0.2688070302154809, Recall = 0.5177281165208456\n",
      "N = 60, Rep = 2, Precision = 0.2693342963765499, Recall = 0.5181829867653555\n",
      "N = 60, Rep = 3, Precision = 0.270216684723727, Recall = 0.5200726567137637\n",
      "N = 60, Rep = 4, Precision = 0.27007704345732514, Recall = 0.5201490736144971\n",
      "N = 60, Rep = 5, Precision = 0.2697315517033827, Recall = 0.519804717126579\n",
      "N = 60, Rep = 6, Precision = 0.2696460816179126, Recall = 0.5191398009408456\n",
      "N = 60, Rep = 7, Precision = 0.26957385337667034, Recall = 0.5187077581681965\n",
      "N = 60, Rep = 8, Precision = 0.2690875165523053, Recall = 0.5181163987992792\n",
      "N = 60, Rep = 9, Precision = 0.26949801372336585, Recall = 0.5192330389007173\n",
      "N = 60, Rep = 10, Precision = 0.26973997833152763, Recall = 0.5196638372335868\n",
      "N = 65, Rep = 1, Precision = 0.2590849237436453, Recall = 0.5318596042538108\n",
      "N = 65, Rep = 2, Precision = 0.25897380337250325, Recall = 0.5320677111512483\n",
      "N = 65, Rep = 3, Precision = 0.2590904797622024, Recall = 0.531888523178062\n",
      "N = 65, Rep = 4, Precision = 0.2588160124454816, Recall = 0.5313415251044767\n",
      "N = 65, Rep = 5, Precision = 0.2594371753201656, Recall = 0.5327601443425434\n",
      "N = 65, Rep = 6, Precision = 0.258859349390227, Recall = 0.5313825395826426\n",
      "N = 65, Rep = 7, Precision = 0.2592060449481901, Recall = 0.5319182710014749\n",
      "N = 65, Rep = 8, Precision = 0.2592093785593244, Recall = 0.5325565579477006\n",
      "N = 65, Rep = 9, Precision = 0.25903380837292, Recall = 0.5313264554614466\n",
      "N = 65, Rep = 10, Precision = 0.2590426980026113, Recall = 0.5318667043948748\n",
      "N = 70, Rep = 1, Precision = 0.2491946551101481, Recall = 0.5428805005515193\n",
      "N = 70, Rep = 2, Precision = 0.24952484135582728, Recall = 0.5438004937804003\n",
      "N = 70, Rep = 3, Precision = 0.24930815663210032, Recall = 0.5421834408891222\n",
      "N = 70, Rep = 4, Precision = 0.2496166744054068, Recall = 0.5433664086145978\n",
      "N = 70, Rep = 5, Precision = 0.24964453386988597, Recall = 0.5433734109269251\n",
      "N = 70, Rep = 6, Precision = 0.24927926533560335, Recall = 0.54354372479474\n",
      "N = 70, Rep = 7, Precision = 0.24939070319352008, Recall = 0.5417360075315307\n",
      "N = 70, Rep = 8, Precision = 0.24996233813135224, Recall = 0.544006385094921\n",
      "N = 70, Rep = 9, Precision = 0.24989526905019865, Recall = 0.5439678033986936\n",
      "N = 70, Rep = 10, Precision = 0.24965691585409897, Recall = 0.5434396757937339\n",
      "N = 75, Rep = 1, Precision = 0.24094089322258339, Recall = 0.554743975968332\n",
      "N = 75, Rep = 2, Precision = 0.24042951727458772, Recall = 0.5540167522556808\n",
      "N = 75, Rep = 3, Precision = 0.24080125195618154, Recall = 0.5543965329576898\n",
      "N = 75, Rep = 4, Precision = 0.2407646563139521, Recall = 0.554374066441012\n",
      "N = 75, Rep = 5, Precision = 0.24103527145780665, Recall = 0.5548083783386871\n",
      "N = 75, Rep = 6, Precision = 0.2409611171301312, Recall = 0.5550562480508676\n",
      "N = 75, Rep = 7, Precision = 0.24088888888888887, Recall = 0.554007253787658\n",
      "N = 75, Rep = 8, Precision = 0.24101408450704226, Recall = 0.5544157579121158\n",
      "N = 75, Rep = 9, Precision = 0.24094474539544963, Recall = 0.5547525742174865\n",
      "N = 75, Rep = 10, Precision = 0.24097845190802936, Recall = 0.5550408756721926\n",
      "N = 80, Rep = 1, Precision = 0.2330371975442398, Recall = 0.5652291536607847\n",
      "N = 80, Rep = 2, Precision = 0.23278620440592274, Recall = 0.5644580818500541\n",
      "N = 80, Rep = 3, Precision = 0.2328196099674973, Recall = 0.5646126833049433\n",
      "N = 80, Rep = 4, Precision = 0.23218039003250274, Recall = 0.5622345555572095\n",
      "N = 80, Rep = 5, Precision = 0.232406103286385, Recall = 0.5646037817679816\n",
      "N = 80, Rep = 6, Precision = 0.23230588660166127, Recall = 0.5637619099538856\n",
      "N = 80, Rep = 7, Precision = 0.23265709642470206, Recall = 0.5638889222279296\n",
      "N = 80, Rep = 8, Precision = 0.2324864572047671, Recall = 0.5642682839249751\n",
      "N = 80, Rep = 9, Precision = 0.2329920548934633, Recall = 0.5646874689053272\n",
      "N = 80, Rep = 10, Precision = 0.23280516431924883, Recall = 0.5647611011679685\n",
      "N = 85, Rep = 1, Precision = 0.22522295158583475, Recall = 0.5749773970814989\n",
      "N = 85, Rep = 2, Precision = 0.2248796550039301, Recall = 0.5739997709262451\n",
      "N = 85, Rep = 3, Precision = 0.2246850636245831, Recall = 0.5732506357422762\n",
      "N = 85, Rep = 4, Precision = 0.22499182121385933, Recall = 0.5737031979877762\n",
      "N = 85, Rep = 5, Precision = 0.22457799587874155, Recall = 0.5728325805052356\n",
      "N = 85, Rep = 6, Precision = 0.22501986276634164, Recall = 0.5734140293958249\n",
      "N = 85, Rep = 7, Precision = 0.22489919911626624, Recall = 0.5735680447706514\n",
      "N = 85, Rep = 8, Precision = 0.22473264928940156, Recall = 0.5734143267769205\n",
      "N = 85, Rep = 9, Precision = 0.22499267095787395, Recall = 0.5747855322159778\n",
      "N = 85, Rep = 10, Precision = 0.2247462451936354, Recall = 0.5732135653433963\n",
      "N = 90, Rep = 1, Precision = 0.2173588539785723, Recall = 0.5815431363270033\n",
      "N = 90, Rep = 2, Precision = 0.2176108502869066, Recall = 0.5820308974511976\n",
      "N = 90, Rep = 3, Precision = 0.2179174190441796, Recall = 0.5823600854481548\n",
      "N = 90, Rep = 4, Precision = 0.2179174190441796, Recall = 0.5821640920565734\n",
      "N = 90, Rep = 5, Precision = 0.21798804221339435, Recall = 0.5825234499266736\n",
      "N = 90, Rep = 6, Precision = 0.21769030135227319, Recall = 0.5813474675178206\n",
      "N = 90, Rep = 7, Precision = 0.21804020705429156, Recall = 0.5833415847722547\n",
      "N = 90, Rep = 8, Precision = 0.21789655310782072, Recall = 0.5830379103060963\n",
      "N = 90, Rep = 9, Precision = 0.21775530676939125, Recall = 0.5824877836423527\n",
      "N = 90, Rep = 10, Precision = 0.2181581798483207, Recall = 0.583626443005062\n",
      "N = 95, Rep = 1, Precision = 0.21143639162912697, Recall = 0.590519464093718\n",
      "N = 95, Rep = 2, Precision = 0.21094295869685045, Recall = 0.5894027823443474\n",
      "N = 95, Rep = 3, Precision = 0.21100226188439677, Recall = 0.589061755932471\n",
      "N = 95, Rep = 4, Precision = 0.21168348824390334, Recall = 0.591956746602345\n",
      "N = 95, Rep = 5, Precision = 0.21095512345327025, Recall = 0.5899449034308151\n",
      "N = 95, Rep = 6, Precision = 0.2114067400353538, Recall = 0.5911713497079343\n",
      "N = 95, Rep = 7, Precision = 0.21141814449449733, Recall = 0.5909853503578855\n",
      "N = 95, Rep = 8, Precision = 0.2115466347341811, Recall = 0.5917936568603177\n",
      "N = 95, Rep = 9, Precision = 0.21113607420501418, Recall = 0.5897663482229694\n",
      "N = 95, Rep = 10, Precision = 0.21152838759955145, Recall = 0.5914349968549177\n",
      "N = 100, Rep = 1, Precision = 0.20496641386782233, Recall = 0.5981394836772842\n",
      "N = 100, Rep = 2, Precision = 0.2050754785120982, Recall = 0.5981068913648898\n",
      "N = 100, Rep = 3, Precision = 0.20507908992416032, Recall = 0.5974641739291889\n",
      "N = 100, Rep = 4, Precision = 0.20495485734922358, Recall = 0.5974816383128977\n",
      "N = 100, Rep = 5, Precision = 0.20509353557240884, Recall = 0.5981393283765962\n",
      "N = 100, Rep = 6, Precision = 0.20534994582881907, Recall = 0.5990142643857871\n",
      "N = 100, Rep = 7, Precision = 0.20503141928494042, Recall = 0.5985962379301111\n",
      "N = 100, Rep = 8, Precision = 0.20480028891296498, Recall = 0.5979645251049651\n",
      "N = 100, Rep = 9, Precision = 0.20545756590827016, Recall = 0.5984232083202089\n",
      "N = 100, Rep = 10, Precision = 0.20524954857349223, Recall = 0.5989110209864126\n"
     ]
    }
   ],
   "source": [
    "factors = 100\n",
    "epochs = 50\n",
    "alpha = 1\n",
    "lmbda = 1\n",
    "\n",
    "df = pd.read_csv(\"data/final_data.csv\", index_col = 0)\n",
    "df_coded, steamid_to_sid, sid_to_steamid, appid_to_aid, aid_to_appid = constructCodes(df)\n",
    "all_sids = sid_to_steamid.keys()\n",
    "\n",
    "rows = []\n",
    "reps = 10\n",
    "\n",
    "N_list = [i for i in range(5, 101, 5)]\n",
    "for i, N in enumerate(N_list) :\n",
    "    for j, r in enumerate(range(reps)) :\n",
    "        train, val, test = getSplit(df_coded, train_size = 0.6, validation_size = 0.2)\n",
    "        trainval_useritem, trainval_itemuser = constructSparseMatrices(val)\n",
    "        model = trainModel(trainval_itemuser, factors, epochs, \"log\", alpha, lmbda)\n",
    "        pr, re = getMeanPrecisionRecall(model, all_sids, N, val, test, trainval_useritem)\n",
    "        rows.append([N, r, pr, re])\n",
    "        print(\"\\rN = {0}, Rep = {1}, Precision = {2}, Recall = {3}\".format(N, r + 1, pr, re))\n",
    "test_df = pd.DataFrame(rows, columns = [\"N\", \"rep\", \"precision\", \"recall\"])\n",
    "test_df.to_csv(\"log_test_results.csv\")"
   ]
  },
  {
   "cell_type": "code",
   "execution_count": 129,
   "metadata": {},
   "outputs": [
    {
     "name": "stderr",
     "output_type": "stream",
     "text": [
      "/home/ieshan/anaconda3/lib/python3.6/site-packages/numpy/lib/arraysetops.py:472: FutureWarning: elementwise comparison failed; returning scalar instead, but in the future will perform elementwise comparison\n",
      "  mask |= (ar1 == a)\n"
     ]
    }
   ],
   "source": [
    "factors = 100\n",
    "epochs = 50\n",
    "alpha = 1\n",
    "lmbda = 1\n",
    "\n",
    "df = pd.read_csv(\"data/final_data.csv\", index_col = 0)\n",
    "df_coded, steamid_to_sid, sid_to_steamid, appid_to_aid, aid_to_appid = constructCodes(df)\n",
    "train, val, test = getSplit(df_coded, 0.6, 0.2)\n",
    "trainval_useritem, trainval_itemuser = constructSparseMatrices(val)\n",
    "model = trainModel(trainval_itemuser, factors, epochs, \"log\", alpha, lmbda)"
   ]
  },
  {
   "cell_type": "code",
   "execution_count": 137,
   "metadata": {},
   "outputs": [
    {
     "data": {
      "text/plain": [
       "1310"
      ]
     },
     "execution_count": 137,
     "metadata": {},
     "output_type": "execute_result"
    }
   ],
   "source": [
    "appid_to_aid[105600]"
   ]
  },
  {
   "cell_type": "code",
   "execution_count": 138,
   "metadata": {},
   "outputs": [
    {
     "name": "stdout",
     "output_type": "stream",
     "text": [
      "105600\n",
      "620\n",
      "4000\n",
      "550\n",
      "49520\n",
      "218620\n",
      "230410\n",
      "730\n",
      "72850\n",
      "211820\n"
     ]
    }
   ],
   "source": [
    "nfs_sim = model.similar_items(1310)\n",
    "for item in nfs_sim :\n",
    "    aid = item[0]\n",
    "    appid = aid_to_appid[aid]\n",
    "    print(appid)"
   ]
  },
  {
   "cell_type": "code",
   "execution_count": 130,
   "metadata": {},
   "outputs": [
    {
     "name": "stdout",
     "output_type": "stream",
     "text": [
      "10\n",
      "80\n",
      "100\n",
      "240\n",
      "30\n",
      "60\n",
      "40\n",
      "300\n",
      "282660\n",
      "70\n"
     ]
    }
   ],
   "source": [
    "#Games similar to CS :\n",
    "cs_sim = model.similar_items(0)\n",
    "for item in cs_sim :\n",
    "    aid = item[0]\n",
    "    appid = aid_to_appid[aid]\n",
    "    print(appid)"
   ]
  },
  {
   "cell_type": "code",
   "execution_count": 136,
   "metadata": {},
   "outputs": [
    {
     "name": "stdout",
     "output_type": "stream",
     "text": [
      "489830\n",
      "377160\n",
      "365720\n",
      "72850\n",
      "22370\n",
      "292030\n",
      "306130\n",
      "22380\n",
      "22330\n",
      "241930\n"
     ]
    }
   ],
   "source": [
    "#Games similar to Skyrim :\n",
    "skyrim_sim = model.similar_items(8545)\n",
    "for item in skyrim_sim :\n",
    "    aid = item[0]\n",
    "    appid = aid_to_appid[aid]\n",
    "    print(appid)"
   ]
  },
  {
   "cell_type": "code",
   "execution_count": null,
   "metadata": {},
   "outputs": [],
   "source": []
  }
 ],
 "metadata": {
  "kernelspec": {
   "display_name": "Python 3",
   "language": "python",
   "name": "python3"
  },
  "language_info": {
   "codemirror_mode": {
    "name": "ipython",
    "version": 3
   },
   "file_extension": ".py",
   "mimetype": "text/x-python",
   "name": "python",
   "nbconvert_exporter": "python",
   "pygments_lexer": "ipython3",
   "version": "3.6.7"
  }
 },
 "nbformat": 4,
 "nbformat_minor": 2
}
