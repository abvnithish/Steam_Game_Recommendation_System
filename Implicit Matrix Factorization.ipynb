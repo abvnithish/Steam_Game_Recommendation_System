{
 "cells": [
  {
   "cell_type": "code",
   "execution_count": 12,
   "metadata": {},
   "outputs": [],
   "source": [
    "import pandas as pd\n",
    "import numpy as np\n",
    "import implicit\n",
    "import scipy.sparse as sparse"
   ]
  },
  {
   "cell_type": "code",
   "execution_count": 13,
   "metadata": {},
   "outputs": [],
   "source": [
    "def constructCodes(df) :\n",
    "    \"\"\"\n",
    "    Maps 'steamid' to categorical code 'sid'\n",
    "    Maps 'appid' to categorical code 'aid'\n",
    "    Returns :\n",
    "        1. Dataframe with columns 'sid', 'aid', 'playtime_forever'\n",
    "        2. Dictionary mapping 'steamid' to 'sid'\n",
    "        3. Dictionary mapping 'sid' to 'steamid'\n",
    "        4. Dictionary mapping 'appid' to 'aid'\n",
    "        5. Dictionary mapping 'aid' to 'appid'\n",
    "    \"\"\"\n",
    "    coded_df = df.copy(deep = True)\n",
    "    coded_df[\"steamid\"] = coded_df[\"steamid\"].astype(\"category\")\n",
    "    coded_df[\"appid\"] = coded_df[\"appid\"].astype(\"category\")\n",
    "    coded_df[\"sid\"] = coded_df[\"steamid\"].cat.codes\n",
    "    coded_df[\"aid\"] = coded_df[\"appid\"].cat.codes\n",
    "    \n",
    "    sid_to_steamid = dict(enumerate(coded_df[\"steamid\"].cat.categories))\n",
    "    aid_to_appid = dict(enumerate(coded_df[\"appid\"].cat.categories))\n",
    "    steamid_to_sid = {v : k for k, v in sid_to_steamid.items()}\n",
    "    appid_to_aid = {v : k for k, v in aid_to_appid.items()}\n",
    "    \n",
    "    coded_df.drop([\"steamid\", \"appid\"], axis = 1, inplace = True)\n",
    "    \n",
    "    return(coded_df, steamid_to_sid, sid_to_steamid, appid_to_aid, aid_to_appid)"
   ]
  },
  {
   "cell_type": "code",
   "execution_count": 31,
   "metadata": {},
   "outputs": [],
   "source": [
    "def getSplit(df, train_size, validation_size) :\n",
    "    \"\"\"\n",
    "    Returns Train, Validation and Test DataFrames\n",
    "    \"\"\"\n",
    "    train = df.copy(deep = True)\n",
    "    val = df.copy(deep = True)\n",
    "    test = df.copy(deep = True)\n",
    "    \n",
    "    assert train_size + validation_size < 1, \"train_size + validation_size should be less than 1\"\n",
    "    test_size = 1 - train_size - validation_size\n",
    "    \n",
    "    test_sample = df.groupby(\"sid\").apply(lambda x : x.sample(frac = test_size))\n",
    "    test_sample.reset_index(level = 0, drop = True, inplace = True)\n",
    "    test_idx = test_sample.index\n",
    "    train.drop(test_idx, inplace = True)\n",
    "    val.drop(test_idx, inplace = True)\n",
    "    \n",
    "    val_sample = train.groupby(\"sid\").apply(lambda x : x.sample(frac = validation_size / (1 - test_size)))\n",
    "    val_sample.reset_index(level = 0, drop = True, inplace = True)\n",
    "    val_idx = val_sample.index\n",
    "    train.drop(val_idx, inplace = True)\n",
    "    \n",
    "    assert train[\"sid\"].nunique() == df[\"sid\"].nunique()\n",
    "    assert train[\"aid\"].nunique() == df[\"aid\"].nunique()\n",
    "    assert val[\"sid\"].nunique() == df[\"sid\"].nunique()\n",
    "    assert val[\"aid\"].nunique() == df[\"aid\"].nunique()\n",
    "    \n",
    "    return(train, val, test)"
   ]
  },
  {
   "cell_type": "code",
   "execution_count": 15,
   "metadata": {},
   "outputs": [],
   "source": [
    "def constructSparseMatrices(df) :\n",
    "    \"\"\"\n",
    "    Constructs sparse matrices that will be used in ALS optimization\n",
    "    Input : Dataframe with columns - 'sid', 'aid', 'playtime_forever'\n",
    "    \n",
    "    Returns :\n",
    "        1. User x Item Sparse Matrix\n",
    "        2. Item x User Sparse Matrix\n",
    "    \"\"\"\n",
    "    data_useritem = sparse.csr_matrix((df[\"playtime_forever\"], (df[\"sid\"], df[\"aid\"])))\n",
    "    data_itemuser = sparse.csr_matrix((df[\"playtime_forever\"], (df[\"aid\"], df[\"sid\"])))\n",
    "    \n",
    "    sid_unique = df[\"sid\"].nunique()\n",
    "    aid_unique = df[\"aid\"].nunique()\n",
    "    \n",
    "    assert data_useritem.shape == (sid_unique, aid_unique)\n",
    "    assert data_itemuser.shape == (aid_unique, sid_unique)\n",
    "    \n",
    "    return(data_useritem, data_itemuser)"
   ]
  },
  {
   "cell_type": "code",
   "execution_count": 16,
   "metadata": {},
   "outputs": [],
   "source": [
    "def trainModel(data, factors, epochs, conf_func, alpha, lmbda) :\n",
    "    \"\"\"\n",
    "    Builds and trains Implicit Matrix Factorization model.\n",
    "    Input :\n",
    "        1. data - Item x User Sparse Matrix\n",
    "        2. factors - Number of latent factors\n",
    "        3. epochs - Number of iterations of ALS over the training data\n",
    "        4. conf_func - Confidence function\n",
    "        5. alpha - Confidence parameter\n",
    "        6. lmbda - Regularization parameter\n",
    "        \n",
    "    Output : model\n",
    "    \"\"\"\n",
    "    model = implicit.als.AlternatingLeastSquares(factors = factors, regularization = lmbda, iterations = epochs)\n",
    "    if conf_func == \"linear\" :\n",
    "        model.fit(alpha * data)\n",
    "    else :\n",
    "        print(\"{} is not a valid choice for conf_func. Choose one of the following : 'linear'\".format(conf_func))\n",
    "        return(None)\n",
    "    return(model)"
   ]
  },
  {
   "cell_type": "code",
   "execution_count": 17,
   "metadata": {},
   "outputs": [],
   "source": [
    "def getPrecisionRecall(model, sid, N, train, test, data_useritem) :\n",
    "    \"\"\"\n",
    "    Returns the precision@N and recall@N for given userid : 'sid'\n",
    "    Input :\n",
    "        1. model - Implicit Matrix Factorization trained model\n",
    "        2. sid - User id whose precision and recall is to be calculated\n",
    "        3. N - N parameter in precision@N and recall@N\n",
    "        4. train\n",
    "        5. test\n",
    "        6. data_useritem - User x Item Sparse Matrix (implicit library requires this to discard already played itemids) \n",
    "    \"\"\"\n",
    "    #masked_aid, full_aid = getMaskedAid(sid, train, test)\n",
    "    #recommendations = model.recommend(sid, data_useritem, N)\n",
    "    #recommended_aid = [aid for aid, score in recommendations]\n",
    "    #precision = len(set(masked_aid) & set(recommended_aid)) / N\n",
    "    #recall = len(set(masked_aid) & set(recommended_aid)) / len(masked_aid)\n",
    "    #return(precision, recall)"
   ]
  },
  {
   "cell_type": "code",
   "execution_count": 18,
   "metadata": {},
   "outputs": [],
   "source": [
    "def getMeanPrecisionRecall(model, N, train, test, data_useritem) :\n",
    "    \"\"\"\n",
    "    Returns the User-Average Precision@N and User-Average Recall@N\n",
    "    \"\"\"\n",
    "    pass"
   ]
  },
  {
   "cell_type": "code",
   "execution_count": 19,
   "metadata": {},
   "outputs": [],
   "source": [
    "def gridSearch(params) :\n",
    "    \"\"\"\n",
    "    Performs a grid-search on input params\n",
    "    \"\"\"\n",
    "    pass"
   ]
  },
  {
   "cell_type": "markdown",
   "metadata": {},
   "source": [
    "#### Coarse Grid Search\n",
    "We perform a coarse grid search on the parameters. Based on the results, we fine-tune the parameters manually."
   ]
  },
  {
   "cell_type": "code",
   "execution_count": null,
   "metadata": {},
   "outputs": [],
   "source": []
  },
  {
   "cell_type": "markdown",
   "metadata": {},
   "source": [
    "#### Grid Search Observations :"
   ]
  },
  {
   "cell_type": "code",
   "execution_count": null,
   "metadata": {},
   "outputs": [],
   "source": []
  },
  {
   "cell_type": "markdown",
   "metadata": {},
   "source": [
    "#### Choice of Parameters :"
   ]
  },
  {
   "cell_type": "code",
   "execution_count": null,
   "metadata": {},
   "outputs": [],
   "source": []
  },
  {
   "cell_type": "markdown",
   "metadata": {},
   "source": [
    "#### Mean User-Average Precision@N and Recall@N vs Factors :"
   ]
  },
  {
   "cell_type": "code",
   "execution_count": null,
   "metadata": {},
   "outputs": [],
   "source": []
  },
  {
   "cell_type": "markdown",
   "metadata": {},
   "source": [
    "#### Mean User-Average Precision@N and Recall@N for Optimal Choice of Parameters vs N :"
   ]
  },
  {
   "cell_type": "code",
   "execution_count": null,
   "metadata": {},
   "outputs": [],
   "source": []
  },
  {
   "cell_type": "markdown",
   "metadata": {},
   "source": [
    "#### Game Similarity Observations :"
   ]
  },
  {
   "cell_type": "code",
   "execution_count": null,
   "metadata": {},
   "outputs": [],
   "source": []
  },
  {
   "cell_type": "markdown",
   "metadata": {},
   "source": [
    "#### Explanation for Recommendations :"
   ]
  },
  {
   "cell_type": "code",
   "execution_count": null,
   "metadata": {},
   "outputs": [],
   "source": []
  },
  {
   "cell_type": "code",
   "execution_count": 38,
   "metadata": {},
   "outputs": [
    {
     "name": "stderr",
     "output_type": "stream",
     "text": [
      "/home/ieshan/anaconda3/lib/python3.6/site-packages/numpy/lib/arraysetops.py:472: FutureWarning: elementwise comparison failed; returning scalar instead, but in the future will perform elementwise comparison\n",
      "  mask |= (ar1 == a)\n"
     ]
    }
   ],
   "source": [
    "df = pd.read_csv(\"data/final_data.csv\", index_col = 0)"
   ]
  },
  {
   "cell_type": "code",
   "execution_count": 47,
   "metadata": {},
   "outputs": [],
   "source": [
    "coded_df, steamid_to_sid, sid_to_steamid, appid_to_aid, aid_to_appid = constructCodes(df)\n",
    "train, val, test = getSplit(coded_df, 0.45, 0.35)"
   ]
  },
  {
   "cell_type": "code",
   "execution_count": 48,
   "metadata": {},
   "outputs": [
    {
     "data": {
      "text/plain": [
       "0.4499851085802424"
      ]
     },
     "execution_count": 48,
     "metadata": {},
     "output_type": "execute_result"
    }
   ],
   "source": [
    "len(train) / len(df)"
   ]
  },
  {
   "cell_type": "code",
   "execution_count": 49,
   "metadata": {},
   "outputs": [
    {
     "data": {
      "text/plain": [
       "1.0"
      ]
     },
     "execution_count": 49,
     "metadata": {},
     "output_type": "execute_result"
    }
   ],
   "source": [
    "len(test) / len(df)"
   ]
  },
  {
   "cell_type": "code",
   "execution_count": 50,
   "metadata": {},
   "outputs": [
    {
     "data": {
      "text/plain": [
       "0.8000282089496222"
      ]
     },
     "execution_count": 50,
     "metadata": {},
     "output_type": "execute_result"
    }
   ],
   "source": [
    "len(val) / len(df)"
   ]
  },
  {
   "cell_type": "code",
   "execution_count": null,
   "metadata": {},
   "outputs": [],
   "source": []
  }
 ],
 "metadata": {
  "kernelspec": {
   "display_name": "Python 3",
   "language": "python",
   "name": "python3"
  },
  "language_info": {
   "codemirror_mode": {
    "name": "ipython",
    "version": 3
   },
   "file_extension": ".py",
   "mimetype": "text/x-python",
   "name": "python",
   "nbconvert_exporter": "python",
   "pygments_lexer": "ipython3",
   "version": "3.6.5"
  }
 },
 "nbformat": 4,
 "nbformat_minor": 2
}
